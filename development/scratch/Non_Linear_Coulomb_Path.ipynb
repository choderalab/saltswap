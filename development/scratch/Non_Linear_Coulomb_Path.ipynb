{
 "cells": [
  {
   "cell_type": "code",
   "execution_count": 9,
   "metadata": {
    "collapsed": true
   },
   "outputs": [],
   "source": [
    "import numpy as np\n",
    "import matplotlib.pyplot as plt\n",
    "%matplotlib inline"
   ]
  },
  {
   "cell_type": "markdown",
   "metadata": {},
   "source": [
    "## Exploring the shape of different perturbation paths for NCMC\n",
    "Focusing on the partial charge perturbation, which is likely behind much of the work."
   ]
  },
  {
   "cell_type": "code",
   "execution_count": 48,
   "metadata": {
    "collapsed": false
   },
   "outputs": [],
   "source": [
    "npert = 20\n",
    "lin_frac = np.arange(float(npert+1))/npert\n",
    "q_oxy = -0.834    # Partial charge on oxygen\n",
    "q_cat = +1.0      # Partial charge on cation\n",
    "q_an = -1.0       # Partial charge on anion"
   ]
  },
  {
   "cell_type": "markdown",
   "metadata": {},
   "source": [
    "### Linear path"
   ]
  },
  {
   "cell_type": "markdown",
   "metadata": {},
   "source": [
    "The simplest perturbation path is linear:"
   ]
  },
  {
   "cell_type": "code",
   "execution_count": 49,
   "metadata": {
    "collapsed": false
   },
   "outputs": [
    {
     "name": "stdout",
     "output_type": "stream",
     "text": [
      "[-0.834  -0.7423 -0.6506 -0.5589 -0.4672 -0.3755 -0.2838 -0.1921 -0.1004\n",
      " -0.0087  0.083   0.1747  0.2664  0.3581  0.4498  0.5415  0.6332  0.7249\n",
      "  0.8166  0.9083  1.    ]\n"
     ]
    }
   ],
   "source": [
    "linear_path = q_oxy*(1 - lin_frac) + q_cat*lin_frac\n",
    "print linear_path"
   ]
  },
  {
   "cell_type": "markdown",
   "metadata": {},
   "source": [
    "We may require more points at the charged end. "
   ]
  },
  {
   "cell_type": "markdown",
   "metadata": {},
   "source": [
    "### Log path\n",
    "The gradient gradually descreases as the path progresses (gradient = $1/n$ for the nth step)"
   ]
  },
  {
   "cell_type": "code",
   "execution_count": 50,
   "metadata": {
    "collapsed": false
   },
   "outputs": [],
   "source": [
    "log_frac = np.log(np.arange(1,float(npert+2)))\n",
    "log_frac = log_frac/np.max(log_frac)\n",
    "\n",
    "log_path = q_oxy*(1 - log_frac) + q_cat*log_frac"
   ]
  },
  {
   "cell_type": "markdown",
   "metadata": {},
   "source": [
    "### Half sigmoid path"
   ]
  },
  {
   "cell_type": "code",
   "execution_count": 51,
   "metadata": {
    "collapsed": true
   },
   "outputs": [],
   "source": [
    "def logistic(params,x):\n",
    "    \"\"\" \n",
    "    Logistic function\n",
    "\n",
    "    Parameters\n",
    "    ----------\n",
    "    params : list or numpy array\n",
    "      the three parameters of the logistic function\n",
    "    x : numpy array\n",
    "      the explanatory variable\n",
    "   \n",
    "    Return\n",
    "    ------\n",
    "    numpy array\n",
    "      the output of the logistic function\n",
    "\n",
    "    \"\"\"\n",
    "    return params[0]/(1+np.exp(-x*params[1] - params[2])) "
   ]
  },
  {
   "cell_type": "code",
   "execution_count": 94,
   "metadata": {
    "collapsed": false
   },
   "outputs": [
    {
     "name": "stdout",
     "output_type": "stream",
     "text": [
      "[ 0.95257413  0.96267311  0.97068777  0.97702263  0.98201379  0.98593637\n",
      "  0.98901306  0.99142251  0.99330715  0.99477987  0.99592986  0.99682732\n",
      "  0.99752738  0.99807327  0.99849882  0.99883049  0.99908895  0.99929033\n",
      "  0.99944722  0.99956944  0.99966465]\n"
     ]
    }
   ],
   "source": [
    "sig_frac = logistic([1,5,3],lin_frac)\n",
    "sig_frac = sig_frac - np.min(sig_frac)\n",
    "sig_frac = sig_frac/np.max(sig_frac)\n",
    "\n",
    "sig_path = q_oxy*(1 - sig_frac) + q_cat*sig_frac"
   ]
  },
  {
   "cell_type": "markdown",
   "metadata": {},
   "source": [
    "## Viewing the paths\n",
    "Each path has a varying degree of 'slowness' with respect to the perturbation of charge. I've chosen the non-linear paths to be slower at the ionic end."
   ]
  },
  {
   "cell_type": "code",
   "execution_count": 98,
   "metadata": {
    "collapsed": false
   },
   "outputs": [
    {
     "data": {
      "image/png": "[encoded data removed]",
      "text/plain": [
       "<matplotlib.figure.Figure at 0x11210ae10>"
      ]
     },
     "metadata": {},
     "output_type": "display_data"
    }
   ],
   "source": [
    "plt.plot(fraction,linear_path)\n",
    "plt.plot(fraction,log_path)\n",
    "plt.plot(fraction,sig_path)\n",
    "plt.legend(('linear','logarithm','logistic'),loc=0)\n",
    "plt.show()"
   ]
  }
 ],
 "metadata": {
  "kernelspec": {
   "display_name": "Python 2",
   "language": "python",
   "name": "python2"
  },
  "language_info": {
   "codemirror_mode": {
    "name": "ipython",
    "version": 2
   },
   "file_extension": ".py",
   "mimetype": "text/x-python",
   "name": "python",
   "nbconvert_exporter": "python",
   "pygments_lexer": "ipython2",
   "version": "2.7.11"
  }
 },
 "nbformat": 4,
 "nbformat_minor": 0
}
