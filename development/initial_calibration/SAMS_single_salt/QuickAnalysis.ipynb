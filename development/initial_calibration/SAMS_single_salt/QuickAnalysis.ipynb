{
 "cells": [
  {
   "cell_type": "code",
   "execution_count": 1,
   "metadata": {
    "collapsed": true
   },
   "outputs": [],
   "source": [
    "import numpy as np\n",
    "from pymbar import bar, timeseries\n",
    "from saltswap import analysis_tools as at"
   ]
  },
  {
   "cell_type": "markdown",
   "metadata": {},
   "source": [
    "## Free energies from SAMS binary update schemes"
   ]
  },
  {
   "cell_type": "code",
   "execution_count": 2,
   "metadata": {
    "collapsed": false
   },
   "outputs": [
    {
     "name": "stdout",
     "output_type": "stream",
     "text": [
      "SAMS Delta F = 317.18 +/- 0.32 \n"
     ]
    }
   ],
   "source": [
    "deltafs_sams = np.array([317.006, 317.583, 316.958])\n",
    "mu = deltafs_sams.mean()\n",
    "stderr = 1.96 * deltafs_sams.std() / np.sqrt(len(deltafs_sams))\n",
    "print('SAMS Delta F = {0:.2f} +/- {1:.2f} '.format(mu, stderr))"
   ]
  },
  {
   "cell_type": "markdown",
   "metadata": {},
   "source": [
    "## Free energies from NCMC work update schemes\n",
    "\n",
    "In the `swapper` acceptance test the proposal to select water and salt for creation and deletion is accounted for. These can be considered as part of the work when comparing the to SAMS free energies. "
   ]
  },
  {
   "cell_type": "code",
   "execution_count": 3,
   "metadata": {
    "collapsed": true
   },
   "outputs": [],
   "source": [
    "def add_salt_factor(nwats, nsalt):\n",
    "    \"\"\"\n",
    "    The proposal probability for selecting two water molecules to swap with an anion and cation. \n",
    "    \"\"\"\n",
    "    return np.log(1.0 * nwats * (nwats - 1) / (nsalt + 1) / (nsalt + 1))\n",
    "\n",
    "def remove_salt_factor(nwats, nsalt):\n",
    "    \"\"\"\n",
    "    The proposal probability for selecting an anion and cation and swapping with two water molecules. \n",
    "    \"\"\"\n",
    "    return np.log(1.0 * nsalt * nsalt / (nwats + 1) / (nwats + 2))"
   ]
  },
  {
   "cell_type": "code",
   "execution_count": 4,
   "metadata": {
    "collapsed": false
   },
   "outputs": [
    {
     "name": "stdout",
     "output_type": "stream",
     "text": [
      "SAMS Delta F = -317.28 +/- 0.21 \n"
     ]
    }
   ],
   "source": [
    "nwats = 887  # The number of waters in these simulations\n",
    "\n",
    "deltafs_bar = []\n",
    "for i in (1, 2, 3):\n",
    "    work_add = at.read_work('work_add_data{0}.txt'.format(i))\n",
    "    work_rm = at.read_work('work_rm_data{0}.txt'.format(i))\n",
    "    indices = timeseries.subsampleCorrelatedData(work_add)\n",
    "    w_f = work_add[indices] - add_salt_factor(nwats, 0)\n",
    "    indices = timeseries.subsampleCorrelatedData(work_rm)\n",
    "    w_b = work_rm[indices] - remove_salt_factor(nwats - 1, 1)\n",
    "    deltafs_bar.append(bar.BAR(w_f, w_b, compute_uncertainty=False))\n",
    "\n",
    "deltafs_bar = np.array(deltafs_bar)\n",
    "mu = deltafs_bar.mean()\n",
    "stderr = 1.96 * deltafs_bar.std() / np.sqrt(len(deltafs_bar))\n",
    "print('SAMS Delta F = {0:.2f} +/- {1:.2f} '.format(mu, stderr))"
   ]
  },
  {
   "cell_type": "markdown",
   "metadata": {},
   "source": [
    "These numbers are in excellent agreement with the SAMS estimates. This implies the energy calculations and acceptance tests are working as they should."
   ]
  },
  {
   "cell_type": "code",
   "execution_count": null,
   "metadata": {
    "collapsed": true
   },
   "outputs": [],
   "source": []
  }
 ],
 "metadata": {
  "kernelspec": {
   "display_name": "Python 3",
   "language": "python",
   "name": "python3"
  },
  "language_info": {
   "codemirror_mode": {
    "name": "ipython",
    "version": 3
   },
   "file_extension": ".py",
   "mimetype": "text/x-python",
   "name": "python",
   "nbconvert_exporter": "python",
   "pygments_lexer": "ipython3",
   "version": "3.5.2"
  }
 },
 "nbformat": 4,
 "nbformat_minor": 2
}
