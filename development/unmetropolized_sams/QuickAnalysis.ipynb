{
 "cells": [
  {
   "cell_type": "code",
   "execution_count": 1,
   "metadata": {
    "collapsed": true
   },
   "outputs": [],
   "source": [
    "import numpy as np\n",
    "from pymbar import bar, timeseries\n",
    "from saltswap import analysis_tools as at\n",
    "import matplotlib.pyplot as plt\n",
    "%matplotlib inline"
   ]
  },
  {
   "cell_type": "markdown",
   "metadata": {},
   "source": [
    "## Free energies from NCMC work update schemes\n",
    "\n",
    "In the `swapper` acceptance test the proposal to select water and salt for creation and deletion is accounted for. These can be considered as part of the work when comparing the to SAMS free energies. "
   ]
  },
  {
   "cell_type": "code",
   "execution_count": 2,
   "metadata": {
    "collapsed": true
   },
   "outputs": [],
   "source": [
    "def add_salt_factor(nwats, nsalt):\n",
    "    \"\"\"\n",
    "    The proposal probability for selecting two water molecules to swap with an anion and cation. \n",
    "    \"\"\"\n",
    "    return np.log(1.0 * nwats * (nwats - 1) / (nsalt + 1) / (nsalt + 1))\n",
    "\n",
    "def remove_salt_factor(nwats, nsalt):\n",
    "    \"\"\"\n",
    "    The proposal probability for selecting an anion and cation and swapping with two water molecules. \n",
    "    \"\"\"\n",
    "    return np.log(1.0 * nsalt * nsalt / (nwats + 1) / (nwats + 2))"
   ]
  },
  {
   "cell_type": "markdown",
   "metadata": {},
   "source": [
    "# 1fs timestep"
   ]
  },
  {
   "cell_type": "markdown",
   "metadata": {},
   "source": [
    "## Free energies from SAMS binary update schemes"
   ]
  },
  {
   "cell_type": "code",
   "execution_count": 7,
   "metadata": {
    "collapsed": false
   },
   "outputs": [
    {
     "name": "stdout",
     "output_type": "stream",
     "text": [
      "SAMS Delta F = 320.96 +/- 1.36 \n"
     ]
    }
   ],
   "source": [
    "deltafs_sams = np.array([322.068, 321.511, 319.288])\n",
    "mu = deltafs_sams.mean()\n",
    "stderr = 1.96 * deltafs_sams.std() / np.sqrt(len(deltafs_sams))\n",
    "print('SAMS Delta F = {0:.2f} +/- {1:.2f} '.format(mu, stderr))"
   ]
  },
  {
   "cell_type": "code",
   "execution_count": 4,
   "metadata": {
    "collapsed": false
   },
   "outputs": [
    {
     "name": "stdout",
     "output_type": "stream",
     "text": [
      "\n",
      "Work add standard deviation = 16.8841337338\n",
      "Work add standard deviation = 16.8604891099\n",
      "BAR results = (-322.1143044651858, 0.044273277919614967)\n",
      "\n",
      "Work add standard deviation = 16.7039672626\n",
      "Work add standard deviation = 17.0225794919\n",
      "BAR results = (-321.45415042833673, 0.044367415038263879)\n",
      "\n",
      "Work add standard deviation = 16.8099005208\n",
      "Work add standard deviation = 16.8890370916\n",
      "BAR results = (-319.36548704289504, 0.045473166037346129)\n",
      "BAR Delta F = -320.98 +/- 1.33 \n"
     ]
    }
   ],
   "source": [
    "nwats = 887  # The number of waters in these simulations\n",
    "\n",
    "deltafs_bar = []\n",
    "for i in (1, 2, 3):\n",
    "    work_add = at.read_work('1fs_timestep/work_add_data{0}.txt'.format(i))\n",
    "    print('\\nWork add standard deviation =', np.std(work_add))\n",
    "    work_rm = at.read_work('1fs_timestep/work_rm_data{0}.txt'.format(i))\n",
    "    print('Work add standard deviation =', np.std(work_rm))\n",
    "    indices = timeseries.subsampleCorrelatedData(work_add)\n",
    "    w_f = work_add[indices] - add_salt_factor(nwats, 0)\n",
    "    indices = timeseries.subsampleCorrelatedData(work_rm)\n",
    "    w_b = work_rm[indices] - remove_salt_factor(nwats - 1, 1)\n",
    "    results = bar.BAR(w_f, w_b, compute_uncertainty=True)\n",
    "    print('BAR results =', results)\n",
    "    deltafs_bar.append(results[0])\n",
    "\n",
    "deltafs_bar = np.array(deltafs_bar)\n",
    "mu = deltafs_bar.mean()\n",
    "stderr = 1.96 * deltafs_bar.std() / np.sqrt(len(deltafs_bar))\n",
    "print('BAR Delta F = {0:.2f} +/- {1:.2f} '.format(mu, stderr))"
   ]
  },
  {
   "cell_type": "markdown",
   "metadata": {},
   "source": [
    "These numbers are in excellent agreement with the SAMS estimates. This implies the energy calculations and acceptance tests are working as they should."
   ]
  },
  {
   "cell_type": "markdown",
   "metadata": {},
   "source": [
    "# 2fs timestep"
   ]
  },
  {
   "cell_type": "markdown",
   "metadata": {},
   "source": [
    "## Free energies from SAMS binary update schemes"
   ]
  },
  {
   "cell_type": "code",
   "execution_count": 8,
   "metadata": {
    "collapsed": false
   },
   "outputs": [
    {
     "name": "stdout",
     "output_type": "stream",
     "text": [
      "SAMS Delta F = 317.55 +/- 1.02 \n"
     ]
    }
   ],
   "source": [
    "deltafs_sams = np.array([317.210, 316.656, 318.791])\n",
    "mu = deltafs_sams.mean()\n",
    "stderr = 1.96 * deltafs_sams.std() / np.sqrt(len(deltafs_sams))\n",
    "print('SAMS Delta F = {0:.2f} +/- {1:.2f} '.format(mu, stderr))"
   ]
  },
  {
   "cell_type": "code",
   "execution_count": 6,
   "metadata": {
    "collapsed": false
   },
   "outputs": [
    {
     "name": "stdout",
     "output_type": "stream",
     "text": [
      "\n",
      "Work add standard deviation = 17.6823753151\n",
      "Work add standard deviation = 17.0756294051\n",
      "BAR results = (-317.27574886004226, 0.041746752897778475)\n",
      "\n",
      "Work add standard deviation = 16.4847532759\n",
      "Work add standard deviation = 17.7575607662\n",
      "BAR results = (-316.57998048151478, 0.040498331483956221)\n",
      "\n",
      "Work add standard deviation = 17.2386157228\n",
      "Work add standard deviation = 17.8836202063\n",
      "BAR results = (-318.71937053002915, 0.041242992980367141)\n",
      "BAR Delta F = -317.53 +/- 1.01 \n"
     ]
    }
   ],
   "source": [
    "nwats = 887  # The number of waters in these simulations\n",
    "\n",
    "deltafs_bar = []\n",
    "for i in (1, 2, 3):\n",
    "    work_add = at.read_work('2fs_timestep/work_add_data{0}.txt'.format(i))\n",
    "    print('\\nWork add standard deviation =', np.std(work_add))\n",
    "    work_rm = at.read_work('2fs_timestep/work_rm_data{0}.txt'.format(i))\n",
    "    print('Work add standard deviation =', np.std(work_rm))\n",
    "    indices = timeseries.subsampleCorrelatedData(work_add)\n",
    "    w_f = work_add[indices] - add_salt_factor(nwats, 0)\n",
    "    indices = timeseries.subsampleCorrelatedData(work_rm)\n",
    "    w_b = work_rm[indices] - remove_salt_factor(nwats - 1, 1)\n",
    "    results = bar.BAR(w_f, w_b, compute_uncertainty=True)\n",
    "    print('BAR results =', results)\n",
    "    deltafs_bar.append(results[0])\n",
    "    \n",
    "deltafs_bar = np.array(deltafs_bar)\n",
    "mu = deltafs_bar.mean()\n",
    "stderr = 1.96 * deltafs_bar.std() / np.sqrt(len(deltafs_bar))\n",
    "print('BAR Delta F = {0:.2f} +/- {1:.2f} '.format(mu, stderr))"
   ]
  },
  {
   "cell_type": "code",
   "execution_count": null,
   "metadata": {
    "collapsed": true
   },
   "outputs": [],
   "source": []
  }
 ],
 "metadata": {
  "kernelspec": {
   "display_name": "Python 3",
   "language": "python",
   "name": "python3"
  },
  "language_info": {
   "codemirror_mode": {
    "name": "ipython",
    "version": 3
   },
   "file_extension": ".py",
   "mimetype": "text/x-python",
   "name": "python",
   "nbconvert_exporter": "python",
   "pygments_lexer": "ipython3",
   "version": "3.5.2"
  }
 },
 "nbformat": 4,
 "nbformat_minor": 2
}
