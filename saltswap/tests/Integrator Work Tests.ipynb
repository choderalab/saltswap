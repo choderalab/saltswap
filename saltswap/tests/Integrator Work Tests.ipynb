{
 "cells": [
  {
   "cell_type": "code",
   "execution_count": 1,
   "metadata": {
    "collapsed": false
   },
   "outputs": [],
   "source": [
    "import numpy as np\n",
    "import matplotlib.pyplot as plt\n",
    "%matplotlib inline\n",
    "\n",
    "from simtk import openmm, unit\n",
    "from simtk.openmm import app\n",
    "from openmmtools.testsystems import WaterBox\n",
    "from saltswap.swapper import Swapper\n",
    "\n",
    "from openmmtools.integrators import GeodesicBAOABIntegrator\n",
    "from saltswap.integrators import NCMCGeodesicBAOAB, NCMCMetpropolizedGeodesicBAOAB, GHMCIntegrator"
   ]
  },
  {
   "cell_type": "markdown",
   "metadata": {},
   "source": [
    "# Testing the protocol work evaluations for SaltSwap NCMC integrators"
   ]
  },
  {
   "cell_type": "markdown",
   "metadata": {},
   "source": [
    "The test system will be a box of water"
   ]
  },
  {
   "cell_type": "code",
   "execution_count": 2,
   "metadata": {
    "collapsed": false
   },
   "outputs": [],
   "source": [
    "size = 20.0*unit.angstrom     # The length of the edges of the water box.\n",
    "temperature = 300*unit.kelvin\n",
    "pressure = 1*unit.atmospheres\n",
    "delta_chem = 317.0\n",
    "wbox = WaterBox(box_edge=size, nonbondedMethod=app.PME, cutoff=9*unit.angstrom, ewaldErrorTolerance=1E-5)\n",
    "wbox.system.addForce(openmm.MonteCarloBarostat(pressure, temperature))\n",
    "nequil = 100"
   ]
  },
  {
   "cell_type": "markdown",
   "metadata": {},
   "source": [
    "## Compound integrator with GHMC performing NCMC\n",
    "### Using the CPU platform"
   ]
  },
  {
   "cell_type": "code",
   "execution_count": 3,
   "metadata": {
    "collapsed": true
   },
   "outputs": [],
   "source": [
    "platform_name = 'CPU'"
   ]
  },
  {
   "cell_type": "code",
   "execution_count": 4,
   "metadata": {
    "collapsed": true
   },
   "outputs": [],
   "source": [
    "compound_integrator = openmm.CompoundIntegrator()\n",
    "# The integrator to perform the equilibrium dynamics\n",
    "compound_integrator.addIntegrator(GeodesicBAOABIntegrator(temperature=temperature, K_r=2, collision_rate=5.0 / unit.picosecond, timestep=2.0 * unit.femtosecond))\n",
    "# The NCMC propagator\n",
    "compound_integrator.addIntegrator(GHMCIntegrator(temperature=temperature, collision_rate=5.0 / unit.picosecond, timestep=1.0 * unit.femtosecond, nsteps=1))\n",
    "\n",
    "# Creating the context\n",
    "platform = openmm.Platform.getPlatformByName(platform_name)\n",
    "context = openmm.Context(wbox.system, compound_integrator, platform)\n",
    "context.setPositions(wbox.positions)\n",
    "\n",
    "# Running some equilibriun dynamics\n",
    "compound_integrator.setCurrentIntegrator(0)\n",
    "compound_integrator.step(nequil)\n",
    "\n",
    "# Creating the class to perform the `saltswap` moves.\n",
    "salinator = Swapper(system=wbox.system, topology=wbox.topology, temperature=temperature, delta_chem=delta_chem,\n",
    "                integrator=compound_integrator, pressure=pressure, npert=50, nprop=1)"
   ]
  },
  {
   "cell_type": "markdown",
   "metadata": {},
   "source": [
    "Comparing the calculated protocol work for adding salt with `getState` and the internal calculation with the custom integrator."
   ]
  },
  {
   "cell_type": "code",
   "execution_count": 5,
   "metadata": {
    "collapsed": true
   },
   "outputs": [],
   "source": [
    "nrepeats = 100\n",
    "internal_work = np.zeros(nrepeats)\n",
    "external_work = np.zeros(nrepeats)\n",
    "for i in range(nrepeats):\n",
    "    in_wrk, ex_wrk = salinator.test_ncmc(context)\n",
    "    internal_work[i] = in_wrk\n",
    "    external_work[i] = ex_wrk"
   ]
  },
  {
   "cell_type": "markdown",
   "metadata": {},
   "source": [
    "Plotting and getting the RMSD between the estimates:"
   ]
  },
  {
   "cell_type": "code",
   "execution_count": 6,
   "metadata": {
    "collapsed": false
   },
   "outputs": [
    {
     "data": {
      "image/png": "[encoded data removed]",
      "text/plain": [
       "<matplotlib.figure.Figure at 0x10f079b70>"
      ]
     },
     "metadata": {},
     "output_type": "display_data"
    },
    {
     "name": "stdout",
     "output_type": "stream",
     "text": [
      "RMSD between work calculations = 1.69\n"
     ]
    }
   ],
   "source": [
    "x = y = np.linspace(internal_work.min(),internal_work.max())\n",
    "plt.scatter(internal_work,external_work)\n",
    "plt.plot(x,y, color='k', ls='--')\n",
    "plt.title('Comparison of protocol work calculations for {0} platform'.format(platform_name))\n",
    "plt.xlabel('Internal work')\n",
    "plt.ylabel('External work')\n",
    "plt.show()\n",
    "\n",
    "print('RMSD between work calculations = {0:.2f}'.format(np.sqrt(((internal_work - external_work)**2).mean())))"
   ]
  },
  {
   "cell_type": "markdown",
   "metadata": {},
   "source": [
    "### Using the Reference platform"
   ]
  },
  {
   "cell_type": "code",
   "execution_count": 7,
   "metadata": {
    "collapsed": true
   },
   "outputs": [],
   "source": [
    "platform_name = 'Reference'"
   ]
  },
  {
   "cell_type": "code",
   "execution_count": 8,
   "metadata": {
    "collapsed": false
   },
   "outputs": [],
   "source": [
    "compound_integrator = openmm.CompoundIntegrator()\n",
    "# The integrator to perform the equilibrium dynamics\n",
    "compound_integrator.addIntegrator(GeodesicBAOABIntegrator(temperature=temperature, K_r=2, collision_rate=5.0 / unit.picosecond, timestep=2.0 * unit.femtosecond))\n",
    "# The NCMC propagator\n",
    "compound_integrator.addIntegrator(GHMCIntegrator(temperature=temperature, collision_rate=5.0 / unit.picosecond, timestep=1.0 * unit.femtosecond, nsteps=1))\n",
    "\n",
    "# Creating the context\n",
    "platform = openmm.Platform.getPlatformByName(platform_name)\n",
    "context = openmm.Context(wbox.system, compound_integrator, platform)\n",
    "context.setPositions(wbox.positions)\n",
    "\n",
    "# Running some equilibriun dynamics\n",
    "compound_integrator.setCurrentIntegrator(0)\n",
    "compound_integrator.step(nequil)\n",
    "\n",
    "# Creating the class to perform the `saltswap` moves.\n",
    "salinator = Swapper(system=wbox.system, topology=wbox.topology, temperature=temperature, delta_chem=delta_chem,\n",
    "                integrator=compound_integrator, pressure=pressure, npert=50, nprop=1)\n"
   ]
  },
  {
   "cell_type": "markdown",
   "metadata": {},
   "source": [
    "Comparing the calculated protocol work for adding salt with `getState` and the internal calculation with the custom integrator."
   ]
  },
  {
   "cell_type": "code",
   "execution_count": 9,
   "metadata": {
    "collapsed": false
   },
   "outputs": [],
   "source": [
    "nrepeats = 100\n",
    "internal_work = np.zeros(nrepeats)\n",
    "external_work = np.zeros(nrepeats)\n",
    "for i in range(nrepeats):\n",
    "    in_wrk, ex_wrk = salinator.test_ncmc(context)\n",
    "    internal_work[i] = in_wrk\n",
    "    external_work[i] = ex_wrk"
   ]
  },
  {
   "cell_type": "markdown",
   "metadata": {},
   "source": [
    "Plotting and getting the RMSD between the estimates:"
   ]
  },
  {
   "cell_type": "code",
   "execution_count": 10,
   "metadata": {
    "collapsed": false
   },
   "outputs": [
    {
     "data": {
      "image/png": "[encoded data removed]",
      "text/plain": [
       "<matplotlib.figure.Figure at 0x10f0f3898>"
      ]
     },
     "metadata": {},
     "output_type": "display_data"
    },
    {
     "name": "stdout",
     "output_type": "stream",
     "text": [
      "RMSD between work calculations = 1.28\n"
     ]
    }
   ],
   "source": [
    "x = y = np.linspace(internal_work.min(),internal_work.max())\n",
    "plt.scatter(internal_work,external_work)\n",
    "plt.plot(x,y, color='k', ls='--')\n",
    "plt.title('Comparison of protocol work calculations for {0} platform'.format(platform_name))\n",
    "plt.xlabel('Internal work')\n",
    "plt.ylabel('External work')\n",
    "plt.show()\n",
    "\n",
    "print('RMSD between work calculations = {0:.2f}'.format(np.sqrt(((internal_work - external_work)**2).mean())))"
   ]
  },
  {
   "cell_type": "code",
   "execution_count": 11,
   "metadata": {
    "collapsed": false
   },
   "outputs": [
    {
     "name": "stdout",
     "output_type": "stream",
     "text": [
      "RMSD = 1.279 kJ/mol\n"
     ]
    }
   ],
   "source": [
    "print('RMSD = {0:.3f} kJ/mol'.format(np.sqrt(((internal_work - external_work)**2).mean())))"
   ]
  },
  {
   "cell_type": "markdown",
   "metadata": {},
   "source": [
    "## Compound integrator with gBAOAB performing NCMC"
   ]
  },
  {
   "cell_type": "markdown",
   "metadata": {},
   "source": [
    "### Using the CPU platform"
   ]
  },
  {
   "cell_type": "code",
   "execution_count": 3,
   "metadata": {
    "collapsed": true
   },
   "outputs": [],
   "source": [
    "platform_name = 'CPU'"
   ]
  },
  {
   "cell_type": "code",
   "execution_count": 4,
   "metadata": {
    "collapsed": true
   },
   "outputs": [],
   "source": [
    "compound_integrator = openmm.CompoundIntegrator()\n",
    "# The integrator to perform the equilibrium dynamics\n",
    "compound_integrator.addIntegrator(GeodesicBAOABIntegrator(temperature=temperature, K_r=2, collision_rate=5.0 / unit.picosecond, timestep=2.0 * unit.femtosecond))\n",
    "# The NCMC propagator\n",
    "compound_integrator.addIntegrator(NCMCGeodesicBAOAB(temperature=temperature, collision_rate=5.0 / unit.picosecond, timestep=1.0 * unit.femtosecond))\n",
    "\n",
    "# Creating the context\n",
    "platform = openmm.Platform.getPlatformByName(platform_name)\n",
    "context = openmm.Context(wbox.system, compound_integrator, platform)\n",
    "context.setPositions(wbox.positions)\n",
    "\n",
    "# Running some equilibriun dynamics\n",
    "compound_integrator.setCurrentIntegrator(0)\n",
    "compound_integrator.step(nequil)\n",
    "\n",
    "# Creating the class to perform the `saltswap` moves.\n",
    "salinator = Swapper(system=wbox.system, topology=wbox.topology, temperature=temperature, delta_chem=delta_chem,\n",
    "                integrator=compound_integrator, pressure=pressure, npert=50, nprop=1)"
   ]
  },
  {
   "cell_type": "markdown",
   "metadata": {},
   "source": [
    "Comparing the calculated protocol work for adding salt with `getState` and the internal calculation with the custom integrator."
   ]
  },
  {
   "cell_type": "code",
   "execution_count": 5,
   "metadata": {
    "collapsed": true
   },
   "outputs": [],
   "source": [
    "nrepeats = 100\n",
    "internal_work = np.zeros(nrepeats)\n",
    "external_work = np.zeros(nrepeats)\n",
    "for i in range(nrepeats):\n",
    "    in_wrk, ex_wrk = salinator.test_ncmc(context)\n",
    "    internal_work[i] = in_wrk\n",
    "    external_work[i] = ex_wrk"
   ]
  },
  {
   "cell_type": "code",
   "execution_count": 6,
   "metadata": {
    "collapsed": false
   },
   "outputs": [
    {
     "data": {
      "image/png": "[encoded data removed]",
      "text/plain": [
       "<matplotlib.figure.Figure at 0x10ef977f0>"
      ]
     },
     "metadata": {},
     "output_type": "display_data"
    },
    {
     "name": "stdout",
     "output_type": "stream",
     "text": [
      "RMSD between work calculations = 1.90\n"
     ]
    }
   ],
   "source": [
    "x = y = np.linspace(internal_work.min(),internal_work.max())\n",
    "plt.scatter(internal_work,external_work)\n",
    "plt.plot(x,y, color='k', ls='--')\n",
    "plt.title('Comparison of protocol work calculations for {0} platform'.format(platform_name))\n",
    "plt.xlabel('Internal work')\n",
    "plt.ylabel('External work')\n",
    "plt.show()\n",
    "\n",
    "print('RMSD between work calculations = {0:.2f}'.format(np.sqrt(((internal_work - external_work)**2).mean())))"
   ]
  },
  {
   "cell_type": "markdown",
   "metadata": {},
   "source": [
    "### Using the Reference platform"
   ]
  },
  {
   "cell_type": "code",
   "execution_count": 3,
   "metadata": {
    "collapsed": true
   },
   "outputs": [],
   "source": [
    "platform_name = 'Reference'"
   ]
  },
  {
   "cell_type": "code",
   "execution_count": 4,
   "metadata": {
    "collapsed": true
   },
   "outputs": [],
   "source": [
    "compound_integrator = openmm.CompoundIntegrator()\n",
    "# The integrator to perform the equilibrium dynamics\n",
    "compound_integrator.addIntegrator(GeodesicBAOABIntegrator(temperature=temperature, K_r=2, collision_rate=5.0 / unit.picosecond, timestep=2.0 * unit.femtosecond))\n",
    "# The NCMC propagator\n",
    "compound_integrator.addIntegrator(NCMCGeodesicBAOAB(temperature=temperature, collision_rate=5.0 / unit.picosecond, timestep=1.0 * unit.femtosecond))\n",
    "\n",
    "# Creating the context\n",
    "platform = openmm.Platform.getPlatformByName(platform_name)\n",
    "context = openmm.Context(wbox.system, compound_integrator, platform)\n",
    "context.setPositions(wbox.positions)\n",
    "\n",
    "# Running some equilibriun dynamics\n",
    "compound_integrator.setCurrentIntegrator(0)\n",
    "compound_integrator.step(nequil)\n",
    "\n",
    "# Creating the class to perform the `saltswap` moves.\n",
    "salinator = Swapper(system=wbox.system, topology=wbox.topology, temperature=temperature, delta_chem=delta_chem,\n",
    "                integrator=compound_integrator, pressure=pressure, npert=50, nprop=1)"
   ]
  },
  {
   "cell_type": "markdown",
   "metadata": {},
   "source": [
    "Comparing the calculated protocol work for adding salt with `getState` and the internal calculation with the custom integrator."
   ]
  },
  {
   "cell_type": "code",
   "execution_count": 5,
   "metadata": {
    "collapsed": true
   },
   "outputs": [],
   "source": [
    "nrepeats = 100\n",
    "internal_work = np.zeros(nrepeats)\n",
    "external_work = np.zeros(nrepeats)\n",
    "for i in range(nrepeats):\n",
    "    in_wrk, ex_wrk = salinator.test_ncmc(context)\n",
    "    internal_work[i] = in_wrk\n",
    "    external_work[i] = ex_wrk"
   ]
  },
  {
   "cell_type": "code",
   "execution_count": 6,
   "metadata": {
    "collapsed": false
   },
   "outputs": [
    {
     "data": {
      "image/png": "[encoded data removed]",
      "text/plain": [
       "<matplotlib.figure.Figure at 0x10ef977b8>"
      ]
     },
     "metadata": {},
     "output_type": "display_data"
    },
    {
     "name": "stdout",
     "output_type": "stream",
     "text": [
      "RMSD between work calculations = 1.62\n"
     ]
    }
   ],
   "source": [
    "x = y = np.linspace(internal_work.min(),internal_work.max())\n",
    "plt.scatter(internal_work,external_work)\n",
    "plt.plot(x,y, color='k', ls='--')\n",
    "plt.title('Comparison of protocol work calculations for {0} platform'.format(platform_name))\n",
    "plt.xlabel('Internal work')\n",
    "plt.ylabel('External work')\n",
    "plt.show()\n",
    "\n",
    "print('RMSD between work calculations = {0:.2f}'.format(np.sqrt(((internal_work - external_work)**2).mean())))"
   ]
  },
  {
   "cell_type": "markdown",
   "metadata": {},
   "source": [
    "## Compound integrator with metropolized gBAOAB performing NCMC"
   ]
  },
  {
   "cell_type": "code",
   "execution_count": 9,
   "metadata": {
    "collapsed": true
   },
   "outputs": [],
   "source": [
    "compound_integrator = openmm.CompoundIntegrator()\n",
    "# The integrator to perform the equilibrium dynamics\n",
    "compound_integrator.addIntegrator(GeodesicBAOABIntegrator(temperature=temperature, K_r=2, collision_rate=5.0 / unit.picosecond, timestep=2.0 * unit.femtosecond))\n",
    "# The NCMC propagator\n",
    "compound_integrator.addIntegrator(NCMCMetpropolizedGeodesicBAOAB(temperature=temperature, collision_rate=5.0 / unit.picosecond, timestep=1.0 * unit.femtosecond))\n",
    "\n",
    "# Creating the context\n",
    "context = openmm.Context(wbox.system, compound_integrator)\n",
    "context.setPositions(wbox.positions)\n",
    "\n",
    "# Running some equilibriun dynamics\n",
    "compound_integrator.setCurrentIntegrator(0)\n",
    "compound_integrator.step(nequil)\n",
    "\n",
    "# Creating the class to perform the `saltswap` moves.\n",
    "salinator = Swapper(system=wbox.system, topology=wbox.topology, temperature=temperature, delta_chem=delta_chem,\n",
    "                integrator=compound_integrator, pressure=pressure, npert=50, nprop=1)"
   ]
  },
  {
   "cell_type": "code",
   "execution_count": 10,
   "metadata": {
    "collapsed": true
   },
   "outputs": [],
   "source": [
    "nrepeats = 100\n",
    "internal_work = np.zeros(nrepeats)\n",
    "external_work = np.zeros(nrepeats)\n",
    "for i in range(nrepeats):\n",
    "    in_wrk, ex_wrk = salinator.test_ncmc(context)\n",
    "    internal_work[i] = in_wrk\n",
    "    external_work[i] = ex_wrk"
   ]
  },
  {
   "cell_type": "code",
   "execution_count": 11,
   "metadata": {
    "collapsed": false
   },
   "outputs": [
    {
     "data": {
      "image/png": "[encoded data removed]",
      "text/plain": [
       "<matplotlib.figure.Figure at 0x10ecace80>"
      ]
     },
     "metadata": {},
     "output_type": "display_data"
    }
   ],
   "source": [
    "x = y = np.linspace(internal_work.min(),internal_work.max())\n",
    "plt.scatter(internal_work,external_work)\n",
    "plt.plot(x,y, color='k', ls='--')\n",
    "plt.title('Comparison of protocol work calculations for {0} platform'.format(platform_name))\n",
    "plt.xlabel('Internal work')\n",
    "plt.ylabel('External work')\n",
    "plt.show()\n",
    "\n",
    "print('RMSD between work calculations = {0:.2f}'.format(np.sqrt(((internal_work - external_work)**2).mean())))"
   ]
  },
  {
   "cell_type": "code",
   "execution_count": 10,
   "metadata": {
    "collapsed": false
   },
   "outputs": [
    {
     "data": {
      "text/plain": [
       "1.1683449428158217"
      ]
     },
     "execution_count": 10,
     "metadata": {},
     "output_type": "execute_result"
    }
   ],
   "source": [
    "np.sqrt(((internal_work - external_work)**2).mean())"
   ]
  },
  {
   "cell_type": "code",
   "execution_count": null,
   "metadata": {
    "collapsed": true
   },
   "outputs": [],
   "source": []
  }
 ],
 "metadata": {
  "kernelspec": {
   "display_name": "Python 3",
   "language": "python",
   "name": "python3"
  },
  "language_info": {
   "codemirror_mode": {
    "name": "ipython",
    "version": 3
   },
   "file_extension": ".py",
   "mimetype": "text/x-python",
   "name": "python",
   "nbconvert_exporter": "python",
   "pygments_lexer": "ipython3",
   "version": "3.5.2"
  }
 },
 "nbformat": 4,
 "nbformat_minor": 2
}
