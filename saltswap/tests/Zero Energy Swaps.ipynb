{
 "cells": [
  {
   "cell_type": "markdown",
   "metadata": {},
   "source": [
    "# Statistics of ideal mixing\n",
    "This notebook studies the sampling of the `SaltSwap` code by analyzing transformations where the change in total energy is exactly zero. In particular, the non-bonded parameters of the two TIP3P water molecules are \"exchanged\" with the non-bonded parameters of two TIP3P water molecules, which are labelled as 'cations' and 'anions'. For these _zero energy swaps_, the statistics of the number of molecules is known exactly. The ratio of water molecules to salt molecules is given by\n",
    "\n",
    "$$ \\exp\\left(-\\frac{\\beta\\Delta \\mu }{2}\\right) = \\frac{n_w}{n_s} $$\n",
    "\n",
    "where $\\beta\\Delta \\mu$ is the applied (dimentionless) difference in chemical potential between water and salt, and $n_w$ and $n_s$ are the number of water molecules and salt molecules respectively. The factor of 1/2 in the exponent comes from the fact that two water molecules are exchanged for two ions.\n",
    "\n",
    "Testing the agreement of `Saltswap` with the above will be achieved by recording the average ratio of the number of water molecules to anion-cation pairs during simulations at a range of different chemical potentials.\n",
    "\n",
    "The tests illustrated below are formulized in `test_zero_energy_swaps.py`.\n",
    "\n",
    "### Results\n",
    "* <a href='#instant'>Instantaneous swaps</a>\n",
    "* <a href='#ghmc'>Swaps with NCMC using a GHMC propagator</a>\n",
    "* <a href='#vv'>Swaps with NCMC using a velocity Verlet propagator</a>\n",
    "\n",
    "#### Note\n",
    "In order to account for the correlation in the MCMC chain, the error in average number ratio was be estimated using the standard error multiplied by the (square root of the) integrated autocorrelation time of the ratio. The integrated autocorrelation time is calculated with `pymbar.timeseries`. However, this was still found to underestimate the error, so a factor of 3 was applied to all estimated errors."
   ]
  },
  {
   "cell_type": "code",
   "execution_count": 1,
   "metadata": {
    "collapsed": false
   },
   "outputs": [],
   "source": [
    "# Loading modules\n",
    "from simtk import openmm, unit\n",
    "from simtk.openmm import app\n",
    "from openmmtools.testsystems import WaterBox\n",
    "import sys\n",
    "sys.path.append(\"../saltswap/\")\n",
    "from saltswap.mcmc_samplers import MCMCSampler\n",
    "import numpy as np\n",
    "import matplotlib.pyplot as plt\n",
    "from pymbar import timeseries as ts\n",
    "from time import time\n",
    "%matplotlib inline\n",
    "\n",
    "# Initializing pretty colours taken on 26th Nov 2015 from:\n",
    "#http://tableaufriction.blogspot.co.uk/2012/11/finally-you-can-use-tableau-data-colors.html\n",
    "# In order: blue, green, purple, orange. Hopefully a good compromise for colour-blind people.\n",
    "tableau4 = [(31, 119, 180),(44, 160, 44),(148,103,189),(255, 127, 14)]\n",
    "# Scale the RGB values to the [0, 1] range, which is the format matplotlib accepts.\n",
    "for i in range(len(tableau4)):\n",
    "    r, g, b = tableau4[i]\n",
    "    tableau4[i] = (r / 255., g / 255., b / 255.)"
   ]
  },
  {
   "cell_type": "markdown",
   "metadata": {},
   "source": [
    "** Initializing the simulation parameters **\n",
    "\n",
    "A box of water will be used as the test system."
   ]
  },
  {
   "cell_type": "code",
   "execution_count": 2,
   "metadata": {
    "collapsed": false
   },
   "outputs": [],
   "source": [
    "# Chemical potentials to test\n",
    "mus = [-1.0, 0.0, 1.0]      # The applied (delta) chemical potentials in multiples of kT.\n",
    "mus_axs = np.array(mus)\n",
    "\n",
    "# Creating the test system\n",
    "size = 15.0*unit.angstrom\n",
    "temperature = 300*unit.kelvin\n",
    "pressure = 1*unit.atmospheres\n",
    "cutoff = size/2 - 0.5*unit.angstrom   # The electrostatic cutoff. Must be at least half the system size\n",
    "\n",
    "# Sampling parameters\n",
    "Nsamps = 100                # The number of sampling blocks\n",
    "nattempts = 20              # The number of insertion/deletion attempts in a sampling block\n",
    "skip = 10                   # The number of intial sampling blocks to discard when computing averages (i.e. burn-in)\n",
    "\n",
    "# NCMC specific parameters\n",
    "npert = 10              # number of perturbation kernels \n",
    "nprop = 1               # number of propagation kernels per perturbation\n",
    "\n",
    "# Pre-assigment\n",
    "r_inst = np.zeros(len(mus))      # mean ratio of water to salt for instant switches\n",
    "r_ghmc = np.zeros(len(mus))      # mean ratio of water to salt for NCMC with GHMC\n",
    "r_vv = np.zeros(len(mus))        # mean ratio of water to salt for NCMC with velocity Verlet\n",
    "rstd_inst = np.zeros(len(mus))   # standard deviation of water to salt\n",
    "rstd_ghmc = np.zeros(len(mus))   \n",
    "rstd_vv = np.zeros(len(mus))     "
   ]
  },
  {
   "cell_type": "markdown",
   "metadata": {},
   "source": [
    "<a id='instant'></a>\n",
    "# Instanstaneous switching\n",
    "\n",
    "** Simulating **"
   ]
  },
  {
   "cell_type": "code",
   "execution_count": 3,
   "metadata": {
    "collapsed": false,
    "scrolled": true
   },
   "outputs": [
    {
     "name": "stdout",
     "output_type": "stream",
     "text": [
      "Instanstaneous switching test took 48.422720 seconds\n"
     ]
    }
   ],
   "source": [
    "t = time()\n",
    "for i in range(len(mus)):\n",
    "    wbox = WaterBox(box_edge=size,nonbondedMethod=app.PME,cutoff=cutoff)\n",
    "    dummystate = MCMCSampler(wbox.system,wbox.topology,wbox.positions,delta_chem=mus[i])\n",
    "    dummystate.saltswap.cation_parameters = dummystate.saltswap.water_parameters\n",
    "    dummystate.saltswap.anion_parameters = dummystate.saltswap.water_parameters\n",
    "    dummystate.saltswap._set_parampath()\n",
    "    ratio = []\n",
    "    for block in range(Nsamps):\n",
    "        dummystate.gen_label(saltsteps=nattempts)\n",
    "        (nwats,nsalt,junk) = dummystate.saltswap.get_identity_counts()\n",
    "        ratio.append(1.0*nwats/nsalt)\n",
    "    ratio = np.array(ratio)\n",
    "    r_inst[i] = ratio[skip:].mean()\n",
    "    try:\n",
    "        auto_cor = ts.integratedAutocorrelationTime(ratio[skip:])\n",
    "    except ts.ParameterError:\n",
    "        auto_cor = 2\n",
    "    rstd_inst[i] = ratio[skip:].std()*np.sqrt(auto_cor)\n",
    "print('Instanstaneous switching test took {0:f} seconds'.format(time() - t))"
   ]
  },
  {
   "cell_type": "markdown",
   "metadata": {},
   "source": [
    "** Plotting **"
   ]
  },
  {
   "cell_type": "code",
   "execution_count": 4,
   "metadata": {
    "collapsed": false
   },
   "outputs": [
    {
     "data": {
      "image/png": "[encoded data removed]",
      "text/plain": [
       "<matplotlib.figure.Figure at 0x10fd298d0>"
      ]
     },
     "metadata": {},
     "output_type": "display_data"
    }
   ],
   "source": [
    "mus_axs = np.array(mus)\n",
    "delta = 0.1\n",
    "xlims = (mus[0]-delta,mus[-1]+delta)\n",
    "x = np.linspace(xlims[0],xlims[1])\n",
    "\n",
    "plt.clf()\n",
    "plt.errorbar(mus_axs,r_inst,yerr=1.96*3*rstd_inst/np.sqrt(Nsamps),fmt='o',color=tableau4[0])\n",
    "plt.plot(x,np.exp(np.array(x)/2), 'r--',linewidth=2,color=tableau4[3])\n",
    "plt.xlim(xlims)\n",
    "plt.xlabel('Difference in dimentionless chemical potential')\n",
    "plt.ylabel('Ratio of Water to Salt concentration')\n",
    "plt.title('Instantaneous moves')\n",
    "plt.legend(['Analytical ratio','Average ratio, 95% confidence interval'],loc=2)\n",
    "plt.show()"
   ]
  },
  {
   "cell_type": "markdown",
   "metadata": {},
   "source": [
    "<a id='ghmc'></a>\n",
    "# NCMC with GHMC\n",
    "\n",
    "** Simulating **"
   ]
  },
  {
   "cell_type": "code",
   "execution_count": 5,
   "metadata": {
    "collapsed": false,
    "scrolled": true
   },
   "outputs": [
    {
     "name": "stdout",
     "output_type": "stream",
     "text": [
      "NCMC test with GHMC took 786.522630 seconds\n"
     ]
    }
   ],
   "source": [
    "t = time()\n",
    "for i in range(len(mus)):\n",
    "    wbox = WaterBox(box_edge=size,nonbondedMethod=app.PME,cutoff=cutoff)\n",
    "    dummystate = MCMCSampler(wbox.system,wbox.topology,wbox.positions,delta_chem=mus[i],npert=npert,nprop=nprop,propagator='GHMC')\n",
    "    dummystate.saltswap.cation_parameters = dummystate.saltswap.water_parameters\n",
    "    dummystate.saltswap.anion_parameters = dummystate.saltswap.water_parameters\n",
    "    dummystate.saltswap._set_parampath()\n",
    "    ratio = []\n",
    "    for block in range(Nsamps):\n",
    "        dummystate.gen_label(saltsteps=nattempts)\n",
    "        (nwats,nsalt,junk) = dummystate.saltswap.get_identity_counts()\n",
    "        ratio.append(1.0*nwats/nsalt)\n",
    "    ratio = np.array(ratio)\n",
    "    r_ghmc[i] = ratio[skip:].mean()\n",
    "    try:\n",
    "        auto_cor = ts.integratedAutocorrelationTime(ratio[skip:])\n",
    "    except ts.ParameterError:\n",
    "        auto_cor = 2\n",
    "    rstd_ghmc[i] = ratio[skip:].std()*np.sqrt(auto_cor)\n",
    "print('NCMC test with GHMC took {0:f} seconds'.format(time() - t))"
   ]
  },
  {
   "cell_type": "markdown",
   "metadata": {},
   "source": [
    "** Plotting **"
   ]
  },
  {
   "cell_type": "code",
   "execution_count": 6,
   "metadata": {
    "collapsed": false
   },
   "outputs": [
    {
     "data": {
      "image/png": "[encoded data removed]",
      "text/plain": [
       "<matplotlib.figure.Figure at 0x110708278>"
      ]
     },
     "metadata": {},
     "output_type": "display_data"
    }
   ],
   "source": [
    "delta = 0.1\n",
    "xlims = (mus[0]-delta,mus[-1]+delta)\n",
    "x = np.linspace(xlims[0],xlims[1])\n",
    "\n",
    "plt.clf()\n",
    "plt.errorbar(mus_axs,r_ghmc,yerr=1.96*3*rstd_ghmc/np.sqrt(Nsamps),fmt='o',color=tableau4[0])\n",
    "plt.plot(x,np.exp(np.array(x)/2), 'r--',linewidth=2,color=tableau4[3])\n",
    "plt.xlim(xlims)\n",
    "plt.xlabel('Difference in dimentionless chemical potential')\n",
    "plt.ylabel('Ratio of Water to Salt concentration')\n",
    "plt.title('Instantaneous moves')\n",
    "plt.legend(['Analytical ratio','Average ratio, 95% confidence interval'],loc=2)\n",
    "plt.show()"
   ]
  },
  {
   "cell_type": "code",
   "execution_count": null,
   "metadata": {
    "collapsed": true
   },
   "outputs": [],
   "source": []
  }
 ],
 "metadata": {
  "kernelspec": {
   "display_name": "Python 3",
   "language": "python",
   "name": "python3"
  },
  "language_info": {
   "codemirror_mode": {
    "name": "ipython",
    "version": 3
   },
   "file_extension": ".py",
   "mimetype": "text/x-python",
   "name": "python",
   "nbconvert_exporter": "python",
   "pygments_lexer": "ipython3",
   "version": "3.5.2"
  }
 },
 "nbformat": 4,
 "nbformat_minor": 0
}
