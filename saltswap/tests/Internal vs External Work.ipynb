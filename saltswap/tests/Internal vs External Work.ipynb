{
 "cells": [
  {
   "cell_type": "code",
   "execution_count": null,
   "metadata": {
    "collapsed": false
   },
   "outputs": [],
   "source": [
    "import numpy as np\n",
    "import matplotlib.pyplot as plt\n",
    "%matplotlib inline\n",
    "\n",
    "from simtk import openmm, unit\n",
    "from simtk.openmm import app\n",
    "from openmmtools.testsystems import WaterBox\n",
    "from saltswap.swapper import Swapper\n",
    "\n",
    "from openmmtools.integrators import GeodesicBAOABIntegrator\n",
    "from saltswap.integrators import NCMCGeodesicBAOAB, NCMCMetpropolizedGeodesicBAOAB, GHMCIntegrator"
   ]
  },
  {
   "cell_type": "code",
   "execution_count": null,
   "metadata": {
    "collapsed": false
   },
   "outputs": [],
   "source": [
    "print('OpenMM version: ', openmm.version.full_version)"
   ]
  },
  {
   "cell_type": "markdown",
   "metadata": {},
   "source": [
    "# Testing the protocol work evaluations for SaltSwap NCMC integrators"
   ]
  },
  {
   "cell_type": "markdown",
   "metadata": {},
   "source": [
    "The test system will be a box of water"
   ]
  },
  {
   "cell_type": "code",
   "execution_count": null,
   "metadata": {
    "collapsed": false
   },
   "outputs": [],
   "source": [
    "size = 20.0*unit.angstrom     # The length of the edges of the water box.\n",
    "temperature = 300*unit.kelvin\n",
    "pressure = 1*unit.atmospheres\n",
    "delta_chem = 317.0\n",
    "wbox = WaterBox(box_edge=size, nonbondedMethod=app.PME, cutoff=9*unit.angstrom, ewaldErrorTolerance=1E-5)\n",
    "wbox.system.addForce(openmm.MonteCarloBarostat(pressure, temperature))\n",
    "\n",
    "# Number of equilibrium steps\n",
    "nequil = 100\n",
    "# Number of perturbation steps\n",
    "npert = 50"
   ]
  },
  {
   "cell_type": "markdown",
   "metadata": {},
   "source": [
    "## Compound integrator with GHMC performing NCMC\n",
    "### Using the CPU platform"
   ]
  },
  {
   "cell_type": "code",
   "execution_count": null,
   "metadata": {
    "collapsed": true
   },
   "outputs": [],
   "source": [
    "platform_name = 'CPU'"
   ]
  },
  {
   "cell_type": "code",
   "execution_count": null,
   "metadata": {
    "collapsed": true
   },
   "outputs": [],
   "source": [
    "compound_integrator = openmm.CompoundIntegrator()\n",
    "# The integrator to perform the equilibrium dynamics\n",
    "compound_integrator.addIntegrator(GeodesicBAOABIntegrator(temperature=temperature, K_r=2, collision_rate=5.0 / unit.picosecond, timestep=2.0 * unit.femtosecond))\n",
    "# The NCMC propagator\n",
    "ncmc_integrator = GHMCIntegrator(temperature=temperature, collision_rate=5.0 / unit.picosecond, timestep=1.0 * unit.femtosecond, nsteps=1)\n",
    "compound_integrator.addIntegrator(ncmc_integrator)\n",
    "\n",
    "# Creating the context\n",
    "platform = openmm.Platform.getPlatformByName(platform_name)\n",
    "context = openmm.Context(wbox.system, compound_integrator, platform)\n",
    "context.setPositions(wbox.positions)\n",
    "\n",
    "# Running some equilibriun dynamics\n",
    "compound_integrator.setCurrentIntegrator(0)\n",
    "compound_integrator.step(nequil)\n",
    "\n",
    "# Creating the class to perform the `saltswap` moves.\n",
    "salinator = Swapper(system=wbox.system, topology=wbox.topology, temperature=temperature, delta_chem=delta_chem,\n",
    "                ncmc_integrator=ncmc_integrator, pressure=pressure, npert=npert, nprop=1)"
   ]
  },
  {
   "cell_type": "markdown",
   "metadata": {},
   "source": [
    "Getting the cumlative work at each step in the NCMC protocol for a number of repeats."
   ]
  },
  {
   "cell_type": "code",
   "execution_count": null,
   "metadata": {
    "collapsed": false
   },
   "outputs": [],
   "source": [
    "nrepeats = 100\n",
    "internal_work = np.zeros((nrepeats, npert))\n",
    "external_work = np.zeros((nrepeats, npert))\n",
    "for i in range(nrepeats):\n",
    "    in_wrk, ex_wrk = salinator.compare_protocol_work(context)\n",
    "    compound_integrator.setCurrentIntegrator(0)\n",
    "    compound_integrator.step(10)\n",
    "    internal_work[i,:] = np.diff(in_wrk)\n",
    "    external_work[i,:] = np.diff(ex_wrk)"
   ]
  },
  {
   "cell_type": "markdown",
   "metadata": {},
   "source": [
    "Plotting the correlation between the two ways of mesuring the protocol work."
   ]
  },
  {
   "cell_type": "code",
   "execution_count": null,
   "metadata": {
    "collapsed": false
   },
   "outputs": [],
   "source": [
    "x = y = np.linspace(internal_work.min(),internal_work.max())\n",
    "plt.scatter(internal_work, external_work)\n",
    "plt.plot(x,y, color='k', ls='--')\n",
    "plt.title('Comparison of protocol work calculations for {0} platform'.format(platform_name))\n",
    "plt.xlabel('Internal work (kT)')\n",
    "plt.ylabel('External work (kT)')\n",
    "plt.show()\n",
    "\n",
    "print('RMSD between work calculations = {0:.2f}'.format(np.sqrt(((internal_work - external_work)**2).mean())))"
   ]
  },
  {
   "cell_type": "markdown",
   "metadata": {},
   "source": [
    "Plotting the histogram of the differences between the two measuresments."
   ]
  },
  {
   "cell_type": "code",
   "execution_count": null,
   "metadata": {
    "collapsed": false
   },
   "outputs": [],
   "source": [
    "# Getting the absolute difference between the work calculations.\n",
    "diffs = np.absolute(internal_work - external_work)\n",
    "\n",
    "# Spacing the histogram on the log scale\n",
    "log_edges = np.arange(-15,2)\n",
    "log_midpoint = log_edges[:-1] + np.diff(log_edges) / 2.0\n",
    "edges = 10.0**log_edges\n",
    "midpoint = 10.0**log_midpoint \n",
    "hist, edges = np.histogram(diffs, bins=edges)\n",
    "\n",
    "# Plotting the histogram on a log scale.\n",
    "start_edge = edges[:-1]\n",
    "plt.semilogx(midpoint, hist, color='k', lw=3)\n",
    "plt.xlabel('Absolute difference between work measurements (kT)')\n",
    "plt.ylabel('Frequency')\n",
    "plt.title('Histogram showing the frequency of descrepencies \\n between cumlative protocol work ')\n",
    "plt.grid()\n",
    "plt.show()\n",
    "\n",
    "print('Fraction above 0.1 kT = {0:.2f}'.format(np.sum(diffs > 0.1) / diffs.size))"
   ]
  },
  {
   "cell_type": "markdown",
   "metadata": {},
   "source": [
    "### Using the Reference platform"
   ]
  },
  {
   "cell_type": "code",
   "execution_count": null,
   "metadata": {
    "collapsed": true
   },
   "outputs": [],
   "source": [
    "platform_name = 'Reference'"
   ]
  },
  {
   "cell_type": "code",
   "execution_count": null,
   "metadata": {
    "collapsed": false
   },
   "outputs": [],
   "source": [
    "compound_integrator = openmm.CompoundIntegrator()\n",
    "# The integrator to perform the equilibrium dynamics\n",
    "compound_integrator.addIntegrator(GeodesicBAOABIntegrator(temperature=temperature, K_r=2, collision_rate=5.0 / unit.picosecond, timestep=2.0 * unit.femtosecond))\n",
    "# The NCMC propagator\n",
    "ncmc_integrator = GHMCIntegrator(temperature=temperature, collision_rate=5.0 / unit.picosecond, timestep=1.0 * unit.femtosecond, nsteps=1)\n",
    "compound_integrator.addIntegrator(ncmc_integrator)\n",
    "\n",
    "# Creating the context\n",
    "platform = openmm.Platform.getPlatformByName(platform_name)\n",
    "context = openmm.Context(wbox.system, compound_integrator, platform)\n",
    "context.setPositions(wbox.positions)\n",
    "\n",
    "# Running some equilibriun dynamics\n",
    "compound_integrator.setCurrentIntegrator(0)\n",
    "compound_integrator.step(nequil)\n",
    "\n",
    "# Creating the class to perform the `saltswap` moves.\n",
    "salinator = Swapper(system=wbox.system, topology=wbox.topology, temperature=temperature, delta_chem=delta_chem,\n",
    "                ncmc_integrator=ncmc_integrator, pressure=pressure, npert=50, nprop=1)\n"
   ]
  },
  {
   "cell_type": "markdown",
   "metadata": {},
   "source": [
    "Comparing the calculated protocol work for adding salt with `getState` and the internal calculation with the custom integrator."
   ]
  },
  {
   "cell_type": "code",
   "execution_count": null,
   "metadata": {
    "collapsed": false
   },
   "outputs": [],
   "source": [
    "nrepeats = 100\n",
    "internal_work = np.zeros((nrepeats, npert))\n",
    "external_work = np.zeros((nrepeats, npert))\n",
    "for i in range(nrepeats):\n",
    "    in_wrk, ex_wrk = salinator.compare_protocol_work(context)\n",
    "    compound_integrator.setCurrentIntegrator(0)\n",
    "    compound_integrator.step(10)\n",
    "    internal_work[i,:] = np.diff(in_wrk)\n",
    "    external_work[i,:] = np.diff(ex_wrk)"
   ]
  },
  {
   "cell_type": "markdown",
   "metadata": {},
   "source": [
    "Plotting and getting the RMSD between the estimates:"
   ]
  },
  {
   "cell_type": "code",
   "execution_count": null,
   "metadata": {
    "collapsed": false
   },
   "outputs": [],
   "source": [
    "x = y = np.linspace(internal_work.min(),internal_work.max())\n",
    "plt.scatter(internal_work,external_work)\n",
    "plt.plot(x,y, color='k', ls='--')\n",
    "plt.title('Comparison of protocol work calculations for {0} platform'.format(platform_name))\n",
    "plt.xlabel('Internal work')\n",
    "plt.ylabel('External work')\n",
    "plt.show()\n",
    "\n",
    "print('RMSD between work calculations = {0:.2f}'.format(np.sqrt(((internal_work - external_work)**2).mean())))"
   ]
  },
  {
   "cell_type": "markdown",
   "metadata": {},
   "source": [
    "Getting the histogram"
   ]
  },
  {
   "cell_type": "code",
   "execution_count": null,
   "metadata": {
    "collapsed": false
   },
   "outputs": [],
   "source": [
    "# Getting the absolute difference between the work calculations.\n",
    "diffs = np.absolute(internal_work - external_work)\n",
    "\n",
    "# Spacing the histogram on the log scale\n",
    "log_edges = np.arange(-15,2)\n",
    "log_midpoint = log_edges[:-1] + np.diff(log_edges) / 2.0\n",
    "edges = 10.0**log_edges\n",
    "midpoint = 10.0**log_midpoint \n",
    "hist, edges = np.histogram(diffs, bins=edges)\n",
    "\n",
    "# Plotting the histogram on a log scale.\n",
    "start_edge = edges[:-1]\n",
    "plt.semilogx(midpoint, hist, color='k', lw=3)\n",
    "plt.xlabel('Absolute difference between work measurements (kT)')\n",
    "plt.ylabel('Frequency')\n",
    "plt.title('Histogram showing the frequency of descrepencies \\n between cumlative protocol work')\n",
    "plt.grid()\n",
    "plt.show()\n",
    "print('Fraction above 0.1 kT = {0:.2f}'.format(np.sum(diffs > 0.1) / diffs.size))"
   ]
  },
  {
   "cell_type": "markdown",
   "metadata": {},
   "source": [
    "## Compound integrator with gBAOAB performing NCMC"
   ]
  },
  {
   "cell_type": "markdown",
   "metadata": {},
   "source": [
    "### Using the CPU platform"
   ]
  },
  {
   "cell_type": "code",
   "execution_count": null,
   "metadata": {
    "collapsed": true
   },
   "outputs": [],
   "source": [
    "platform_name = 'CPU'"
   ]
  },
  {
   "cell_type": "code",
   "execution_count": null,
   "metadata": {
    "collapsed": true
   },
   "outputs": [],
   "source": [
    "compound_integrator = openmm.CompoundIntegrator()\n",
    "# The integrator to perform the equilibrium dynamics\n",
    "compound_integrator.addIntegrator(GeodesicBAOABIntegrator(temperature=temperature, K_r=2, collision_rate=5.0 / unit.picosecond, timestep=2.0 * unit.femtosecond))\n",
    "# The NCMC propagator\n",
    "ncmc_integrator = NCMCGeodesicBAOAB(temperature=temperature, collision_rate=5.0 / unit.picosecond, timestep=1.0 * unit.femtosecond)\n",
    "compound_integrator.addIntegrator(ncmc_integator)\n",
    "\n",
    "# Creating the context\n",
    "platform = openmm.Platform.getPlatformByName(platform_name)\n",
    "context = openmm.Context(wbox.system, compound_integrator, platform)\n",
    "context.setPositions(wbox.positions)\n",
    "\n",
    "# Running some equilibriun dynamics\n",
    "compound_integrator.setCurrentIntegrator(0)\n",
    "compound_integrator.step(nequil)\n",
    "\n",
    "# Creating the class to perform the `saltswap` moves.\n",
    "salinator = Swapper(system=wbox.system, topology=wbox.topology, temperature=temperature, delta_chem=delta_chem,\n",
    "                ncmc_integator=ncmc_integator, pressure=pressure, npert=50, nprop=1)"
   ]
  },
  {
   "cell_type": "markdown",
   "metadata": {},
   "source": [
    "Comparing the calculated protocol work for adding salt with `getState` and the internal calculation with the custom integrator."
   ]
  },
  {
   "cell_type": "code",
   "execution_count": null,
   "metadata": {
    "collapsed": true
   },
   "outputs": [],
   "source": [
    "nrepeats = 100\n",
    "internal_work = np.zeros((nrepeats, npert))\n",
    "external_work = np.zeros((nrepeats, npert))\n",
    "for i in range(nrepeats):\n",
    "    in_wrk, ex_wrk = salinator.compare_protocol_work(context)\n",
    "    compound_integrator.setCurrentIntegrator(0)\n",
    "    compound_integrator.step(10)\n",
    "    internal_work[i,:] = np.diff(in_wrk)\n",
    "    external_work[i,:] = np.diff(ex_wrk)"
   ]
  },
  {
   "cell_type": "code",
   "execution_count": null,
   "metadata": {
    "collapsed": false
   },
   "outputs": [],
   "source": [
    "x = y = np.linspace(internal_work.min(),internal_work.max())\n",
    "plt.scatter(internal_work,external_work)\n",
    "plt.plot(x,y, color='k', ls='--')\n",
    "plt.title('Comparison of protocol work calculations for {0} platform'.format(platform_name))\n",
    "plt.xlabel('Internal work')\n",
    "plt.ylabel('External work')\n",
    "plt.show()\n",
    "\n",
    "print('RMSD between work calculations = {0:.2f}'.format(np.sqrt(((internal_work - external_work)**2).mean())))"
   ]
  },
  {
   "cell_type": "code",
   "execution_count": null,
   "metadata": {
    "collapsed": false
   },
   "outputs": [],
   "source": [
    "# Getting the absolute difference between the work calculations.\n",
    "diffs = np.absolute(internal_work - external_work)\n",
    "\n",
    "# Spacing the histogram on the log scale\n",
    "log_edges = np.arange(-15,2)\n",
    "log_midpoint = log_edges[:-1] + np.diff(log_edges) / 2.0\n",
    "edges = 10.0**log_edges\n",
    "midpoint = 10.0**log_midpoint \n",
    "hist, edges = np.histogram(diffs, bins=edges)\n",
    "\n",
    "# Plotting the histogram on a log scale.\n",
    "start_edge = edges[:-1]\n",
    "plt.semilogx(midpoint, hist, color='k', lw=3)\n",
    "plt.xlabel('Absolute difference between work measurements (kT)')\n",
    "plt.ylabel('Frequency')\n",
    "plt.title('Histogram showing the frequency of descrepencies \\n between cumlative protocol work')\n",
    "plt.grid()\n",
    "plt.show()\n",
    "\n",
    "print('Fraction above 0.1 kT = {0:.2f}'.format(np.sum(diffs > 0.1) / diffs.size))"
   ]
  },
  {
   "cell_type": "markdown",
   "metadata": {},
   "source": [
    "### Using the Reference platform"
   ]
  },
  {
   "cell_type": "code",
   "execution_count": null,
   "metadata": {
    "collapsed": true
   },
   "outputs": [],
   "source": [
    "platform_name = 'Reference'"
   ]
  },
  {
   "cell_type": "code",
   "execution_count": null,
   "metadata": {
    "collapsed": true
   },
   "outputs": [],
   "source": [
    "compound_integrator = openmm.CompoundIntegrator()\n",
    "# The integrator to perform the equilibrium dynamics\n",
    "compound_integrator.addIntegrator(GeodesicBAOABIntegrator(temperature=temperature, K_r=2, collision_rate=5.0 / unit.picosecond, timestep=2.0 * unit.femtosecond))\n",
    "# The NCMC propagator\n",
    "ncmc_integator = NCMCGeodesicBAOAB(temperature=temperature, collision_rate=5.0 / unit.picosecond, timestep=1.0 * unit.femtosecond)\n",
    "compound_integrator.addIntegrator(ncmc_integrator)\n",
    "\n",
    "# Creating the context\n",
    "platform = openmm.Platform.getPlatformByName(platform_name)\n",
    "context = openmm.Context(wbox.system, compound_integrator, platform)\n",
    "context.setPositions(wbox.positions)\n",
    "\n",
    "# Running some equilibriun dynamics\n",
    "compound_integrator.setCurrentIntegrator(0)\n",
    "compound_integrator.step(nequil)\n",
    "\n",
    "# Creating the class to perform the `saltswap` moves.\n",
    "salinator = Swapper(system=wbox.system, topology=wbox.topology, temperature=temperature, delta_chem=delta_chem,\n",
    "                ncmc_integator=ncmc_integator, pressure=pressure, npert=50, nprop=1)"
   ]
  },
  {
   "cell_type": "markdown",
   "metadata": {},
   "source": [
    "Comparing the calculated protocol work for adding salt with `getState` and the internal calculation with the custom integrator."
   ]
  },
  {
   "cell_type": "code",
   "execution_count": null,
   "metadata": {
    "collapsed": true
   },
   "outputs": [],
   "source": [
    "nrepeats = 100\n",
    "internal_work = np.zeros((nrepeats, npert))\n",
    "external_work = np.zeros((nrepeats, npert))\n",
    "for i in range(nrepeats):\n",
    "    in_wrk, ex_wrk = salinator.test_ncmc(context)\n",
    "    compound_integrator.setCurrentIntegrator(0)\n",
    "    compound_integrator.step(10)\n",
    "    internal_work[i,:] = np.diff(in_wrk)\n",
    "    external_work[i,:] = np.diff(ex_wrk)"
   ]
  },
  {
   "cell_type": "code",
   "execution_count": null,
   "metadata": {
    "collapsed": false
   },
   "outputs": [],
   "source": [
    "x = y = np.linspace(internal_work.min(),internal_work.max())\n",
    "plt.scatter(internal_work,external_work)\n",
    "plt.plot(x,y, color='k', ls='--')\n",
    "plt.title('Comparison of protocol work calculations for {0} platform'.format(platform_name))\n",
    "plt.xlabel('Internal work')\n",
    "plt.ylabel('External work')\n",
    "plt.show()\n",
    "\n",
    "print('RMSD between work calculations = {0:.2f}'.format(np.sqrt(((internal_work - external_work)**2).mean())))"
   ]
  },
  {
   "cell_type": "markdown",
   "metadata": {},
   "source": [
    "And the histogram"
   ]
  },
  {
   "cell_type": "code",
   "execution_count": null,
   "metadata": {
    "collapsed": false
   },
   "outputs": [],
   "source": [
    "# Getting the absolute difference between the work calculations.\n",
    "diffs = np.absolute(internal_work - external_work)\n",
    "\n",
    "# Spacing the histogram on the log scale\n",
    "log_edges = np.arange(-15,2)\n",
    "log_midpoint = log_edges[:-1] + np.diff(log_edges) / 2.0\n",
    "edges = 10.0**log_edges\n",
    "midpoint = 10.0**log_midpoint \n",
    "hist, edges = np.histogram(diffs, bins=edges)\n",
    "\n",
    "# Plotting the histogram on a log scale.\n",
    "start_edge = edges[:-1]\n",
    "plt.semilogx(midpoint, hist, color='k', lw=3)\n",
    "plt.xlabel('Absolute difference between work measurements (kT)')\n",
    "plt.ylabel('Frequency')\n",
    "plt.title('Histogram showing the frequency of descrepencies \\n between cumlative protocol work')\n",
    "plt.grid()\n",
    "plt.show()"
   ]
  },
  {
   "cell_type": "markdown",
   "metadata": {},
   "source": [
    "### Viewing descrepancies as a function of step.\n",
    "\n",
    "TODO"
   ]
  },
  {
   "cell_type": "code",
   "execution_count": null,
   "metadata": {
    "collapsed": false
   },
   "outputs": [],
   "source": [
    "plt.plot(np.mean(diffs, axis=0))\n",
    "plt.xlabel('NCMC step')\n",
    "plt.ylabel('Mean absolute difference')\n",
    "plt.title('Mean absolute difference between work measurements \\n as a function of NCMC step')\n",
    "plt.show()"
   ]
  },
  {
   "cell_type": "code",
   "execution_count": null,
   "metadata": {
    "collapsed": true
   },
   "outputs": [],
   "source": []
  }
 ],
 "metadata": {
  "kernelspec": {
   "display_name": "Python 3",
   "language": "python",
   "name": "python3"
  },
  "language_info": {
   "codemirror_mode": {
    "name": "ipython",
    "version": 3
   },
   "file_extension": ".py",
   "mimetype": "text/x-python",
   "name": "python",
   "nbconvert_exporter": "python",
   "pygments_lexer": "ipython3",
   "version": "3.5.2"
  }
 },
 "nbformat": 4,
 "nbformat_minor": 2
}
