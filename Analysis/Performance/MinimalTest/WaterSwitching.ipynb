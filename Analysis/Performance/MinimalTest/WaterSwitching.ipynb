{
 "cells": [
  {
   "cell_type": "markdown",
   "metadata": {},
   "source": [
    "# Small box of water as a minimal test system\n",
    "This is an attempt to isolate and replicate a problem I've been having with my SaltSwap code, namely, the erratic timings that occur between iterations of MD and MC salt insertions and deletions. The MC steps modify the non-bonded parameters of the context.\n",
    "\n",
    "I only see erratic timings on a GPU and when MD and MC are used together. Not when MD or MC are used seperately. This notebook will try to replicate this behaviour."
   ]
  },
  {
   "cell_type": "code",
   "execution_count": 1,
   "metadata": {
    "collapsed": true
   },
   "outputs": [],
   "source": [
    "import timeit\n",
    "from simtk import openmm, unit\n",
    "from simtk.openmm import app\n",
    "from openmmtools.testsystems import WaterBox\n",
    "import numpy as np\n",
    "import matplotlib.pyplot as plt\n",
    "%matplotlib inline  "
   ]
  },
  {
   "cell_type": "markdown",
   "metadata": {},
   "source": [
    "Using a small box of water as a test system:"
   ]
  },
  {
   "cell_type": "code",
   "execution_count": 2,
   "metadata": {
    "collapsed": false
   },
   "outputs": [],
   "source": [
    "size = 5.0\n",
    "wbox = WaterBox(box_edge=size*unit.angstrom, cutoff=size/2*unit.angstrom, nonbondedMethod=app.PME)\n",
    "integrator = openmm.LangevinIntegrator(300*unit.kelvin, 1/unit.picosecond, 0.002*unit.picoseconds)\n",
    "context = openmm.Context(wbox.system, integrator)\n",
    "context.setPositions(wbox.positions)\n",
    "context.setVelocitiesToTemperature(300*unit.kelvin)\n",
    "integrator.step(100)"
   ]
  },
  {
   "cell_type": "markdown",
   "metadata": {},
   "source": [
    "Now modifying the non-bonded parameters, updating the parameters in context, and running more MD. \n",
    "Updating the parameters of the first water molecule by setting them to zero.\n",
    "\n",
    "Making sure I've identified the correct forces to modify:"
   ]
  },
  {
   "cell_type": "code",
   "execution_count": 3,
   "metadata": {
    "collapsed": false
   },
   "outputs": [
    {
     "name": "stdout",
     "output_type": "stream",
     "text": [
      "[Quantity(value=-0.834, unit=elementary charge), Quantity(value=0.3150752406575124, unit=nanometer), Quantity(value=0.635968, unit=kilojoule/mole)]\n",
      "[Quantity(value=0.417, unit=elementary charge), Quantity(value=1.0, unit=nanometer), Quantity(value=0.0, unit=kilojoule/mole)]\n",
      "[Quantity(value=0.417, unit=elementary charge), Quantity(value=1.0, unit=nanometer), Quantity(value=0.0, unit=kilojoule/mole)]\n"
     ]
    }
   ],
   "source": [
    "force = wbox.system.getForce(2)       # Non-bonded force.\n",
    "for i in range(3):\n",
    "    print force.getParticleParameters(i)"
   ]
  },
  {
   "cell_type": "markdown",
   "metadata": {},
   "source": [
    "Functions to modify context. These are nonequilibrium switching moves, meant only to test updating the context."
   ]
  },
  {
   "cell_type": "code",
   "execution_count": 4,
   "metadata": {
    "collapsed": false
   },
   "outputs": [],
   "source": [
    "def switchoff(force,context,frac=0.9):\n",
    "    force.setParticleParameters(0,charge=-0.834*frac,sigma=0.3150752406575124*frac,epsilon=0.635968*frac)\n",
    "    force.setParticleParameters(1,charge=0.417*frac,sigma=0,epsilon=1*frac)\n",
    "    force.setParticleParameters(2,charge=0.417*frac,sigma=0,epsilon=1*frac)\n",
    "    force.updateParametersInContext(context)\n",
    "    \n",
    "def switchon(force,context):\n",
    "    force.setParticleParameters(0,charge=-0.834,sigma=0.3150752406575124,epsilon=0.635968)\n",
    "    force.setParticleParameters(1,charge=0.417,sigma=0,epsilon=1)\n",
    "    force.setParticleParameters(2,charge=0.417,sigma=0,epsilon=1)\n",
    "    force.updateParametersInContext(context)\n",
    "    \n",
    "def MDMC(force,context,integrator,steps,i):\n",
    "    integrator.step(steps)\n",
    "    if i % 2 == 0:\n",
    "        switchoff(force,context)\n",
    "    else:\n",
    "        switchon(force,context)\n",
    "        \n",
    "def MC(force,context,i):\n",
    "    if i % 2 == 0:\n",
    "        switchoff(force,context)\n",
    "    else:\n",
    "        switchon(force,context)\n",
    "\n",
    "# Global parameters for MD and MC iterations        \n",
    "iterations = 200\n",
    "nsteps = 500"
   ]
  },
  {
   "cell_type": "markdown",
   "metadata": {},
   "source": [
    "## Timing MD"
   ]
  },
  {
   "cell_type": "code",
   "execution_count": 5,
   "metadata": {
    "collapsed": false
   },
   "outputs": [],
   "source": [
    "t_md = []\n",
    "for i in range(iterations):\n",
    "    t_md.append(timeit.timeit('integrator.step(nsteps)',setup=\"from __main__ import context, integrator,nsteps\", number=1))    "
   ]
  },
  {
   "cell_type": "code",
   "execution_count": 6,
   "metadata": {
    "collapsed": false
   },
   "outputs": [
    {
     "data": {
      "image/png": "[encoded data removed]",
      "text/plain": [
       "<matplotlib.figure.Figure at 0x110145710>"
      ]
     },
     "metadata": {},
     "output_type": "display_data"
    },
    {
     "name": "stdout",
     "output_type": "stream",
     "text": [
      "Percent fluctuation = 6.13\n"
     ]
    }
   ],
   "source": [
    "t_md = np.array(t_md)\n",
    "plt.scatter(x=np.arange(iterations),y=t_md)\n",
    "plt.xlabel(\"Iteration\")\n",
    "plt.ylabel(\"Time (s)\")\n",
    "plt.title(\"Timings for MD {0} iterations\".format(iterations))\n",
    "plt.show()\n",
    "print \"Percent fluctuation = {0:.2f}\".format(100*t_md.std()/t_md.mean())"
   ]
  },
  {
   "cell_type": "markdown",
   "metadata": {},
   "source": [
    "## Timing MC"
   ]
  },
  {
   "cell_type": "code",
   "execution_count": 7,
   "metadata": {
    "collapsed": false
   },
   "outputs": [],
   "source": [
    "t_mc = []\n",
    "for i in range(iterations):\n",
    "    t_mc.append(timeit.timeit('MC(force,context,i)',setup=\"from __main__ import context,force,i, MC\", number=1))    "
   ]
  },
  {
   "cell_type": "code",
   "execution_count": 8,
   "metadata": {
    "collapsed": false
   },
   "outputs": [
    {
     "data": {
      "image/png": "[encoded data removed]",
      "text/plain": [
       "<matplotlib.figure.Figure at 0x110154210>"
      ]
     },
     "metadata": {},
     "output_type": "display_data"
    },
    {
     "name": "stdout",
     "output_type": "stream",
     "text": [
      "Percent fluctuation = 1168.08\n"
     ]
    }
   ],
   "source": [
    "t_mc = np.array(t_mc)\n",
    "plt.scatter(x=np.arange(iterations),y=t_mc)\n",
    "plt.xlabel(\"Iteration\")\n",
    "plt.ylabel(\"Time (s)\")\n",
    "plt.title(\"Timings for MC {0} iterations\".format(iterations))\n",
    "plt.show()\n",
    "print \"Percent fluctuation = {0:.2f}\".format(100*t_mc.std()/t_mc.mean())"
   ]
  },
  {
   "cell_type": "markdown",
   "metadata": {},
   "source": [
    "## Timing MD and context manipulation"
   ]
  },
  {
   "cell_type": "code",
   "execution_count": 9,
   "metadata": {
    "collapsed": false
   },
   "outputs": [],
   "source": [
    "t_both = []\n",
    "for i in range(iterations):\n",
    "    t_both.append(timeit.timeit('MDMC(force,context,integrator,nsteps,i)',setup=\"from __main__ import MDMC, force, context, integrator, i,nsteps\", number=1))"
   ]
  },
  {
   "cell_type": "code",
   "execution_count": 10,
   "metadata": {
    "collapsed": false
   },
   "outputs": [
    {
     "data": {
      "image/png": "[encoded data removed]",
      "text/plain": [
       "<matplotlib.figure.Figure at 0x110f75610>"
      ]
     },
     "metadata": {},
     "output_type": "display_data"
    },
    {
     "name": "stdout",
     "output_type": "stream",
     "text": [
      "Percent fluctuation = 11.27\n"
     ]
    }
   ],
   "source": [
    "t_both = np.array(t_both)\n",
    "plt.scatter(x=np.arange(iterations),y=t_both)\n",
    "plt.xlabel(\"Iteration\")\n",
    "plt.ylabel(\"Time (s)\")\n",
    "plt.title(\"Timings for MC and MC {0} iterations\".format(iterations))\n",
    "plt.show()\n",
    "print \"Percent fluctuation = {0:.2f}\".format(100*t_both.std()/t_both.mean())"
   ]
  }
 ],
 "metadata": {
  "kernelspec": {
   "display_name": "Python 2",
   "language": "python",
   "name": "python2"
  },
  "language_info": {
   "codemirror_mode": {
    "name": "ipython",
    "version": 2
   },
   "file_extension": ".py",
   "mimetype": "text/x-python",
   "name": "python",
   "nbconvert_exporter": "python",
   "pygments_lexer": "ipython2",
   "version": "2.7.11"
  }
 },
 "nbformat": 4,
 "nbformat_minor": 0
}
