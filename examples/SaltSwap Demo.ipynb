{
 "cells": [
  {
   "cell_type": "code",
   "execution_count": 1,
   "metadata": {
    "collapsed": true
   },
   "outputs": [],
   "source": [
    "from simtk import openmm, unit\n",
    "from simtk.openmm import app\n",
    "from openmmtools.testsystems import WaterBox"
   ]
  },
  {
   "cell_type": "markdown",
   "metadata": {},
   "source": [
    "# Running SaltSwap\n",
    "Brief notebook on how to use `saltswap`. All examples will use a small box of water, created below."
   ]
  },
  {
   "cell_type": "code",
   "execution_count": 2,
   "metadata": {
    "collapsed": false
   },
   "outputs": [],
   "source": [
    " # Setup box of water\n",
    "size = 25.0*unit.angstrom     # The length of the edges of the water box.\n",
    "temperature = 300*unit.kelvin\n",
    "pressure = 1*unit.atmospheres\n",
    "wbox = WaterBox(box_edge=size,nonbondedMethod=app.PME,cutoff=9*unit.angstrom,ewaldErrorTolerance=1E-5)"
   ]
  },
  {
   "cell_type": "markdown",
   "metadata": {},
   "source": [
    "## 1. Using the `MCMCSampler` wrapper\n",
    "The simplest way to get allow the salt concentration to vary in a given simulation. `MCMCSampler` is class that wraps molecular dynamics with `openmm` and Monte Carlo salt fluctuations from `saltswap` into a single object. \n",
    "\n",
    "* The MCMCSampler.move(nmove) function alternates between molecular dynamics and salt fluctuation moves for nmove iterations"
   ]
  },
  {
   "cell_type": "code",
   "execution_count": 3,
   "metadata": {
    "collapsed": false
   },
   "outputs": [],
   "source": [
    "from saltswap.mcmc_samplers import MCMCSampler"
   ]
  },
  {
   "cell_type": "markdown",
   "metadata": {},
   "source": [
    "### Set-up and run simulations"
   ]
  },
  {
   "cell_type": "markdown",
   "metadata": {},
   "source": [
    "#### Simulation variables"
   ]
  },
  {
   "cell_type": "code",
   "execution_count": 4,
   "metadata": {
    "collapsed": false
   },
   "outputs": [],
   "source": [
    "# NCMC parameters\n",
    "npert = 100                       # The number of perturbation steps\n",
    "nprop = 1                          # The number of propagation steps per NCMC perturbation\n",
    "timestep = 1.0*unit.femtoseconds   # The timestep for the NCMC propagator\n",
    "\n",
    "# If nprop = 0, water and salt are instantaneously exchanged.\n",
    "\n",
    "# Specifying the frequency of molecular dynamics and Monte Carlo salt fluctuations.\n",
    "steps = 5000     # The number of consecutive molecular dynamics steps at a fixed salt concentration per iteration\n",
    "attempts = 10   # The number salt insertion/deletion attempts per iteration\n",
    "\n",
    "delta_chem = 300 # The chemical potential in multipes of thermal energy\n",
    "\n",
    "platform = 'CPU'   # The type of platform to run the dynamics with. \n",
    "# Can be either 'CPU', 'CUDA', or 'OpenCL'"
   ]
  },
  {
   "cell_type": "markdown",
   "metadata": {},
   "source": [
    "#### Create the object to simulate"
   ]
  },
  {
   "cell_type": "code",
   "execution_count": 5,
   "metadata": {
    "collapsed": false
   },
   "outputs": [],
   "source": [
    "sampler = MCMCSampler(wbox.system, wbox.topology, wbox.positions, temperature=temperature, pressure=pressure,\n",
    "                      npert=npert, nprop=nprop, propagator='GHMC', ncmc_timestep = timestep,\n",
    "                      delta_chem=delta_chem, mdsteps=steps, saltsteps=attempts, platform=platform)"
   ]
  },
  {
   "cell_type": "markdown",
   "metadata": {},
   "source": [
    "#### Run simulation"
   ]
  },
  {
   "cell_type": "code",
   "execution_count": 6,
   "metadata": {
    "collapsed": false
   },
   "outputs": [],
   "source": [
    "# Equilibration of configuration\n",
    "sampler.gen_config(mdsteps=1000)\n",
    "\n",
    "# Alternate between molecular dynamics and Monte Carlo for 100 iterations\n",
    "sampler.move(100)"
   ]
  },
  {
   "cell_type": "markdown",
   "metadata": {},
   "source": [
    "### Viewing the results"
   ]
  },
  {
   "cell_type": "code",
   "execution_count": 7,
   "metadata": {
    "collapsed": false
   },
   "outputs": [],
   "source": [
    "# To view the number of salt molecules after the moves:\n",
    "n_waters, n_cations, n_anions = sampler.saltswap.get_identity_counts()\n",
    "\n",
    "# View the acceptance rate for the salt insertion/deletion moves:\n",
    "acceptance_rate = sampler.saltswap.get_acceptance_probability()\n",
    "\n",
    "# The lists of the work to add and remove salt for every insertion/deletion attempt:\n",
    "work_to_add_salt = sampler.saltswap.work_add\n",
    "work_to_remove_salt = sampler.saltswap.work_rm"
   ]
  },
  {
   "cell_type": "markdown",
   "metadata": {},
   "source": [
    "## 2. Using `SaltSwap` directly\n",
    "This grants you, the user, more control over the parameters of the simulation, but is more involved to set-up.\n",
    "* SaltSwap is the name of the Monte Carlo driver for exchanging water molecules with anion and cation pairs. "
   ]
  },
  {
   "cell_type": "code",
   "execution_count": 8,
   "metadata": {
    "collapsed": true
   },
   "outputs": [],
   "source": [
    "from saltswap.swapper import Swapper\n",
    "from saltswap.integrators import GHMCIntegrator"
   ]
  },
  {
   "cell_type": "markdown",
   "metadata": {},
   "source": [
    "### Set-up and run simulations"
   ]
  },
  {
   "cell_type": "markdown",
   "metadata": {},
   "source": [
    "#### Simulation variables"
   ]
  },
  {
   "cell_type": "code",
   "execution_count": 9,
   "metadata": {
    "collapsed": true
   },
   "outputs": [],
   "source": [
    "# NCMC parameters\n",
    "npert = 10     # The number of perturbation steps\n",
    "nprop = 1        # The number of propagation steps per NCMC perturbation\n",
    "\n",
    "# If nprop = 0, water and salt are instantaneously exchanged.\n",
    "\n",
    "delta_chem = 300*unit.kilojoule_per_mole # The chemical potential in multipes of kT\n",
    "\n",
    "platform = 'CPU'   # The type of platform to run the dynamics with"
   ]
  },
  {
   "cell_type": "markdown",
   "metadata": {},
   "source": [
    "#### Create the object to simulate"
   ]
  },
  {
   "cell_type": "code",
   "execution_count": 10,
   "metadata": {
    "collapsed": false
   },
   "outputs": [],
   "source": [
    "# Create a compound inegrator for regular dynamics and NCMC moves. If the salt insertion/deletion \n",
    "# moves are instantaneous, a compound integrator is not required.\n",
    "integrator = openmm.CompoundIntegrator()\n",
    "# 1. The integrator for regular molecular dynamics\n",
    "integrator.addIntegrator(openmm.LangevinIntegrator(temperature, 1/unit.picosecond, 2.0*unit.femtoseconds))\n",
    "# 2. The integrator for NCMC\n",
    "integrator.addIntegrator(GHMCIntegrator(temperature, 1/unit.picosecond, 1.0*unit.femtoseconds, nsteps=nprop))\n",
    "\n",
    "# Create the context\n",
    "context = openmm.Context(wbox.system, integrator)\n",
    "context.setPositions(wbox.positions)\n",
    "context.setVelocitiesToTemperature(temperature)\n",
    "\n",
    "# Create the object to swap salt with water\n",
    "swapper =  Swapper(system=wbox.system, topology=wbox.topology,temperature=temperature, delta_chem=delta_chem,\n",
    "                    integrator=integrator, pressure=pressure, npert=npert, nprop=nprop)"
   ]
  },
  {
   "cell_type": "markdown",
   "metadata": {},
   "source": [
    "#### Run the simulation\n",
    "The simulation alternates between molecular dynamics and `saltswap` moves. Below runs a *very* short example just to demonstrate functionality."
   ]
  },
  {
   "cell_type": "code",
   "execution_count": 11,
   "metadata": {
    "collapsed": false
   },
   "outputs": [
    {
     "name": "stderr",
     "output_type": "stream",
     "text": [
      "/Users/rossg/miniconda2/lib/python2.7/site-packages/saltswap-0.1.dev0-py2.7.egg/saltswap/swapper.py:703: VisibleDeprecationWarning: converting an array with ndim > 0 to an index will result in an error in the future\n",
      "  molecule1 = [atom for atom in self.mutable_residues[exchange_indices[0]].atoms()]\n",
      "/Users/rossg/miniconda2/lib/python2.7/site-packages/saltswap-0.1.dev0-py2.7.egg/saltswap/swapper.py:704: VisibleDeprecationWarning: converting an array with ndim > 0 to an index will result in an error in the future\n",
      "  molecule2 = [atom for atom in self.mutable_residues[exchange_indices[1]].atoms()]\n"
     ]
    }
   ],
   "source": [
    "for iteration in range(10):\n",
    "    integrator.step(100)                      # Run molecular dynamics for 1000 steps\n",
    "    swapper.update(context, nattempts=1)      # Attempt 10 insertions or deletions"
   ]
  },
  {
   "cell_type": "markdown",
   "metadata": {},
   "source": [
    "It's also possible to constrain the maximum amount of salt in a simulation with the `saltmax` variable."
   ]
  },
  {
   "cell_type": "code",
   "execution_count": 12,
   "metadata": {
    "collapsed": true
   },
   "outputs": [],
   "source": [
    "for iteration in range(10):\n",
    "    integrator.step(100)                                  # Run molecular dynamics for 1000 steps\n",
    "    swapper.update(context, nattempts=1, saltmax=10)      # No more than 'saltmax' pairs can be inserted"
   ]
  },
  {
   "cell_type": "markdown",
   "metadata": {},
   "source": [
    "### Viewing the results"
   ]
  },
  {
   "cell_type": "code",
   "execution_count": 13,
   "metadata": {
    "collapsed": false
   },
   "outputs": [],
   "source": [
    "# To view the number of salt molecules after the moves:\n",
    "n_waters, n_cations, n_anions = swapper.get_identity_counts()\n",
    "\n",
    "# View the acceptance rate for the salt insertion/deletion moves:\n",
    "acceptance_rate = swapper.get_acceptance_probability()\n",
    "\n",
    "# The lists of the work to add and remove salt for every insertion/deletion attempt:\n",
    "work_to_add_salt = swapper.work_add\n",
    "work_to_remove_salt = swapper.work_rm"
   ]
  }
 ],
 "metadata": {
  "kernelspec": {
   "display_name": "Python 2",
   "language": "python",
   "name": "python2"
  },
  "language_info": {
   "codemirror_mode": {
    "name": "ipython",
    "version": 2
   },
   "file_extension": ".py",
   "mimetype": "text/x-python",
   "name": "python",
   "nbconvert_exporter": "python",
   "pygments_lexer": "ipython2",
   "version": "2.7.11"
  }
 },
 "nbformat": 4,
 "nbformat_minor": 0
}
