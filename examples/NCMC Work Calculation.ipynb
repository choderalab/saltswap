{
 "cells": [
  {
   "cell_type": "markdown",
   "metadata": {},
   "source": [
    "# How to record the protocol work with NCMC\n",
    "### With a generalized Hamiltonian Monte Carlo (GHMC) propagator\n",
    "\n",
    "Using a box of pure water as the test system."
   ]
  },
  {
   "cell_type": "code",
   "execution_count": 1,
   "metadata": {
    "collapsed": false
   },
   "outputs": [
    {
     "data": {
      "text/plain": [
       "3"
      ]
     },
     "execution_count": 1,
     "metadata": {},
     "output_type": "execute_result"
    }
   ],
   "source": [
    "from simtk import openmm, unit\n",
    "from simtk.openmm import app\n",
    "from openmmtools.testsystems import WaterBox\n",
    "import numpy as np\n",
    "\n",
    "# Setup box of water\n",
    "size = 25.0*unit.angstrom     # The length of the edges of the water box.\n",
    "temperature = 300*unit.kelvin\n",
    "pressure = 1*unit.atmospheres\n",
    "wbox = WaterBox(box_edge=size,nonbondedMethod=app.PME,cutoff=9*unit.angstrom,ewaldErrorTolerance=1E-5)\n",
    "barostat = openmm.MonteCarloBarostat(pressure, temperature)\n",
    "wbox.system.addForce(barostat)"
   ]
  },
  {
   "cell_type": "markdown",
   "metadata": {},
   "source": [
    "# 1. Work to add/remove salt\n",
    "It is straightforward to calculate the work to add and remove one salt pair in an otherwise pure box of water with the `saltswap` class. However, poor insertiona and deletion rates mean it is currently more practical the look at insetion and deletion seperately with the `MCMCSampler` class, discussed below.\n",
    "\n",
    "This section looks at how to do this directly with `SaltSwap` and how to set the NCMC perturbation pathway"
   ]
  },
  {
   "cell_type": "code",
   "execution_count": 2,
   "metadata": {
    "collapsed": true
   },
   "outputs": [],
   "source": [
    "from saltswap import SaltSwap\n",
    "from integrators import GHMCIntegrator"
   ]
  },
  {
   "cell_type": "markdown",
   "metadata": {},
   "source": [
    "### Set the system up"
   ]
  },
  {
   "cell_type": "code",
   "execution_count": 3,
   "metadata": {
    "collapsed": false
   },
   "outputs": [],
   "source": [
    "# NCMC parameters\n",
    "npert = 10     # The number of perturbation steps\n",
    "nprop = 1        # The number of propagation steps per NCMC perturbation\n",
    "\n",
    "delta_chem = 300*unit.kilojoule_per_mole # The chemical potential in multipes of kT\n",
    "platform = 'OpenCL'   # The type of platform to run the dynamics with\n",
    "\n",
    "# Create a compound inegrator\n",
    "integrator = openmm.CompoundIntegrator()\n",
    "# 1. The integrator for regular molecular dynamics\n",
    "integrator.addIntegrator(openmm.LangevinIntegrator(temperature, 1/unit.picosecond, 2.0*unit.femtoseconds))\n",
    "# 2. The integrator for NCMC\n",
    "integrator.addIntegrator(GHMCIntegrator(temperature, 1/unit.picosecond, 1.0*unit.femtoseconds, nsteps=nprop))\n",
    "\n",
    "# Create the context\n",
    "platform = openmm.Platform.getPlatformByName('OpenCL')\n",
    "properties = {'OpenCLPrecision': 'mixed'}\n",
    "context = openmm.Context(wbox.system, integrator, platform, properties)\n",
    "context.setPositions(wbox.positions)\n",
    "context.setVelocitiesToTemperature(temperature)\n",
    "\n",
    "# Create the object to swap salt with water\n",
    "swapper = SaltSwap(system=wbox.system, topology=wbox.topology,temperature=temperature, delta_chem=delta_chem,\n",
    "                   integrator=integrator, pressure=pressure, npert=npert, nprop=nprop)"
   ]
  },
  {
   "cell_type": "markdown",
   "metadata": {},
   "source": [
    "### The NCMC path"
   ]
  },
  {
   "cell_type": "markdown",
   "metadata": {},
   "source": [
    "The NCMC perturbation (i.e. lambda) path is over the non bonded parameters of the two water molecules (specifically, two water oxyegens and four hydrogen atoms) that are converted into Na and Cl. The path is over the following dictionaries"
   ]
  },
  {
   "cell_type": "code",
   "execution_count": 4,
   "metadata": {
    "collapsed": false
   },
   "outputs": [],
   "source": [
    "a = swapper.wat2cat_parampath  # Water to cation path\n",
    "b = swapper.wat2an_parampath   # Water to anion path\n",
    "c = swapper.an2wat_parampath   # Anion to water path\n",
    "d = swapper.cat2wat_parampath  # Cation to water path"
   ]
  },
  {
   "cell_type": "markdown",
   "metadata": {},
   "source": [
    "Note that the code is flexible enough to allow for asymmetric paths, although the MCMC acceptence does not yet account for this."
   ]
  },
  {
   "cell_type": "markdown",
   "metadata": {},
   "source": [
    "Each path (e.g. `swapper.wat2cat_parampath`) is list of dictionaries of length equal to the number atoms in the water model. \n",
    "\n",
    "For Tip3p:"
   ]
  },
  {
   "cell_type": "code",
   "execution_count": 5,
   "metadata": {
    "collapsed": false
   },
   "outputs": [
    {
     "name": "stdout",
     "output_type": "stream",
     "text": [
      "3\n"
     ]
    }
   ],
   "source": [
    "print len(swapper.wat2cat_parampath)"
   ]
  },
  {
   "cell_type": "markdown",
   "metadata": {},
   "source": [
    "Each dictionary in the list specifies the NCMC path for one non-bonded parameter. There are 3 non-bonded parameters for each atom: the partial charge, Lennard-Jones $\\sigma$, and Lennard-Jones $\\epsilon$. "
   ]
  },
  {
   "cell_type": "markdown",
   "metadata": {},
   "source": [
    "The NCMC path for an **oxygen** atom to a cation is given by"
   ]
  },
  {
   "cell_type": "code",
   "execution_count": 6,
   "metadata": {
    "collapsed": false
   },
   "outputs": [
    {
     "name": "stdout",
     "output_type": "stream",
     "text": [
      "Partial charge [-0.834, -0.6506, -0.4672, -0.2838, -0.10039999999999993, 0.08300000000000002, 0.26639999999999997, 0.4497999999999999, 0.6332000000000001, 0.8166, 1.0] \n",
      "\n",
      "LJ sigma [0.3150752406575124, 0.30796052659176115, 0.30084581252600995, 0.2937310984602587, 0.28661638439450743, 0.2795016703287562, 0.27238695626300496, 0.26527224219725376, 0.2581575281315025, 0.25104281406575124, 0.2439281] \n",
      "\n",
      "LJ epsilon [0.635968, 0.5811151299999999, 0.52626226, 0.47140938999999993, 0.41655652, 0.36170365, 0.30685078, 0.25199791000000005, 0.19714503999999997, 0.14229217, 0.0874393]\n"
     ]
    }
   ],
   "source": [
    "print 'Partial charge', swapper.wat2cat_parampath[0]['charge'], '\\n'\n",
    "print 'LJ sigma', swapper.wat2cat_parampath[0]['sigma'], '\\n'\n",
    "print 'LJ epsilon', swapper.wat2cat_parampath[0]['epsilon']"
   ]
  },
  {
   "cell_type": "markdown",
   "metadata": {},
   "source": [
    "And similarly for the other atoms."
   ]
  },
  {
   "cell_type": "markdown",
   "metadata": {},
   "source": [
    "## Simulations"
   ]
  },
  {
   "cell_type": "markdown",
   "metadata": {},
   "source": [
    "**IF** the NCMC protocol was efficient enough, the following would be sufficient to get the work to add and remove salt in an otherwise pure box of water."
   ]
  },
  {
   "cell_type": "code",
   "execution_count": 7,
   "metadata": {
    "collapsed": true
   },
   "outputs": [],
   "source": [
    "for iteration in range(1):\n",
    "    integrator.step(10)             # Run molecular dynamics for 10 steps. Setting very low for this example only\n",
    "    swapper.update(context, nattempts=10, saltmax=1)      # Attempt 10 insertions or deletions"
   ]
  },
  {
   "cell_type": "markdown",
   "metadata": {},
   "source": [
    "### Record the work"
   ]
  },
  {
   "cell_type": "code",
   "execution_count": 8,
   "metadata": {
    "collapsed": true
   },
   "outputs": [],
   "source": [
    "work_to_add_salt = swapper.work_add\n",
    "work_to_remove_salt = swapper.work_rm"
   ]
  },
  {
   "cell_type": "markdown",
   "metadata": {},
   "source": [
    "However, deletion rates are incredibly inefficient. To seperate insertions and deletions, it useful to seperate the insertion and deleletion simulations. \n",
    "\n",
    "The next section shows how to seperate insertions and deletions with `MCMCSampler` class."
   ]
  },
  {
   "cell_type": "markdown",
   "metadata": {},
   "source": [
    "# 2.1 Work to add salt with `MCMCSamper`\n",
    "To calculate the work to **add** one anion and cation pair in a pure box of water, one must set the chemical potential to a value that ensures that an insertion move is _never_ accepted.\n",
    "\n",
    "### Set-up the sampler class with a very high chemical potential"
   ]
  },
  {
   "cell_type": "code",
   "execution_count": 9,
   "metadata": {
    "collapsed": true
   },
   "outputs": [],
   "source": [
    "from mcmc_samplers import MCMCSampler"
   ]
  },
  {
   "cell_type": "code",
   "execution_count": 10,
   "metadata": {
    "collapsed": true
   },
   "outputs": [],
   "source": [
    "# Set up sampler class\n",
    "npert = 10\n",
    "nprop = 1\n",
    "mdsteps = 50         # Setting very low for this example only\n",
    "delta_chem = 10000   # To never insert\n",
    "attempts = 10      # The number of insertion deletion attempts per iteration\n",
    "\n",
    "timestep = 1.0*unit.femtoseconds\n",
    "sampler = MCMCSampler(wbox.system, wbox.topology, wbox.positions, temperature=temperature, pressure=pressure,\n",
    "                      npert=npert, nprop=nprop, propagator='GHMC', ncmc_timestep = timestep,\n",
    "                      delta_chem=delta_chem, mdsteps=mdsteps, saltsteps=attempts, platform='OpenCL')"
   ]
  },
  {
   "cell_type": "markdown",
   "metadata": {},
   "source": [
    "### NCMC path\n",
    "The NCMC parameter paths are contained in the lists:"
   ]
  },
  {
   "cell_type": "code",
   "execution_count": 11,
   "metadata": {
    "collapsed": true
   },
   "outputs": [],
   "source": [
    "a = sampler.saltswap.wat2cat_parampath  # Water to cation path\n",
    "b = sampler.saltswap.wat2an_parampath   # Water to anion path\n",
    "c = sampler.saltswap.an2wat_parampath   # Anion to water path\n",
    "d = sampler.saltswap.cat2wat_parampath  # Cation to water path"
   ]
  },
  {
   "cell_type": "markdown",
   "metadata": {},
   "source": [
    "### Thermalize"
   ]
  },
  {
   "cell_type": "code",
   "execution_count": 12,
   "metadata": {
    "collapsed": true
   },
   "outputs": [],
   "source": [
    "# Thermalize\n",
    "equilibration = 10    # Setting very low for this example only\n",
    "sampler.gen_config(mdsteps=equilibration)"
   ]
  },
  {
   "cell_type": "markdown",
   "metadata": {},
   "source": [
    "### Run insertion/deletion attempts"
   ]
  },
  {
   "cell_type": "code",
   "execution_count": 13,
   "metadata": {
    "collapsed": false
   },
   "outputs": [],
   "source": [
    "# With no molecular dynamics between each attempt\n",
    "sampler.gen_label(saltsteps = attempts)\n",
    "\n",
    "# With alternating steps of MD and MC.\n",
    "sampler.multimove(nmoves = 10, mdsteps=mdsteps, saltsteps=attempts)\n",
    "# This means: 10 iterations of MD and MC. Each iteration is comprised of 'mdsteps' of MD followed by 'attempts' of MC."
   ]
  },
  {
   "cell_type": "markdown",
   "metadata": {},
   "source": [
    "### Record the work"
   ]
  },
  {
   "cell_type": "code",
   "execution_count": 14,
   "metadata": {
    "collapsed": true
   },
   "outputs": [],
   "source": [
    "work_to_add_salt = sampler.saltswap.work_add"
   ]
  },
  {
   "cell_type": "markdown",
   "metadata": {},
   "source": [
    "# 2.2 Work to remove salt with `MCMCSamper`\n",
    "To calculate the work to **remove** one anion and cation pair in a box water that contains only one anion and cation, one must set the chemical potential to a value that ensures that an deletion move is _never_ accepted. This is after forcing the insertion of a salt pair."
   ]
  },
  {
   "cell_type": "markdown",
   "metadata": {},
   "source": [
    "### Set-up sampler class"
   ]
  },
  {
   "cell_type": "code",
   "execution_count": 15,
   "metadata": {
    "collapsed": true
   },
   "outputs": [],
   "source": [
    "# Set up sampler class\n",
    "npert = 10\n",
    "nprop = 1\n",
    "steps = 50\n",
    "delta_chem = -10000   # To insert straight away\n",
    "attempts = 1          # Setting very low for this example only\n",
    "\n",
    "timestep = 1.0*unit.femtoseconds\n",
    "sampler = MCMCSampler(wbox.system, wbox.topology, wbox.positions, temperature=temperature, pressure=pressure,\n",
    "                      npert=npert, nprop=nprop, propagator='GHMC', ncmc_timestep = timestep,\n",
    "                      delta_chem=delta_chem, mdsteps=steps, saltsteps=attempts, platform='OpenCL')"
   ]
  },
  {
   "cell_type": "markdown",
   "metadata": {},
   "source": [
    "### Add one molecule of salt"
   ]
  },
  {
   "cell_type": "code",
   "execution_count": 16,
   "metadata": {
    "collapsed": true
   },
   "outputs": [],
   "source": [
    "nosalt = True\n",
    "while nosalt:\n",
    "    sampler.saltswap.update(sampler.context, nattempts=1, cost=-10000)\n",
    "    n_wats, n_ions, n_ions = sampler.saltswap.getIdentityCounts()\n",
    "    nosalt = (n_ions == 0)"
   ]
  },
  {
   "cell_type": "markdown",
   "metadata": {},
   "source": [
    "### Thermalize"
   ]
  },
  {
   "cell_type": "code",
   "execution_count": 17,
   "metadata": {
    "collapsed": true
   },
   "outputs": [],
   "source": [
    "equilibration = 10  # Setting very low for this example only\n",
    "sampler.gen_config(mdsteps=equilibration)"
   ]
  },
  {
   "cell_type": "markdown",
   "metadata": {},
   "source": [
    "### Run"
   ]
  },
  {
   "cell_type": "code",
   "execution_count": 18,
   "metadata": {
    "collapsed": true
   },
   "outputs": [],
   "source": [
    "sampler.multimove(nmoves = 10, mdsteps=mdsteps, saltsteps=attempts)"
   ]
  },
  {
   "cell_type": "markdown",
   "metadata": {},
   "source": [
    "### Record the work"
   ]
  },
  {
   "cell_type": "code",
   "execution_count": 19,
   "metadata": {
    "collapsed": true
   },
   "outputs": [],
   "source": [
    "work_to_remove_salt = sampler.saltswap.work_rm"
   ]
  }
 ],
 "metadata": {
  "kernelspec": {
   "display_name": "Python 2",
   "language": "python",
   "name": "python2"
  },
  "language_info": {
   "codemirror_mode": {
    "name": "ipython",
    "version": 2
   },
   "file_extension": ".py",
   "mimetype": "text/x-python",
   "name": "python",
   "nbconvert_exporter": "python",
   "pygments_lexer": "ipython2",
   "version": "2.7.11"
  }
 },
 "nbformat": 4,
 "nbformat_minor": 0
}
