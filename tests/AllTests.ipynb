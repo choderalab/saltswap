{
 "cells": [
  {
   "cell_type": "code",
   "execution_count": 1,
   "metadata": {
    "collapsed": false
   },
   "outputs": [],
   "source": [
    "# Loading modules and pretty colours\n",
    "from simtk import openmm, unit\n",
    "from simtk.openmm import app\n",
    "from openmmtools.testsystems import WaterBox\n",
    "import sys\n",
    "sys.path.append(\"../saltswap/\")\n",
    "from mcmc_samplers import MCMCSampler\n",
    "import numpy as np\n",
    "import matplotlib.pyplot as plt\n",
    "from pymbar import timeseries as ts\n",
    "from time import time\n",
    "from IPython.display import Image\n",
    "%matplotlib inline\n",
    "# Nice colours, taken on 26th Nov 2015 from:\n",
    "#http://tableaufriction.blogspot.co.uk/2012/11/finally-you-can-use-tableau-data-colors.html\n",
    "\n",
    "# These are the \"Tableau\" colors as RGB. I've chosen my faves.\n",
    "# In order: blue, green, purple, orange. Hopefully a good compromise for colour-blind people.\n",
    "tableau4 = [(31, 119, 180),(44, 160, 44),(148,103,189),(255, 127, 14)]\n",
    "tableau4_light = [(174,199,232),(152,223,138),(197,176,213),(255,187,120)]\n",
    "\n",
    "# Scale the RGB values to the [0, 1] range, which is the format matplotlib accepts.\n",
    "for i in range(len(tableau4)):\n",
    "    r, g, b = tableau4[i]\n",
    "    tableau4[i] = (r / 255., g / 255., b / 255.)\n",
    "    r, g, b = tableau4_light[i]\n",
    "    tableau4_light[i] = (r / 255., g / 255., b / 255.)"
   ]
  },
  {
   "cell_type": "code",
   "execution_count": 2,
   "metadata": {
    "collapsed": false
   },
   "outputs": [],
   "source": [
    "# Simulation parameters\n",
    "mus = [-1.0, 0.0, 1.0]      # The applied (delta) chemical potentials\n",
    "mus_axs = np.array(mus)\n",
    "\n",
    "#Nsamps = 200                # The number of sampling blocks\n",
    "#nattempts = 20              # The number of insertion/deletion attempts in a sampling block\n",
    "\n",
    "Nsamps = 1                # The number of sampling blocks\n",
    "nattempts = 20              # The number of insertion/deletion attempts in a sampling block\n",
    "\n",
    "skip = 50\n",
    "# NCMC specific parameters\n",
    "nprop = 1\n",
    "npert = 1\n",
    "\n",
    "# Creating the test system\n",
    "size = 15.0*unit.angstrom\n",
    "temperature = 300*unit.kelvin\n",
    "pressure = 1*unit.atmospheres\n",
    "cutoff = size/2 - 0.5*unit.angstrom   # The electrostatic cutoff. Must be at least half the system size\n",
    "\n",
    "# Pre-assigment\n",
    "r_inst = np.zeros(len(mus))      # mean ratio of water to salt\n",
    "r_ghmc = np.zeros(len(mus))\n",
    "r_vv = np.zeros(len(mus))\n",
    "\n",
    "rstd_inst = np.zeros(len(mus))   # standard deviation of water to salt\n",
    "rstd_ghmc = np.zeros(len(mus))\n",
    "rstd_vv = np.zeros(len(mus))\n"
   ]
  },
  {
   "cell_type": "markdown",
   "metadata": {},
   "source": [
    "# Instanstaneous switching"
   ]
  },
  {
   "cell_type": "code",
   "execution_count": 3,
   "metadata": {
    "collapsed": false,
    "scrolled": false
   },
   "outputs": [
    {
     "name": "stdout",
     "output_type": "stream",
     "text": [
      "Instanstaneous switching test took 50.916752 seconds\n"
     ]
    }
   ],
   "source": [
    "t = time()\n",
    "for i in range(len(mus)):\n",
    "    wbox = WaterBox(box_edge=size,nonbondedMethod=app.PME,cutoff=cutoff)\n",
    "    dummystate = MCMCSampler(wbox.system,wbox.topology,wbox.positions,delta_chem=mus[i])\n",
    "    dummystate.saltswap.cation_parameters = dummystate.saltswap.water_parameters\n",
    "    dummystate.saltswap.anion_parameters = dummystate.saltswap.water_parameters\n",
    "    dummystate.saltswap.set_parampath()\n",
    "    ratio = []\n",
    "    for block in range(Nsamps):\n",
    "        dummystate.gen_label(saltsteps=nattempts)\n",
    "        (nwats,nsalt,junk) = dummystate.saltswap.getIdentityCounts()\n",
    "        ratio.append(1.0*nwats/nsalt)\n",
    "    ratio = np.array(ratio)\n",
    "    r_inst[i] = ratio[skip:].mean()\n",
    "    try:\n",
    "        stat_ineff = ts.statisticalInefficiency(ratio[skip:])\n",
    "    except ts.ParameterError:\n",
    "        stat_ineff = 3\n",
    "    rstd_inst[i] = ratio[skip:].std()*np.sqrt(stat_ineff)\n",
    "print 'Instanstaneous switching test took {0:f} seconds'.format(time() - t)"
   ]
  },
  {
   "cell_type": "code",
   "execution_count": 4,
   "metadata": {
    "collapsed": false
   },
   "outputs": [
    {
     "data": {
      "image/png": "[encoded data removed]",
      "text/plain": [
       "<matplotlib.figure.Figure at 0x11121c850>"
      ]
     },
     "metadata": {},
     "output_type": "display_data"
    }
   ],
   "source": [
    "mus_axs = np.array(mus)\n",
    "delta = 0.1\n",
    "xlims = (mus[0]-delta,mus[-1]+delta)\n",
    "x = np.linspace(xlims[0],xlims[1])\n",
    "\n",
    "plt.clf()\n",
    "plt.errorbar(mus_axs,r_inst,yerr=2*rstd_inst/np.sqrt(Nsamps),fmt='o',color=tableau4[0])\n",
    "plt.plot(x,np.exp(np.array(x)/2), 'r--',linewidth=2,color=tableau4[3])\n",
    "#plt.plot(mus,w/s,color=tableau4[1])\n",
    "plt.xlim(xlims)\n",
    "#plt.ylim((0.75,3))\n",
    "plt.xlabel('Difference in dimentionless chemical potential')\n",
    "plt.ylabel('Ratio of Water to Salt concentration')\n",
    "plt.title('Instantaneous moves')\n",
    "plt.legend(['Analytical ratio','Average ratio, 95% confidence interval'],loc=2)\n",
    "plt.show()"
   ]
  },
  {
   "cell_type": "markdown",
   "metadata": {},
   "source": [
    "# NCMC with GHMC"
   ]
  },
  {
   "cell_type": "code",
   "execution_count": 3,
   "metadata": {
    "collapsed": false
   },
   "outputs": [
    {
     "name": "stdout",
     "output_type": "stream",
     "text": [
      "NCMC test with GHMC took 384.111443 seconds\n"
     ]
    }
   ],
   "source": [
    "t = time()\n",
    "for i in range(len(mus)):\n",
    "    wbox = WaterBox(box_edge=size,nonbondedMethod=app.PME,cutoff=cutoff)\n",
    "    dummystate = MCMCSampler(wbox.system,wbox.topology,wbox.positions,delta_chem=mus[i],npert=npert,nprop=nprop,propagator='GHMC')\n",
    "    dummystate.saltswap.cation_parameters = dummystate.saltswap.water_parameters\n",
    "    dummystate.saltswap.anion_parameters = dummystate.saltswap.water_parameters\n",
    "    dummystate.saltswap.set_parampath()\n",
    "    ratio = []\n",
    "    for block in range(Nsamps):\n",
    "        dummystate.gen_label(saltsteps=nattempts)\n",
    "        (nwats,nsalt,junk) = dummystate.saltswap.getIdentityCounts()\n",
    "        ratio.append(1.0*nwats/nsalt)\n",
    "    ratio = np.array(ratio)\n",
    "    r_ghmc[i] = ratio[skip:].mean()\n",
    "    try:\n",
    "        stat_ineff = ts.statisticalInefficiency(ratio[skip:])\n",
    "    except ts.ParameterError:\n",
    "        stat_ineff = 3\n",
    "    rstd_ghmc[i] = ratio[skip:].std()*np.sqrt(stat_ineff)\n",
    "print 'NCMC test with GHMC took {0:f} seconds'.format(time() - t)"
   ]
  },
  {
   "cell_type": "code",
   "execution_count": 4,
   "metadata": {
    "collapsed": false
   },
   "outputs": [
    {
     "data": {
      "image/png": "[encoded data removed]",
      "text/plain": [
       "<matplotlib.figure.Figure at 0x11123fb90>"
      ]
     },
     "metadata": {},
     "output_type": "display_data"
    }
   ],
   "source": [
    "delta = 0.1\n",
    "xlims = (mus[0]-delta,mus[-1]+delta)\n",
    "x = np.linspace(xlims[0],xlims[1])\n",
    "\n",
    "plt.clf()\n",
    "plt.errorbar(mus_axs,r_ghmc,yerr=2*rstd_ghmc/np.sqrt(Nsamps),fmt='o',color=tableau4[0])\n",
    "plt.plot(x,np.exp(np.array(x)/2), 'r--',linewidth=2,color=tableau4[3])\n",
    "#plt.plot(mus,w/s,color=tableau4[1])\n",
    "plt.xlim(xlims)\n",
    "#plt.ylim((0.75,3))\n",
    "plt.xlabel('Difference in dimentionless chemical potential')\n",
    "plt.ylabel('Ratio of Water to Salt concentration')\n",
    "plt.title('Instantaneous moves')\n",
    "plt.legend(['Analytical ratio','Average ratio, 95% confidence interval'],loc=2)\n",
    "plt.show()"
   ]
  },
  {
   "cell_type": "markdown",
   "metadata": {},
   "source": [
    "# NCMC with velocity Verlet\n",
    "VELOCITY VERLET INTEGRATOR DOES NOT APPEAR TO CONSERVE ENERGY!"
   ]
  },
  {
   "cell_type": "code",
   "execution_count": 3,
   "metadata": {
    "collapsed": false,
    "scrolled": true
   },
   "outputs": [
    {
     "name": "stdout",
     "output_type": "stream",
     "text": [
      "preloop pot_old= 3878.30610771 kJ/mol\n",
      "preloop pot_new= 2479.29017 kJ/mol\n",
      "preloop pot_old= 587.611193133 kJ/mol\n",
      "preloop pot_new= 2479.29010949 kJ/mol\n",
      "preloop pot_old= 587.611193133 kJ/mol\n",
      "preloop pot_new= 2479.29018579 kJ/mol\n",
      "preloop pot_old= 587.61122365 kJ/mol\n",
      "preloop pot_new= 2479.29020841 kJ/mol\n",
      "preloop pot_old= 587.611193133 kJ/mol\n",
      "preloop pot_new= 2479.29018579 kJ/mol\n",
      "preloop pot_old= 587.61122365 kJ/mol\n",
      "preloop pot_new= 2479.29018579 kJ/mol\n",
      "preloop pot_old= 587.611193133 kJ/mol\n",
      "preloop pot_new= 2479.29020841 kJ/mol\n",
      "preloop pot_old= 587.611193133 kJ/mol\n",
      "preloop pot_new= 2479.29022393 kJ/mol\n",
      "preloop pot_old= 587.611193133 kJ/mol\n",
      "preloop pot_new= 2479.29018579 kJ/mol\n",
      "preloop pot_old= 587.61122365 kJ/mol\n",
      "preloop pot_new= 2479.29019342 kJ/mol\n",
      "preloop pot_old= 587.61122365 kJ/mol\n",
      "preloop pot_new= 2479.29018579 kJ/mol\n",
      "preloop pot_old= 587.61122365 kJ/mol\n",
      "preloop pot_new= 2479.29020052 kJ/mol\n",
      "preloop pot_old= 587.611193133 kJ/mol\n",
      "preloop pot_new= 2479.29018579 kJ/mol\n",
      "preloop pot_old= 587.611193133 kJ/mol\n",
      "preloop pot_new= 2479.29022393 kJ/mol\n",
      "preloop pot_old= 587.61122365 kJ/mol\n",
      "preloop pot_new= 2479.29023893 kJ/mol\n",
      "preloop pot_old= 587.611193133 kJ/mol\n",
      "preloop pot_new= 2479.29017 kJ/mol\n",
      "preloop pot_old= 587.611162615 kJ/mol\n",
      "preloop pot_new= 2479.29021604 kJ/mol\n",
      "preloop pot_old= 587.61122365 kJ/mol\n",
      "preloop pot_new= 2479.29018579 kJ/mol\n",
      "preloop pot_old= 587.611193133 kJ/mol\n",
      "preloop pot_new= 2479.29017 kJ/mol\n",
      "preloop pot_old= 587.611193133 kJ/mol\n",
      "preloop pot_new= 2479.29017 kJ/mol\n"
     ]
    },
    {
     "name": "stderr",
     "output_type": "stream",
     "text": [
      "/Users/rossg/miniconda2/lib/python2.7/site-packages/numpy/core/_methods.py:59: RuntimeWarning: Mean of empty slice.\n",
      "  warnings.warn(\"Mean of empty slice.\", RuntimeWarning)\n",
      "/Users/rossg/miniconda2/lib/python2.7/site-packages/numpy/core/_methods.py:70: RuntimeWarning: invalid value encountered in double_scalars\n",
      "  ret = ret.dtype.type(ret / rcount)\n",
      "/Users/rossg/miniconda2/lib/python2.7/site-packages/numpy/core/_methods.py:82: RuntimeWarning: Degrees of freedom <= 0 for slice\n",
      "  warnings.warn(\"Degrees of freedom <= 0 for slice\", RuntimeWarning)\n",
      "/Users/rossg/miniconda2/lib/python2.7/site-packages/numpy/core/_methods.py:94: RuntimeWarning: invalid value encountered in true_divide\n",
      "  arrmean, rcount, out=arrmean, casting='unsafe', subok=False)\n",
      "/Users/rossg/miniconda2/lib/python2.7/site-packages/numpy/core/_methods.py:116: RuntimeWarning: invalid value encountered in double_scalars\n",
      "  ret = ret.dtype.type(ret / rcount)\n"
     ]
    },
    {
     "name": "stdout",
     "output_type": "stream",
     "text": [
      "preloop pot_old= 3878.30604667 kJ/mol\n",
      "preloop pot_new= 2386.6640647 kJ/mol\n",
      "preloop pot_old= 524.419897567 kJ/mol\n",
      "preloop pot_new= 2386.66401972 kJ/mol\n",
      "preloop pot_old= 524.419867049 kJ/mol\n",
      "preloop pot_new= 2386.6640647 kJ/mol\n",
      "preloop pot_old= 524.419836532 kJ/mol\n",
      "preloop pot_new= 2386.66405024 kJ/mol\n",
      "preloop pot_old= 524.419867049 kJ/mol\n",
      "preloop pot_new= 2386.66402866 kJ/mol\n",
      "preloop pot_old= 524.419897567 kJ/mol\n",
      "preloop pot_new= 2386.66405918 kJ/mol\n",
      "preloop pot_old= 524.419897567 kJ/mol\n",
      "preloop pot_new= 2386.66410043 kJ/mol\n",
      "preloop pot_old= 524.419897567 kJ/mol\n",
      "preloop pot_new= 2386.6640647 kJ/mol\n",
      "preloop pot_old= 524.419867049 kJ/mol\n",
      "preloop pot_new= 2386.66406992 kJ/mol\n",
      "preloop pot_old= 524.419897567 kJ/mol\n",
      "preloop pot_new= 2386.66409522 kJ/mol\n",
      "preloop pot_old= 524.419867049 kJ/mol\n",
      "preloop pot_new= 2386.6640647 kJ/mol\n",
      "preloop pot_old= 524.419867049 kJ/mol\n",
      "preloop pot_new= 2386.6640647 kJ/mol\n",
      "preloop pot_old= 524.419897567 kJ/mol\n",
      "preloop pot_new= 2386.66408076 kJ/mol\n",
      "preloop pot_old= 524.419836532 kJ/mol\n",
      "preloop pot_new= 2386.66403418 kJ/mol\n",
      "preloop pot_old= 524.419867049 kJ/mol\n",
      "preloop pot_new= 2386.66409522 kJ/mol\n",
      "preloop pot_old= 524.419897567 kJ/mol\n",
      "preloop pot_new= 2386.6640647 kJ/mol\n",
      "preloop pot_old= 524.419867049 kJ/mol\n",
      "preloop pot_new= 2386.66410043 kJ/mol\n",
      "preloop pot_old= 524.419836532 kJ/mol\n",
      "preloop pot_new= 2386.6640647 kJ/mol\n",
      "preloop pot_old= 524.419897567 kJ/mol\n",
      "preloop pot_new= 2386.6640647 kJ/mol\n",
      "preloop pot_old= 524.419897567 kJ/mol\n",
      "preloop pot_new= 2386.66409522 kJ/mol\n",
      "preloop pot_old= 3878.30604667 kJ/mol\n",
      "preloop pot_new= 2371.95492254 kJ/mol\n",
      "preloop pot_old= 537.927575431 kJ/mol\n",
      "preloop pot_new= 2371.95492238 kJ/mol\n",
      "preloop pot_old= 537.927605949 kJ/mol\n",
      "preloop pot_new= 2371.95487971 kJ/mol\n",
      "preloop pot_old= 537.927544913 kJ/mol\n",
      "preloop pot_new= 2371.95492254 kJ/mol\n",
      "preloop pot_old= 537.927575431 kJ/mol\n",
      "preloop pot_new= 2371.95495306 kJ/mol\n",
      "preloop pot_old= 537.927575431 kJ/mol\n",
      "preloop pot_new= 2371.95492254 kJ/mol\n",
      "preloop pot_old= 537.927575431 kJ/mol\n",
      "preloop pot_new= 2371.9549529 kJ/mol\n",
      "preloop pot_old= 537.927575431 kJ/mol\n",
      "preloop pot_new= 2371.95492238 kJ/mol\n",
      "preloop pot_old= 537.927544913 kJ/mol\n",
      "preloop pot_new= 2371.95492238 kJ/mol\n",
      "preloop pot_old= 537.927575431 kJ/mol\n",
      "preloop pot_new= 2371.95492238 kJ/mol\n",
      "preloop pot_old= 537.927544913 kJ/mol\n",
      "preloop pot_new= 2371.95492254 kJ/mol\n",
      "preloop pot_old= 537.927575431 kJ/mol\n",
      "preloop pot_new= 2371.9549529 kJ/mol\n",
      "preloop pot_old= 537.927605949 kJ/mol\n",
      "preloop pot_new= 2371.95492254 kJ/mol\n",
      "preloop pot_old= 537.927544913 kJ/mol\n",
      "preloop pot_new= 2371.9549529 kJ/mol\n",
      "preloop pot_old= 537.927544913 kJ/mol\n",
      "preloop pot_new= 2371.95487971 kJ/mol\n",
      "preloop pot_old= 537.927544913 kJ/mol\n",
      "preloop pot_new= 2371.9549529 kJ/mol\n",
      "preloop pot_old= 537.927605949 kJ/mol\n",
      "preloop pot_new= 2371.95487971 kJ/mol\n",
      "preloop pot_old= 537.927575431 kJ/mol\n",
      "preloop pot_new= 2371.95492254 kJ/mol\n",
      "preloop pot_old= 537.927575431 kJ/mol\n",
      "preloop pot_new= 2371.95492254 kJ/mol\n",
      "preloop pot_old= 537.927575431 kJ/mol\n",
      "preloop pot_new= 2371.95493767 kJ/mol\n",
      "NCMC test with velocity Verlet took 1.540482 seconds\n"
     ]
    }
   ],
   "source": [
    "t = time()\n",
    "for i in range(len(mus)):\n",
    "    wbox = WaterBox(box_edge=size,nonbondedMethod=app.PME,cutoff=cutoff)\n",
    "    dummystate = MCMCSampler(wbox.system,wbox.topology,wbox.positions,delta_chem=mus[i],npert=npert,nprop=nprop,propagator='velocityVerlet')\n",
    "    dummystate.saltswap.cation_parameters = dummystate.saltswap.water_parameters\n",
    "    dummystate.saltswap.anion_parameters = dummystate.saltswap.water_parameters\n",
    "    dummystate.saltswap.set_parampath()\n",
    "    ratio = []\n",
    "    for block in range(Nsamps):\n",
    "        dummystate.gen_label(saltsteps=nattempts)\n",
    "        (nwats,nsalt,junk) = dummystate.saltswap.getIdentityCounts()\n",
    "        ratio.append(1.0*nwats/nsalt)\n",
    "    ratio = np.array(ratio)\n",
    "    r_vv[i] = ratio[skip:].mean()\n",
    "    try:\n",
    "        stat_ineff = ts.statisticalInefficiency(ratio[skip:])\n",
    "    except ts.ParameterError:\n",
    "        stat_ineff = 3\n",
    "    rstd_vv[i] = ratio[skip:].std()*np.sqrt(stat_ineff)\n",
    "print 'NCMC test with velocity Verlet took {0:f} seconds'.format(time() - t)"
   ]
  },
  {
   "cell_type": "code",
   "execution_count": 7,
   "metadata": {
    "collapsed": false
   },
   "outputs": [
    {
     "data": {
      "image/png": "[encoded data removed]",
      "text/plain": [
       "<matplotlib.figure.Figure at 0x11194dad0>"
      ]
     },
     "metadata": {},
     "output_type": "display_data"
    }
   ],
   "source": [
    "mus = np.array(mus)\n",
    "delta = 0.1\n",
    "xlims = (mus[0]-delta,mus[-1]+delta)\n",
    "x = np.linspace(xlims[0],xlims[1])\n",
    "\n",
    "plt.clf()\n",
    "plt.errorbar(mus,r_vv,yerr=2*rstd_vv/np.sqrt(Nsamps),fmt='o',color=tableau4[0])\n",
    "plt.plot(x,np.exp(np.array(x)/2), 'r--',linewidth=2,color=tableau4[3])\n",
    "#plt.plot(mus,w/s,color=tableau4[1])\n",
    "plt.xlim(xlims)\n",
    "#plt.ylim((0.75,3))\n",
    "plt.xlabel('Difference in dimentionless chemical potential')\n",
    "plt.ylabel('Ratio of Water to Salt concentration')\n",
    "plt.title('Instantaneous moves')\n",
    "plt.legend(['Analytical ratio','Average ratio, 95% confidence interval'],loc=2)\n",
    "plt.show()"
   ]
  },
  {
   "cell_type": "code",
   "execution_count": null,
   "metadata": {
    "collapsed": true
   },
   "outputs": [],
   "source": []
  }
 ],
 "metadata": {
  "kernelspec": {
   "display_name": "Python 2",
   "language": "python",
   "name": "python2"
  },
  "language_info": {
   "codemirror_mode": {
    "name": "ipython",
    "version": 2
   },
   "file_extension": ".py",
   "mimetype": "text/x-python",
   "name": "python",
   "nbconvert_exporter": "python",
   "pygments_lexer": "ipython2",
   "version": "2.7.11"
  }
 },
 "nbformat": 4,
 "nbformat_minor": 0
}
