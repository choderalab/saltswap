{
 "cells": [
  {
   "cell_type": "code",
   "execution_count": 2,
   "metadata": {
    "collapsed": true
   },
   "outputs": [],
   "source": [
    "import numpy as np\n",
    "from simtk import openmm, unit\n",
    "from simtk.openmm import app\n",
    "from openmmtools import integrators\n",
    "from openmmtools.testsystems import WaterBox\n",
    "\n",
    "import sys\n",
    "sys.path.append(\"/Users/rossg/Work/saltswap/saltswap\")\n",
    "from integrators import GHMCIntegrator as GHMC"
   ]
  },
  {
   "cell_type": "markdown",
   "metadata": {},
   "source": [
    "# Testing energy outputs from GHMC integrator\n",
    "\n",
    "From version `0.8.2` of `openmmtools`, the GHMC integrator can return the initial and final potential energies for each integration step. This notebook compares the energies returned by the integrator to the `context.getState()` function for \n",
    "1. Normal dynamics\n",
    "2. NCMC Dynamics with parameter perturbation with `setParticleParameters()` and `updateParametersInContext()`"
   ]
  },
  {
   "cell_type": "markdown",
   "metadata": {},
   "source": [
    "**CONCLUSION:** Energies returned by GHMC integrator match for normal dynamics, but do not agree with `context.getState()` following parameter perturbation."
   ]
  },
  {
   "cell_type": "markdown",
   "metadata": {},
   "source": [
    "## Normal dynamics\n",
    "\n",
    "Using a box of water as the test system, and choosing a timestep that results in high acceptance rates for the GHMC integrator."
   ]
  },
  {
   "cell_type": "code",
   "execution_count": 2,
   "metadata": {
    "collapsed": false
   },
   "outputs": [
    {
     "name": "stdout",
     "output_type": "stream",
     "text": [
      "Acceptance rate for dynamics = 0.975000\n"
     ]
    }
   ],
   "source": [
    "size = 20.0*unit.angstrom     # The length of the edges of the water box.\n",
    "temperature = 300*unit.kelvin\n",
    "pressure = 1*unit.atmospheres\n",
    "wbox = WaterBox(box_edge=size,nonbondedMethod=app.PME,cutoff=9*unit.angstrom,ewaldErrorTolerance=1E-6)\n",
    "ghmc = integrators.GHMCIntegrator(temperature, 1/unit.picosecond, 0.1*unit.femtoseconds)\n",
    "context = openmm.Context(wbox.system, ghmc)\n",
    "context.setPositions(wbox.positions)\n",
    "context.setVelocitiesToTemperature(temperature)\n",
    "ghmc.step(200)     # thermalisation\n",
    "\n",
    "accprob = ghmc.getGlobalVariableByName('naccept')/ghmc.getGlobalVariableByName('ntrials')\n",
    "print 'Acceptance rate for dynamics = {:3f}'.format(accprob) # Should be around 98%"
   ]
  },
  {
   "cell_type": "markdown",
   "metadata": {},
   "source": [
    "An example of comparing energies from the integrator and `getState`. They _should_ agree exactly."
   ]
  },
  {
   "cell_type": "code",
   "execution_count": 3,
   "metadata": {
    "collapsed": false
   },
   "outputs": [
    {
     "name": "stdout",
     "output_type": "stream",
     "text": [
      "Energy by | State          |   GHMC \n",
      "------------------------------------\n",
      "E old     | -5763.435050   | -5763.435050\n",
      "E new     | -5844.503080   | -5844.503080\n"
     ]
    }
   ],
   "source": [
    "naccept = ghmc.getGlobalVariableByName('naccept')\n",
    "state = context.getState(getEnergy=True)\n",
    "pot_old = state.getPotentialEnergy()\n",
    "ghmc.step(1)\n",
    "if ghmc.getGlobalVariableByName('naccept') > naccept:\n",
    "    state = context.getState(getEnergy=True)\n",
    "    pot_new = state.getPotentialEnergy()\n",
    "    print 'Energy by | State          |   GHMC '\n",
    "    print '------------------------------------'\n",
    "    print 'E old     | {:6f}   | {:6f}'.format(pot_old/unit.kilojoule_per_mole, ghmc.getGlobalVariableByName('potential_old'))\n",
    "    print 'E new     | {:6f}   | {:6f}'.format(pot_new/unit.kilojoule_per_mole, ghmc.getGlobalVariableByName('potential_new'))"
   ]
  },
  {
   "cell_type": "markdown",
   "metadata": {},
   "source": [
    "It appears they do. Repeating for many iterations:"
   ]
  },
  {
   "cell_type": "code",
   "execution_count": 4,
   "metadata": {
    "collapsed": false
   },
   "outputs": [],
   "source": [
    "enew = []\n",
    "eold = []\n",
    "ntrials = 500\n",
    "for trial in range(ntrials):    \n",
    "    naccept = ghmc.getGlobalVariableByName('naccept')\n",
    "    state = context.getState(getEnergy=True)\n",
    "    pot_old = state.getPotentialEnergy()/unit.kilojoule_per_mole\n",
    "    ghmc.step(1)\n",
    "    if ghmc.getGlobalVariableByName('naccept') > naccept:\n",
    "        state = context.getState(getEnergy=True)\n",
    "        pot_new = state.getPotentialEnergy()/unit.kilojoule_per_mole\n",
    "        eold.append((pot_old,ghmc.getGlobalVariableByName('potential_old')))\n",
    "        enew.append((pot_new,ghmc.getGlobalVariableByName('potential_new')))"
   ]
  },
  {
   "cell_type": "code",
   "execution_count": 5,
   "metadata": {
    "collapsed": false
   },
   "outputs": [
    {
     "name": "stdout",
     "output_type": "stream",
     "text": [
      "Fraction of initial energies that match = 1.0\n",
      "Fraction of final energies that match = 0.995926680244\n"
     ]
    }
   ],
   "source": [
    "print 'Fraction of initial energies that match =', len([True for x,y in eold if x==y])*1.0/len(eold)\n",
    "print 'Fraction of final energies that match =',len([True for x,y in enew if x==y])*1.0/len(enew)"
   ]
  },
  {
   "cell_type": "markdown",
   "metadata": {},
   "source": [
    "Intial energies consistently match. Slight mismatch with final energies though:"
   ]
  },
  {
   "cell_type": "code",
   "execution_count": 6,
   "metadata": {
    "collapsed": false
   },
   "outputs": [
    {
     "data": {
      "text/plain": [
       "[(-8035.988591316374, -8035.990770694392),\n",
       " (-8402.965382524693, -8402.963954129315)]"
      ]
     },
     "execution_count": 6,
     "metadata": {},
     "output_type": "execute_result"
    }
   ],
   "source": [
    "[(x,y) for x,y in enew if x!=y]"
   ]
  },
  {
   "cell_type": "markdown",
   "metadata": {},
   "source": [
    "The descrepancy seems to be a matter of imprecision, and of no great concern."
   ]
  },
  {
   "cell_type": "markdown",
   "metadata": {
    "collapsed": true
   },
   "source": [
    "### Updating parameters"
   ]
  },
  {
   "cell_type": "markdown",
   "metadata": {},
   "source": [
    "Creating the water box as the test system again"
   ]
  },
  {
   "cell_type": "code",
   "execution_count": 7,
   "metadata": {
    "collapsed": false
   },
   "outputs": [
    {
     "name": "stdout",
     "output_type": "stream",
     "text": [
      "Acceptance rate = 0.970000\n"
     ]
    }
   ],
   "source": [
    "size = 20.0*unit.angstrom     # The length of the edges of the water box.\n",
    "temperature = 300*unit.kelvin\n",
    "pressure = 1*unit.atmospheres\n",
    "wbox = WaterBox(box_edge=size,nonbondedMethod=app.PME,cutoff=9*unit.angstrom,ewaldErrorTolerance=1E-6)\n",
    "ghmc = integrators.GHMCIntegrator(temperature, 1/unit.picosecond, 0.1*unit.femtoseconds)\n",
    "context = openmm.Context(wbox.system, ghmc)\n",
    "context.setPositions(wbox.positions)\n",
    "context.setVelocitiesToTemperature(temperature)\n",
    "ghmc.step(200)     # thermalisation\n",
    "\n",
    "accprob = ghmc.getGlobalVariableByName('naccept')/ghmc.getGlobalVariableByName('ntrials')\n",
    "print 'Acceptance rate = {:3f}'.format(accprob) # Should be around 97%"
   ]
  },
  {
   "cell_type": "markdown",
   "metadata": {},
   "source": [
    "Modifying the non-bonded parameters of the first water molecule to see if that affects the energies that are retured by the GHMC integrator."
   ]
  },
  {
   "cell_type": "code",
   "execution_count": 8,
   "metadata": {
    "collapsed": false
   },
   "outputs": [
    {
     "name": "stdout",
     "output_type": "stream",
     "text": [
      "Oxygen 1 [Quantity(value=-0.834, unit=elementary charge), Quantity(value=0.3150752406575124, unit=nanometer), Quantity(value=0.635968, unit=kilojoule/mole)]\n",
      "Hydrogen 1 [Quantity(value=0.417, unit=elementary charge), Quantity(value=1.0, unit=nanometer), Quantity(value=0.0, unit=kilojoule/mole)]\n",
      "Hydrogen 2 [Quantity(value=0.417, unit=elementary charge), Quantity(value=1.0, unit=nanometer), Quantity(value=0.0, unit=kilojoule/mole)]\n"
     ]
    }
   ],
   "source": [
    "force = wbox.system.getForce(2)       # Non-bonded force.\n",
    "print'Oxygen 1', force.getParticleParameters(0)\n",
    "print'Hydrogen 1', force.getParticleParameters(1)\n",
    "print'Hydrogen 2', force.getParticleParameters(2)"
   ]
  },
  {
   "cell_type": "markdown",
   "metadata": {},
   "source": [
    "Creating 2 functions to perturb the nonbonded parameters of the 1st water to test the agreement of the energy calculation methods after `updateParametersInContext` in an NCMC protocol."
   ]
  },
  {
   "cell_type": "code",
   "execution_count": 5,
   "metadata": {
    "collapsed": true
   },
   "outputs": [],
   "source": [
    "def switchoff(force,context,frac=0.95):\n",
    "    \"\"\"\n",
    "    Function to modify the non bonded parameters of the non-bonded parameters for the first tip3p water molecules.\n",
    "    \"\"\"\n",
    "    force.setParticleParameters(0,charge=-0.834*frac,sigma=0.3150752406575124*frac,epsilon=0.635968*frac)\n",
    "    force.setParticleParameters(1,charge=0.417*frac,sigma=0,epsilon=1*frac)\n",
    "    force.setParticleParameters(2,charge=0.417*frac,sigma=0,epsilon=1*frac)\n",
    "    force.updateParametersInContext(context)\n",
    "    \n",
    "def switchon(force,context):\n",
    "    \"\"\"\n",
    "    Function to reset the non bonded parameters of the non-bonded parameters for the first tip3p water molecules.\n",
    "    \"\"\"\n",
    "    force.setParticleParameters(0,charge=-0.834,sigma=0.3150752406575124,epsilon=0.635968)\n",
    "    force.setParticleParameters(1,charge=0.417,sigma=0,epsilon=1)\n",
    "    force.setParticleParameters(2,charge=0.417,sigma=0,epsilon=1)\n",
    "    force.updateParametersInContext(context)"
   ]
  },
  {
   "cell_type": "code",
   "execution_count": 6,
   "metadata": {
    "collapsed": true
   },
   "outputs": [],
   "source": [
    "def NCMC_simple(ntrials):\n",
    "    \"\"\"\n",
    "    Function to compare potential energies calcualted vie 'getState' and the energies returned from the GHMC integrator.\n",
    "    The non-bonded parameters of the first water molecules will be slowly decoupled. \n",
    "    \n",
    "    \n",
    "    Just like the NCMC function in SaltSwap, the protocol follows\n",
    "        propagation -> perturbation -> propagation\n",
    "    where the first propagation step is outside the loop.    \n",
    "    \n",
    "    \"\"\"\n",
    "    eold = []\n",
    "    enew = []\n",
    "    ghmc.step(1)     # propagation\n",
    "    naccept = ghmc.getGlobalVariableByName('naccept')\n",
    "    for n in range(ntrials):\n",
    "        fraction = 1 - float(n + 1)/ntrials\n",
    "        # Get the energy BEFORE the parameters are perturbed.\n",
    "        state = context.getState(getEnergy=True)\n",
    "        pot_old = state.getPotentialEnergy()/unit.kilojoule_per_mole\n",
    "        # Saving potential energy via getState and from integrator\n",
    "        eold.append((pot_old,ghmc.getGlobalVariableByName('potential_new')))\n",
    "        \n",
    "        # Perturbation\n",
    "        switchoff(force,context,frac=fraction)          \n",
    "        \n",
    "        # Get the energy AFTER the parameters have been perturbed.\n",
    "        state = context.getState(getEnergy=True)\n",
    "        pot_new = state.getPotentialEnergy()/unit.kilojoule_per_mole\n",
    "        # Propagation. A step is required for GHMC to calculate energy\n",
    "        ghmc.step(1)     # The 'old' energy for one step should be the energy after perturbation\n",
    "        enew.append((pot_new,ghmc.getGlobalVariableByName('potential_old')))\n",
    "    switchon(force,context)         # Reset the non-bonded parameters of the water\n",
    "    return eold, enew"
   ]
  },
  {
   "cell_type": "markdown",
   "metadata": {},
   "source": [
    "Running an NCMC perturbation, and seeing the agreement between energies before and after perturbation:"
   ]
  },
  {
   "cell_type": "code",
   "execution_count": 11,
   "metadata": {
    "collapsed": false
   },
   "outputs": [
    {
     "name": "stdout",
     "output_type": "stream",
     "text": [
      "Fraction of initial energies that match = 0.72\n",
      "Fraction of final energies that match = 0.29\n"
     ]
    }
   ],
   "source": [
    "eold, enew = NCMC_simple(100)\n",
    "print 'Fraction of initial energies that match =', len([True for x,y in eold if x==y])*1.0/len(eold)\n",
    "print 'Fraction of final energies that match =',len([True for x,y in enew if x==y])*1.0/len(enew)"
   ]
  },
  {
   "cell_type": "markdown",
   "metadata": {},
   "source": [
    "Printing out the potential energies that **don't** match:"
   ]
  },
  {
   "cell_type": "code",
   "execution_count": 12,
   "metadata": {
    "collapsed": false,
    "scrolled": true
   },
   "outputs": [
    {
     "data": {
      "text/plain": [
       "[(-4231.614510262749, -4231.931195994082),\n",
       " (-3806.634617177362, -3807.1440901085007),\n",
       " (-3951.8243538296956, -3952.411745872887),\n",
       " (-3157.754483972225, -3158.513551353477),\n",
       " (-2799.158542065328, -2799.992254527431),\n",
       " (-3320.1431229580485, -3321.0253412376915),\n",
       " (-3148.8798992618104, -3149.7803721298696),\n",
       " (-3931.8398464503553, -3932.7674212759302),\n",
       " (-3631.263055251955, -3632.1988150966354),\n",
       " (-3780.9080000684917, -3781.8447055953),\n",
       " (-3305.654427484027, -3306.592756998405),\n",
       " (-3467.6516695901228, -3467.6486614310124),\n",
       " (-3622.90366193706, -3623.8367153573927),\n",
       " (-3300.1814285161527, -3301.1110140539677),\n",
       " (-3460.9492016657314, -3461.873379896555),\n",
       " (-2774.3750429078063, -2775.2918016197364),\n",
       " (-3122.710302863459, -3123.6175864718243),\n",
       " (-2769.231617966594, -2770.133770477245),\n",
       " (-2945.089364096464, -2945.98593367837),\n",
       " (-2398.6852345952066, -2399.575687743956),\n",
       " (-3110.5107034996618, -3111.387735661032),\n",
       " (-2935.414410418307, -2936.289349994913),\n",
       " (-3435.783847078317, -3436.650736820462),\n",
       " (-3271.7131710239046, -3272.5795593189396),\n",
       " (-3432.317617813256, -3433.181656408502),\n",
       " (-2565.1490092423483, -2566.0219957886293),\n",
       " (-2744.3461334805324, -2745.2249615023757),\n",
       " (-2561.58211681417, -2562.4795247597067)]"
      ]
     },
     "execution_count": 12,
     "metadata": {},
     "output_type": "execute_result"
    }
   ],
   "source": [
    "[(x,y) for x,y in eold if x!=y]       # Energies before a perturbation"
   ]
  },
  {
   "cell_type": "code",
   "execution_count": 13,
   "metadata": {
    "collapsed": false,
    "scrolled": true
   },
   "outputs": [
    {
     "data": {
      "text/plain": [
       "[(-2625.6427968805365, -2623.083928453867),\n",
       " (-2810.0074041299376, -2809.609882189863),\n",
       " (-2990.3612782289856, -2990.066746834651),\n",
       " (-3165.73988051567, -3165.541082356649),\n",
       " (-3335.4254415200994, -3335.3163736485294),\n",
       " (-3499.2515678565833, -3499.22666621003),\n",
       " (-3657.1295513827063, -3657.182881863031),\n",
       " (-3809.1499272844667, -3809.2763552050747),\n",
       " (-3955.4109167735296, -3955.6057225427503),\n",
       " (-4096.1235805537435, -4096.381564060153),\n",
       " (-4231.614510262749, -4231.931195994082),\n",
       " (-4094.9957466206833, -4095.4161692123453),\n",
       " (-3953.533785533087, -3954.000325013636),\n",
       " (-3806.634617177362, -3807.1440901085007),\n",
       " (-3951.8243538296956, -3952.411745872887),\n",
       " (-3804.1559753117763, -3804.8098894827563),\n",
       " (-3651.3779635172396, -3652.061821955969),\n",
       " (-3492.676100922996, -3493.3864628713636),\n",
       " (-3328.1136258449405, -3328.849620053792),\n",
       " (-3157.754483972225, -3158.513551353477),\n",
       " (-2980.0468766336853, -2980.8642364321713),\n",
       " (-2799.158542065328, -2799.992254527431),\n",
       " (-2977.3380078757036, -2978.1988576247822),\n",
       " (-3151.4932678162877, -3152.3654227582592),\n",
       " (-3320.1431229580485, -3321.0253412376915),\n",
       " (-3148.8798992618104, -3149.7803721298696),\n",
       " (-3316.439582261737, -3317.3528359949414),\n",
       " (-3479.0339802086237, -3479.9520977321226),\n",
       " (-3635.7639161049883, -3636.6859567530337),\n",
       " (-3786.6648900067376, -3787.5901750102203),\n",
       " (-3931.8398464503553, -3932.7674212759302),\n",
       " (-3783.8768088188954, -3784.809916383878),\n",
       " (-3631.263055251955, -3632.1988150966354),\n",
       " (-3780.9080000684917, -3781.8447055953),\n",
       " (-3627.5790174269787, -3628.516578533454),\n",
       " (-3469.4990645466896, -3470.4374469445756),\n",
       " (-3305.654427484027, -3306.592756998405),\n",
       " (-3622.90366193706, -3623.8367153573927),\n",
       " (-3463.909086950982, -3464.8395964896335),\n",
       " (-3300.1814285161527, -3301.1110140539677),\n",
       " (-3460.9492016657314, -3461.873379896555),\n",
       " (-3296.5856495994085, -3297.5065960335196),\n",
       " (-3127.525797626309, -3128.445025042369),\n",
       " (-2953.257396990477, -2954.1754340742045),\n",
       " (-2774.3750429078063, -2775.2918016197364),\n",
       " (-2950.410359495305, -2951.3210132893582),\n",
       " (-3122.710302863459, -3123.6175864718243),\n",
       " (-2947.789610301479, -2948.6930772611086),\n",
       " (-2769.231617966594, -2770.133770477245),\n",
       " (-2945.089364096464, -2945.98593367837),\n",
       " (-2765.6279023252137, -2766.5209251866763),\n",
       " (-2583.298986269394, -2584.190467836306),\n",
       " (-2398.6852345952066, -2399.575687743956),\n",
       " (-2580.63436304027, -2581.5197215877706),\n",
       " (-2761.2577586359694, -2762.1402764270897),\n",
       " (-2938.1841490497172, -2939.0638189525926),\n",
       " (-3110.5107034996618, -3111.387735661032),\n",
       " (-2935.414410418307, -2936.289349994913),\n",
       " (-3107.0353459831676, -3107.9065597422305),\n",
       " (-3274.261416243433, -3275.1304856262286),\n",
       " (-3435.783847078317, -3436.650736820462),\n",
       " (-3271.7131710239046, -3272.5795593189396),\n",
       " (-3432.317617813256, -3433.181656408502),\n",
       " (-3268.261678180643, -3269.1265857488615),\n",
       " (-3099.579188497213, -3100.4454857040982),\n",
       " (-2925.6771609414427, -2926.545136756904),\n",
       " (-2747.20235184145, -2748.0725065133593),\n",
       " (-2565.1490092423483, -2566.0219957886293),\n",
       " (-2744.3461334805324, -2745.2249615023757),\n",
       " (-2561.58211681417, -2562.4795247597067),\n",
       " (-2740.716027202565, -2741.779382650813)]"
      ]
     },
     "execution_count": 13,
     "metadata": {},
     "output_type": "execute_result"
    }
   ],
   "source": [
    "[(x,y) for x,y in enew if x!=y]       # Energies after a perturbation"
   ]
  },
  {
   "cell_type": "markdown",
   "metadata": {},
   "source": [
    "Orginal energies and final energies hardly match. This corroborating what I found in `saltswap`."
   ]
  },
  {
   "cell_type": "markdown",
   "metadata": {
    "collapsed": true
   },
   "source": [
    "## Testing modified NCMC integrator"
   ]
  },
  {
   "cell_type": "code",
   "execution_count": 3,
   "metadata": {
    "collapsed": false
   },
   "outputs": [
    {
     "name": "stdout",
     "output_type": "stream",
     "text": [
      "Acceptance rate = 0.950000\n"
     ]
    }
   ],
   "source": [
    "size = 20.0*unit.angstrom     # The length of the edges of the water box.\n",
    "temperature = 300*unit.kelvin\n",
    "pressure = 1*unit.atmospheres\n",
    "wbox = WaterBox(box_edge=size,nonbondedMethod=app.PME,cutoff=9*unit.angstrom,ewaldErrorTolerance=1E-6)\n",
    "ghmc = GHMC(temperature, 1/unit.picosecond, 0.1*unit.femtoseconds)    # the modified integrator\n",
    "context = openmm.Context(wbox.system, ghmc)\n",
    "context.setPositions(wbox.positions)\n",
    "context.setVelocitiesToTemperature(temperature)\n",
    "ghmc.step(200)     # thermalisation\n",
    "\n",
    "accprob = ghmc.getGlobalVariableByName('naccept')/ghmc.getGlobalVariableByName('ntrials')\n",
    "print 'Acceptance rate = {:3f}'.format(accprob) # Should be around 97%"
   ]
  },
  {
   "cell_type": "code",
   "execution_count": 4,
   "metadata": {
    "collapsed": true
   },
   "outputs": [],
   "source": [
    "force = wbox.system.getForce(2)       # Non-bonded force."
   ]
  },
  {
   "cell_type": "code",
   "execution_count": 7,
   "metadata": {
    "collapsed": false
   },
   "outputs": [
    {
     "name": "stdout",
     "output_type": "stream",
     "text": [
      "Fraction of initial energies that match = 0.99\n",
      "Fraction of final energies that match = 0.01\n"
     ]
    }
   ],
   "source": [
    "eold, enew = NCMC_simple(100)\n",
    "print 'Fraction of initial energies that match =', len([True for x,y in eold if x==y])*1.0/len(eold)\n",
    "print 'Fraction of final energies that match =',len([True for x,y in enew if x==y])*1.0/len(enew)"
   ]
  },
  {
   "cell_type": "markdown",
   "metadata": {},
   "source": [
    "The initial energies agree to a much higher degree. Descrepancy due to imprecision: "
   ]
  },
  {
   "cell_type": "code",
   "execution_count": 8,
   "metadata": {
    "collapsed": false
   },
   "outputs": [
    {
     "data": {
      "text/plain": [
       "[(-8310.490585109685, -8310.490494971134)]"
      ]
     },
     "execution_count": 8,
     "metadata": {},
     "output_type": "execute_result"
    }
   ],
   "source": [
    "[(x,y) for x,y in eold if x!=y]       # Energies before a perturbation that don't agree"
   ]
  },
  {
   "cell_type": "code",
   "execution_count": null,
   "metadata": {
    "collapsed": true
   },
   "outputs": [],
   "source": []
  }
 ],
 "metadata": {
  "kernelspec": {
   "display_name": "Python 2",
   "language": "python",
   "name": "python2"
  },
  "language_info": {
   "codemirror_mode": {
    "name": "ipython",
    "version": 2
   },
   "file_extension": ".py",
   "mimetype": "text/x-python",
   "name": "python",
   "nbconvert_exporter": "python",
   "pygments_lexer": "ipython2",
   "version": "2.7.12"
  }
 },
 "nbformat": 4,
 "nbformat_minor": 0
}
