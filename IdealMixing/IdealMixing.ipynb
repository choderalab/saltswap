{
 "cells": [
  {
   "cell_type": "markdown",
   "metadata": {},
   "source": [
    "# Statistics of ideal mixing: GHMC NCMC protocol\n",
    "Testing the sampling of the `SaltSwap` code by analysing a transformation where change in total energy should be exactly zero. Here, the non-bonded parameters of the two TIP3P water molecules are \"exchanged\" with the non-bonded parameters of two TIP3P water molecules, which are labelled as 'cations' and 'anions'. \n",
    "\n",
    "This notebook tests:\n",
    " 1. Whether the `SaltSwap` code correctly samples from the target distribution. This is achieved by comparing simulation with an analytical formula for the null transformation described above.\n",
    " 2. To quantify the shadow work accumulated during NCMC with a velocity Verlet propagation kernel and its affect on the acceptance rates."
   ]
  },
  {
   "cell_type": "code",
   "execution_count": 1,
   "metadata": {
    "collapsed": false
   },
   "outputs": [],
   "source": [
    "# Loading modules and pretty colours\n",
    "\n",
    "from simtk import openmm, unit\n",
    "from simtk.openmm import app\n",
    "from openmmtools.testsystems import WaterBox\n",
    "import sys\n",
    "sys.path.append(\"../saltswap/\")\n",
    "sys.path.append(\"../SAMS/\")\n",
    "from calibrate import MCMCSampler\n",
    "from saltswap import SaltSwap\n",
    "import numpy as np\n",
    "import matplotlib.pyplot as plt\n",
    "from IPython.display import Image\n",
    "%matplotlib inline\n",
    "\n",
    "# Nice colours, taken on 26th Nov 2015 from:\n",
    "#http://tableaufriction.blogspot.co.uk/2012/11/finally-you-can-use-tableau-data-colors.html\n",
    "\n",
    "# These are the \"Tableau\" colors as RGB. I've chosen my faves. \n",
    "# In order: blue, green, purple, orange. Hopefully a good compromise for colour-blind people.\n",
    "tableau4 = [(31, 119, 180),(44, 160, 44),(148,103,189),(255, 127, 14)]\n",
    "tableau4_light = [(174,199,232),(152,223,138),(197,176,213),(255,187,120)]\n",
    "\n",
    "# Scale the RGB values to the [0, 1] range, which is the format matplotlib accepts. \n",
    "for i in range(len(tableau4)):    \n",
    "    r, g, b = tableau4[i]    \n",
    "    tableau4[i] = (r / 255., g / 255., b / 255.)\n",
    "    r, g, b = tableau4_light[i]    \n",
    "    tableau4_light[i] = (r / 255., g / 255., b / 255.)"
   ]
  },
  {
   "cell_type": "markdown",
   "metadata": {},
   "source": [
    "As with other notebooks, the test system will be small box of water."
   ]
  },
  {
   "cell_type": "code",
   "execution_count": 2,
   "metadata": {
    "collapsed": false
   },
   "outputs": [],
   "source": [
    "size = 20.0*unit.angstrom     \n",
    "temperature = 300*unit.kelvin\n",
    "pressure = 1*unit.atmospheres\n",
    "delta_chem = 0*unit.kilojoule_per_mole\n",
    "wbox = WaterBox(box_edge=size,nonbondedMethod=app.PME)\n",
    "Nmols = wbox.system.getNumParticles()/3.0"
   ]
  },
  {
   "cell_type": "markdown",
   "metadata": {},
   "source": [
    "# Chemical potential and average numbers\n",
    "\n",
    "For the reaction when two water molecules are exchanged for an anion and cation pair that have equal interaction energies, the ratio of water molecules to salt molecules is given by\n",
    "\n",
    "$$ \\exp\\left(-\\frac{\\beta\\Delta \\mu }{2}\\right) = \\frac{n_w}{n_s} $$\n",
    "\n",
    "where $\\beta\\Delta \\mu$ is the applied (dimentionless) difference in chemical potential between water and salt, and $n_w$ and $n_s$ are the number of water molecules and salt molecules respectively. The factor of 1/2 in the exponent comes from the fact that two water molecules are exchanged for two ions.\n",
    "\n",
    "Below, a range of chemical potentials are applied to equilibrium sampling of instantaneous switching of 2 water molecules 2 two water molecules that are labelled as salt. The average number of molecules and ratios between water and 'salt' molecules are recorded."
   ]
  },
  {
   "cell_type": "code",
   "execution_count": 4,
   "metadata": {
    "collapsed": false
   },
   "outputs": [],
   "source": [
    "mus = [-0.5, -0.25, 0, 0.25, 0.5, 0.75, 1.0, 1.25, 1.5, 1.75, 2] # The chemical potentials\n",
    "\n",
    "#mus = [0] # The chemical potentials\n",
    "\n",
    "r = np.zeros(len(mus))      # mean ratio of water to salt\n",
    "rstd = np.zeros(len(mus))   # standard deviation of water to salt\n",
    "w = np.zeros(len(mus))      # mean number of waters\n",
    "s = np.zeros(len(mus))      # mean number of salt pairs\n",
    "acc_inst = np.zeros(len(mus))    # array to store acceptance rates\n",
    "\n",
    "#Nsamps=500         # The mean number of samples per chemical potential\n",
    "Nsamps = 200\n",
    "\n",
    "for i in range(len(mus)):\n",
    "    dummystate = MCMCSampler(wbox.system,wbox.topology,wbox.positions,delta_chem=mus[i])\n",
    "    dummystate.saltswap.cation_parameters = dummystate.saltswap.water_parameters\n",
    "    dummystate.saltswap.anion_parameters = dummystate.saltswap.water_parameters\n",
    "    Nwats = []\n",
    "    Nsalts = []\n",
    "    ratio = []\n",
    "    for block in range(Nsamps):\n",
    "        dummystate.gen_label(saltsteps=20)\n",
    "        (nwats,nsalt,junk) = dummystate.saltswap.getIdentityCounts()\n",
    "        ratio.append(1.0*nwats/nsalt)\n",
    "        Nwats.append(nwats)\n",
    "        Nsalts.append(nsalt)\n",
    "    w[i] = (np.array(Nwats)/Nmols).mean()  \n",
    "    s[i] = (np.array(Nsalts)/Nmols).mean()\n",
    "    ratio = np.array(ratio)\n",
    "    r[i] = ratio[50:].mean()\n",
    "    rstd[i] = ratio[50:].std()\n",
    "    acc_inst[i] = dummystate.saltswap.getAcceptanceProbability()"
   ]
  },
  {
   "cell_type": "markdown",
   "metadata": {},
   "source": [
    "The acceptance probabilities are given below:"
   ]
  },
  {
   "cell_type": "code",
   "execution_count": 6,
   "metadata": {
    "collapsed": false,
    "scrolled": true
   },
   "outputs": [
    {
     "name": "stdout",
     "output_type": "stream",
     "text": [
      "[ 0.8855  0.9005  0.885   0.889   0.8885  0.899   0.9     0.8735  0.9045\n",
      "  0.921   0.896 ]\n"
     ]
    }
   ],
   "source": [
    "print acc_inst"
   ]
  },
  {
   "cell_type": "markdown",
   "metadata": {},
   "source": [
    "Comparing the sampled ratios of water to salt molecules to the analytical formula:"
   ]
  },
  {
   "cell_type": "code",
   "execution_count": 7,
   "metadata": {
    "collapsed": false
   },
   "outputs": [
    {
     "data": {
      "image/png": "[encoded data removed]",
      "text/plain": [
       "<matplotlib.figure.Figure at 0x112346850>"
      ]
     },
     "metadata": {},
     "output_type": "display_data"
    }
   ],
   "source": [
    "mus = np.array(mus)\n",
    "delta = 0.1\n",
    "xlims = (mus[0]-delta,mus[-1]+delta)\n",
    "x = np.linspace(xlims[0],xlims[1])\n",
    "\n",
    "plt.clf()\n",
    "plt.errorbar(mus,r,yerr=2*rstd/np.sqrt(Nsamps),fmt='o',color=tableau4[0])\n",
    "plt.plot(x,np.exp(np.array(x)/2), 'r--',linewidth=2,color=tableau4[3])\n",
    "#plt.plot(mus,w/s,color=tableau4[1])\n",
    "plt.xlim(xlims)\n",
    "#plt.ylim((0.75,3))\n",
    "plt.xlabel('Difference in dimentionless chemical potential')\n",
    "plt.ylabel('Ratio of Water to Salt concentration')\n",
    "plt.legend(['Analytical ratio','Average ratio, 95% confidence interval'],loc=2)\n",
    "plt.show()"
   ]
  },
  {
   "cell_type": "markdown",
   "metadata": {},
   "source": [
    "There appears to be reasonable agreement between theory and simulation, except at $\\Delta \\mu =0$, where the 95% confidense region does not overlap with the analytical formula. This may be due to numerical errors accumulated during the instant switching, investigated below. "
   ]
  },
  {
   "cell_type": "markdown",
   "metadata": {},
   "source": [
    "**SWITCHES WITH NCMC**\n",
    "\n",
    "As above, performing null transformations (transforming 2 water molecules into 2 water molecules). This time, NCMC will be performed with velocity Verlet propagation  kernels with the parameters:\n",
    "\n",
    "* Number of perturbation kernels = 512\n",
    "* Number of propagation kernels = 1"
   ]
  },
  {
   "cell_type": "code",
   "execution_count": null,
   "metadata": {
    "collapsed": false,
    "scrolled": true
   },
   "outputs": [],
   "source": [
    "mus = [-0.5, -0.25, 0, 0.25, 0.5, 0.75, 1.0, 1.25, 1.5, 1.75, 2] # The chemical potentials\n",
    "ncr = np.zeros(len(mus))\n",
    "ncrstd = np.zeros(len(mus))\n",
    "ncrstd = np.zeros(len(mus))\n",
    "acc_nc = np.zeros(len(mus))\n",
    "Nsamps = 200\n",
    "\n",
    "for i in range(len(mus)):\n",
    "    ncstate = MCMCSampler(wbox.system,wbox.topology,wbox.positions,delta_chem=mus[i],nkernels=100,nverlet=1,propagator='GHMC')\n",
    "    ncstate.saltswap.cation_parameters = ncstate.saltswap.water_parameters\n",
    "    ncstate.saltswap.anion_parameters = ncstate.saltswap.water_parameters\n",
    "    ncratio = []\n",
    "    for block in range(Nsamps):\n",
    "        ncstate.gen_label(saltsteps=20)\n",
    "        (nwats,nsalt,junk) = ncstate.saltswap.getIdentityCounts()\n",
    "        ncratio.append(float(nwats)/float(nsalt))\n",
    "    ratio = np.array(ncratio)\n",
    "    ncr[i] = ratio.mean()#ratio[50:].mean()\n",
    "    ncrstd[i] = ratio.std()#ratio[50:].std()\n",
    "    acc_nc[i] = ncstate.saltswap.getAcceptanceProbability()"
   ]
  },
  {
   "cell_type": "code",
   "execution_count": 66,
   "metadata": {
    "collapsed": false
   },
   "outputs": [
    {
     "data": {
      "image/png": "[encoded data removed]",
      "text/plain": [
       "<matplotlib.figure.Figure at 0x15feaea50>"
      ]
     },
     "metadata": {},
     "output_type": "display_data"
    }
   ],
   "source": [
    "mus = np.array(mus[0:5])\n",
    "delta = 0.1\n",
    "xlims = (mus[0]-delta,mus[-1]+delta)\n",
    "x = np.linspace(xlims[0],xlims[1])\n",
    "\n",
    "plt.clf()\n",
    "plt.errorbar(mus,ncr[0:5],yerr=2*ncrstd[0:5]/np.sqrt(Nsamps),fmt='o',color=tableau4[0])\n",
    "plt.plot(x,np.exp(np.array(x)/2), 'r--',linewidth=2,color=tableau4[3])\n",
    "plt.xlim(xlims)\n",
    "#plt.ylim((0.75,3))\n",
    "plt.xlabel('Difference in dimentionless chemical potential')\n",
    "plt.ylabel('Ratio of Water to Salt concentration')\n",
    "plt.legend(['Analytical ratio','Average ratio, 95% confidence interval'],loc=2)\n",
    "plt.savefig('GHMC_ncmc.png',format='png')\n",
    "Image('GHMC_ncmc.png')"
   ]
  },
  {
   "cell_type": "markdown",
   "metadata": {},
   "source": [
    "This implies that the GHMC NCMC protocol correctly samples from the target distribution."
   ]
  },
  {
   "cell_type": "code",
   "execution_count": null,
   "metadata": {
    "collapsed": true
   },
   "outputs": [],
   "source": []
  }
 ],
 "metadata": {
  "kernelspec": {
   "display_name": "Python 2",
   "language": "python",
   "name": "python2"
  },
  "language_info": {
   "codemirror_mode": {
    "name": "ipython",
    "version": 2
   },
   "file_extension": ".py",
   "mimetype": "text/x-python",
   "name": "python",
   "nbconvert_exporter": "python",
   "pygments_lexer": "ipython2",
   "version": "2.7.11"
  }
 },
 "nbformat": 4,
 "nbformat_minor": 0
}
