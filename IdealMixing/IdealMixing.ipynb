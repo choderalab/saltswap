{
 "cells": [
  {
   "cell_type": "markdown",
   "metadata": {},
   "source": [
    "# Statistics of ideal mixing\n",
    "Testing the equilibrium properties of the `SaltSwap` code by exchanging water molecules with water molecules. Non-bonded parameters will be 'updated' to their current values. Therefore, the identities of 'cations' and 'anions' should come in via diffusion."
   ]
  },
  {
   "cell_type": "code",
   "execution_count": 1,
   "metadata": {
    "collapsed": false
   },
   "outputs": [],
   "source": [
    "from simtk import openmm, unit\n",
    "from simtk.openmm import app\n",
    "from openmmtools.testsystems import WaterBox\n",
    "import sys\n",
    "sys.path.append(\"../saltswap/\")\n",
    "sys.path.append(\"../SAMS/\")\n",
    "from calibrate import MCMCSampler\n",
    "from saltswap import SaltSwap\n",
    "import numpy as np\n",
    "import matplotlib.pyplot as plt\n",
    "from IPython.display import Image"
   ]
  },
  {
   "cell_type": "markdown",
   "metadata": {},
   "source": [
    "As with other notebooks, the test system will be small box of water."
   ]
  },
  {
   "cell_type": "code",
   "execution_count": 2,
   "metadata": {
    "collapsed": false
   },
   "outputs": [],
   "source": [
    "size = 20.0*unit.angstrom     \n",
    "temperature = 300*unit.kelvin\n",
    "pressure = 1*unit.atmospheres\n",
    "delta_chem = 0*unit.kilojoule_per_mole\n",
    "wbox = WaterBox(box_edge=size,nonbondedMethod=app.PME)\n",
    "Nmols = wbox.system.getNumParticles()/3.0"
   ]
  },
  {
   "cell_type": "markdown",
   "metadata": {},
   "source": [
    "# The effect of shadow work on the acceptance rate."
   ]
  },
  {
   "cell_type": "markdown",
   "metadata": {},
   "source": [
    "Initialising the `MCMCSampler` object and changing the ion parameters to the same as water, so that there is no change in energy when salt is 'added'."
   ]
  },
  {
   "cell_type": "code",
   "execution_count": null,
   "metadata": {
    "collapsed": false
   },
   "outputs": [],
   "source": [
    "state = MCMCSampler(wbox.system,wbox.topology,wbox.positions)\n",
    "state.saltswap.cation_parameters = state.saltswap.water_parameters\n",
    "state.saltswap.anion_parameters = state.saltswap.water_parameters"
   ]
  },
  {
   "cell_type": "markdown",
   "metadata": {},
   "source": [
    "**INSTANT SWITCHES**"
   ]
  },
  {
   "cell_type": "code",
   "execution_count": null,
   "metadata": {
    "collapsed": false
   },
   "outputs": [],
   "source": [
    "Nwats = []\n",
    "Nsalts = []\n",
    "for block in range(500):\n",
    "    state.gen_label(saltsteps=20)\n",
    "    (nwats,nsalt,junk) = state.saltswap.getIdentityCounts()\n",
    "    Nwats.append(nwats)\n",
    "    Nsalts.append(nsalt)"
   ]
  },
  {
   "cell_type": "code",
   "execution_count": null,
   "metadata": {
    "collapsed": false
   },
   "outputs": [],
   "source": [
    "inst_work_add = np.array(state.saltswap.work_add)\n",
    "inst_work_rm = np.array(state.saltswap.work_rm)\n",
    "print np.sum(inst_work_add<0)/(1.0*inst_work_add.shape[0])\n",
    "print np.sum(inst_work_rm<0)/(1.0*inst_work_rm.shape[0])"
   ]
  },
  {
   "cell_type": "markdown",
   "metadata": {},
   "source": [
    "Viewing the average number of salt pairs as time progresses:"
   ]
  },
  {
   "cell_type": "code",
   "execution_count": null,
   "metadata": {
    "collapsed": false
   },
   "outputs": [],
   "source": [
    "time = np.arange(len(Nwats))\n",
    "Nwats = np.array(Nwats)\n",
    "Nsalts = np.array(Nsalts)\n",
    "\n",
    "plt.clf()\n",
    "plt.plot(Nwats/Nmols)\n",
    "plt.plot(Nsalts/Nmols)\n",
    "plt.xlabel('Frame')\n",
    "plt.ylabel('Fractional number')\n",
    "plt.legend(['Waters','Cations'])\n",
    "plt.savefig('temp.png',format='png')\n",
    "print 'Mean fraction of water molecules = {:.3f} +/- {:.3}'.format((Nwats/Nmols).mean(),2*(Nwats/Nmols).std())\n",
    "print 'Mean fraction of cations = {:.3f} +/- {:.3}'.format((Nsalts/Nmols).mean(),2*(Nsalts/Nmols).std())\n",
    "print 'Acceptance probability = {:.3f}'.format(state.saltswap.getAcceptanceProbability())\n",
    "print 'Ratio of variance: std(water)/std(cation) = {:.3f}'.format(Nwats.std()/Nsalts.std())\n",
    "Image('temp.png')"
   ]
  },
  {
   "cell_type": "markdown",
   "metadata": {},
   "source": [
    "**NCMC**\n",
    "\n",
    "Number of perturbation kernels = 512,\n",
    "Number of propagation kernels = 1"
   ]
  },
  {
   "cell_type": "code",
   "execution_count": null,
   "metadata": {
    "collapsed": false
   },
   "outputs": [],
   "source": [
    "ncstate = MCMCSampler(wbox.system,wbox.topology,wbox.positions,nkernels = 500,nverlet=1)\n",
    "ncstate.saltswap.cation_parameters = ncstate.saltswap.water_parameters\n",
    "ncstate.saltswap.anion_parameters = ncstate.saltswap.water_parameters"
   ]
  },
  {
   "cell_type": "code",
   "execution_count": null,
   "metadata": {
    "collapsed": false
   },
   "outputs": [],
   "source": [
    "ncNwats = []\n",
    "ncNsalts = []\n",
    "for block in range(500):\n",
    "    ncstate.gen_label(saltsteps=20)\n",
    "    (nwats,nsalt,junk) = ncstate.saltswap.getIdentityCounts()\n",
    "    ncNwats.append(nwats)\n",
    "    ncNsalts.append(nsalt)"
   ]
  },
  {
   "cell_type": "code",
   "execution_count": null,
   "metadata": {
    "collapsed": true
   },
   "outputs": [],
   "source": [
    "nc_work_add = np.array(ncstate.saltswap.work_add)\n",
    "nc_work_rm = np.array(ncstate.saltswap.work_rm)\n",
    "print np.sum(nc_work_add<0)/(1.0*nc_work_add.shape[0])\n",
    "print np.sum(nc_work_rm<0)/(1.0*nc_work_rm.shape[0])"
   ]
  },
  {
   "cell_type": "code",
   "execution_count": null,
   "metadata": {
    "collapsed": true
   },
   "outputs": [],
   "source": [
    "time = np.arange(len(ncNwats))\n",
    "Nwats = np.array(ncNwats)\n",
    "Nsalts = np.array(ncNsalts)\n",
    "\n",
    "plt.clf()\n",
    "plt.plot(Nwats/Nmols)\n",
    "plt.plot(Nsalts/Nmols)\n",
    "plt.xlabel('Frame')\n",
    "plt.ylabel('Fractional number')\n",
    "plt.legend(['Waters','Cations'])\n",
    "plt.savefig('temp.png',format='png')\n",
    "print 'Mean fraction of water molecules = {:.3f} +/- {:.3}'.format((Nwats/Nmols).mean(),2*(Nwats/Nmols).std())\n",
    "print 'Mean fraction of cations = {:.3f} +/- {:.3}'.format((Nsalts/Nmols).mean(),2*(Nsalts/Nmols).std())\n",
    "print 'Acceptance probability = {:.3f}'.format(state.saltswap.getAcceptanceProbability())\n",
    "print 'Ratio of variance: std(water)/std(cation) = {:.3f}'.format(Nwats.std()/Nsalts.std())\n",
    "Image('temp.png')"
   ]
  }
 ],
 "metadata": {
  "kernelspec": {
   "display_name": "Python 2",
   "language": "python",
   "name": "python2"
  },
  "language_info": {
   "codemirror_mode": {
    "name": "ipython",
    "version": 2
   },
   "file_extension": ".py",
   "mimetype": "text/x-python",
   "name": "python",
   "nbconvert_exporter": "python",
   "pygments_lexer": "ipython2",
   "version": "2.7.11"
  }
 },
 "nbformat": 4,
 "nbformat_minor": 0
}
