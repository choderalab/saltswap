{
 "cells": [
  {
   "cell_type": "code",
   "execution_count": 1,
   "metadata": {
    "collapsed": false
   },
   "outputs": [],
   "source": [
    "# Example and test bed for the constant salt ensemble\n",
    "import numpy as np\n",
    "from numpy import random\n",
    "from simtk import openmm, unit\n",
    "from simtk.openmm import app\n",
    "import sys\n",
    "from datetime import datetime\n",
    "\n",
    "from sys import stdout\n",
    "sys.path.append(\"../saltswap/\")\n",
    "import saltswap\n",
    "\n",
    "kB = unit.BOLTZMANN_CONSTANT_kB * unit.AVOGADRO_CONSTANT_NA"
   ]
  },
  {
   "cell_type": "code",
   "execution_count": 2,
   "metadata": {
    "collapsed": false
   },
   "outputs": [],
   "source": [
    "#Loading a premade water box:\n",
    "temperature = 300*unit.kelvin\n",
    "pdb = app.PDBFile('../examples/waterbox.pdb')\n",
    "forcefield = app.ForceField('tip3p.xml')\n",
    "system = forcefield.createSystem(pdb.topology,nonbondedMethod=app.PME, nonbondedCutoff=1.0*unit.nanometer, constraints=app.HBonds)\n",
    "integrator = openmm.LangevinIntegrator(300*unit.kelvin, 1/unit.picosecond, 0.002*unit.picoseconds)\n",
    "system.addForce(openmm.MonteCarloBarostat(1*unit.atmospheres, 300*unit.kelvin, 25))\n",
    "simulation = app.Simulation(pdb.topology, system, integrator)\n",
    "simulation.context.setPositions(pdb.positions)"
   ]
  },
  {
   "cell_type": "code",
   "execution_count": 3,
   "metadata": {
    "collapsed": false
   },
   "outputs": [],
   "source": [
    "# Defining the various parameters of the constant salt simulation:\n",
    "integrator = openmm.VerletIntegrator(1.0 * unit.femtoseconds)\n",
    "nattempts_per_update = 10\n",
    "iterations = 100       # Number of rounds of MD and constant salt moves\n",
    "nsteps = 100           # Amount of MD steps per iteration (not to be confused with number of steps in NCMC)\n",
    "nattempts = 1000        # Number of identity exchanges for water and ions.\n",
    "delta_chem = -160*unit.kilojoule_per_mole       # The free energy penalty to turn 2 waters into Na and Cl. To be calibrated.\n"
   ]
  },
  {
   "cell_type": "code",
   "execution_count": 5,
   "metadata": {
    "collapsed": false
   },
   "outputs": [],
   "source": [
    "# Initialing constant salt class.\n",
    "ss = saltswap.SaltSwap(system=system,topology=pdb.topology,temperature=temperature,\n",
    "                   delta_chem=delta_chem,integrator=integrator,debug=False)\n",
    "        "
   ]
  },
  {
   "cell_type": "code",
   "execution_count": 14,
   "metadata": {
    "collapsed": false
   },
   "outputs": [
    {
     "name": "stdout",
     "output_type": "stream",
     "text": [
      "New script: 46\n",
      "Old script: 17\n",
      "fraction increase in time: 0.369565217391\n"
     ]
    }
   ],
   "source": [
    "# Timing new fractional update function.\n",
    "iters = 100000\n",
    "startTime = datetime.now()\n",
    "for i in range(iters):\n",
    "    ss.updateForces_fractional(mode=\"add salt\",exchange_indices=np.array([5,10]),fraction=0.5)\n",
    "tm_old = datetime.now() - startTime\n",
    "print \"New script:\", tm_old.seconds\n",
    "\n",
    "startTime = datetime.now()\n",
    "for i in range(iters):\n",
    "    ss.updateForces(mode=\"add salt\",exchange_indices=np.array([5,10]))\n",
    "tm_new = datetime.now() - startTime\n",
    "print \"Old script:\", tm_new.seconds\n",
    "\n",
    "print \"fraction increase in time:\",1.0*tm_new.seconds/tm_old.seconds"
   ]
  },
  {
   "cell_type": "code",
   "execution_count": 23,
   "metadata": {
    "collapsed": false,
    "scrolled": true
   },
   "outputs": [],
   "source": [
    "ss.update(simulation.context)"
   ]
  },
  {
   "cell_type": "code",
   "execution_count": 16,
   "metadata": {
    "collapsed": false
   },
   "outputs": [
    {
     "data": {
      "text/plain": [
       "0.46"
      ]
     },
     "execution_count": 16,
     "metadata": {},
     "output_type": "execute_result"
    }
   ],
   "source": [
    "ss.getAcceptanceProbability()"
   ]
  },
  {
   "cell_type": "code",
   "execution_count": 13,
   "metadata": {
    "collapsed": false
   },
   "outputs": [
    {
     "name": "stdout",
     "output_type": "stream",
     "text": [
      "fraction increase in time: 0.0212765957447\n"
     ]
    }
   ],
   "source": [
    "print \"fraction increase in time:\",1.0*tm_new.seconds/tm_old.seconds"
   ]
  },
  {
   "cell_type": "code",
   "execution_count": 16,
   "metadata": {
    "collapsed": false
   },
   "outputs": [
    {
     "data": {
      "text/plain": [
       "2.7058823529411766"
      ]
     },
     "execution_count": 16,
     "metadata": {},
     "output_type": "execute_result"
    }
   ],
   "source": [
    "46.0/17"
   ]
  },
  {
   "cell_type": "code",
   "execution_count": 21,
   "metadata": {
    "collapsed": false
   },
   "outputs": [
    {
     "data": {
      "text/plain": [
       "7.666666666666667"
      ]
     },
     "execution_count": 21,
     "metadata": {},
     "output_type": "execute_result"
    }
   ],
   "source": [
    "46.0/iters*100*1000*10/60"
   ]
  },
  {
   "cell_type": "code",
   "execution_count": 22,
   "metadata": {
    "collapsed": true
   },
   "outputs": [],
   "source": [
    "cat2wat = []*3"
   ]
  },
  {
   "cell_type": "code",
   "execution_count": 29,
   "metadata": {
    "collapsed": false
   },
   "outputs": [],
   "source": [
    "m = ss.mutable_residues[21]\n",
    "m.name\n",
    "num_na = 0 \n",
    "for res in ss.mutable_residues:\n",
    "    if res.name == \"Na+\":\n",
    "        num_na += 1\n"
   ]
  },
  {
   "cell_type": "code",
   "execution_count": 30,
   "metadata": {
    "collapsed": false
   },
   "outputs": [
    {
     "data": {
      "text/plain": [
       "7"
      ]
     },
     "execution_count": 30,
     "metadata": {},
     "output_type": "execute_result"
    }
   ],
   "source": [
    "num_na"
   ]
  },
  {
   "cell_type": "code",
   "execution_count": 33,
   "metadata": {
    "collapsed": true
   },
   "outputs": [],
   "source": [
    "molecule = [atom for atom in ss.mutable_residues[21].atoms()]"
   ]
  },
  {
   "cell_type": "code",
   "execution_count": 34,
   "metadata": {
    "collapsed": false
   },
   "outputs": [
    {
     "data": {
      "text/plain": [
       "[<Atom 63 (O) of chain 0 residue 21 (Na+)>,\n",
       " <Atom 64 (H1) of chain 0 residue 21 (Na+)>,\n",
       " <Atom 65 (H2) of chain 0 residue 21 (Na+)>]"
      ]
     },
     "execution_count": 34,
     "metadata": {},
     "output_type": "execute_result"
    }
   ],
   "source": [
    "m=molecule[0]"
   ]
  },
  {
   "cell_type": "code",
   "execution_count": 6,
   "metadata": {
    "collapsed": false
   },
   "outputs": [
    {
     "name": "stdout",
     "output_type": "stream",
     "text": [
      "New script: 0\n"
     ]
    }
   ],
   "source": [
    "iters = 1000\n",
    "startTime = datetime.now()\n",
    "for i in range(iters):\n",
    "    ss.updateForces_fractional(mode=\"remove salt\",exchange_indices=np.array([5,10]),fraction=0.5)\n",
    "tm_old = datetime.now() - startTime\n",
    "print \"New script:\", tm_old.seconds"
   ]
  },
  {
   "cell_type": "code",
   "execution_count": 8,
   "metadata": {
    "collapsed": false
   },
   "outputs": [
    {
     "name": "stdout",
     "output_type": "stream",
     "text": [
      "1.0\n"
     ]
    }
   ],
   "source": [
    "nkernals = 1\n",
    "for k in range(nkernals):\n",
    "    fraction = float(k + 1)/float(nkernals)\n",
    "    print fraction"
   ]
  },
  {
   "cell_type": "code",
   "execution_count": null,
   "metadata": {
    "collapsed": true
   },
   "outputs": [],
   "source": []
  }
 ],
 "metadata": {
  "kernelspec": {
   "display_name": "Python 2",
   "language": "python",
   "name": "python2"
  },
  "language_info": {
   "codemirror_mode": {
    "name": "ipython",
    "version": 2
   },
   "file_extension": ".py",
   "mimetype": "text/x-python",
   "name": "python",
   "nbconvert_exporter": "python",
   "pygments_lexer": "ipython2",
   "version": "2.7.11"
  }
 },
 "nbformat": 4,
 "nbformat_minor": 0
}
