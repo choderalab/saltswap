{
 "cells": [
  {
   "cell_type": "markdown",
   "metadata": {},
   "source": [
    "# Comparing Energies between NCMC and instaneous switching\n",
    "The `NCMC` function within the `SaltSwap` class uses a velocity verlet (VV) integrator, which is a constant energy integrator. Thus, when the number of NCMC kernals is 1, the energies from instaneous switching and NCMC should be identical, up to the precision of the VV integrator.\n",
    "\n",
    "## 1. Number of VV steps = 1"
   ]
  },
  {
   "cell_type": "code",
   "execution_count": 1,
   "metadata": {
    "collapsed": false
   },
   "outputs": [
    {
     "name": "stdout",
     "output_type": "stream",
     "text": [
      "identifyResidues: 501 HOH molecules identified.\n"
     ]
    }
   ],
   "source": [
    "# Testing the addition of NCMC moves in saltwap.\n",
    "# Importing:\n",
    "from datetime import datetime\n",
    "from simtk import openmm, unit\n",
    "from simtk.openmm import app\n",
    "import numpy as np\n",
    "import sys\n",
    "sys.path.append(\"../saltswap/\")\n",
    "import saltswap\n",
    "\n",
    "# Defining constants.\n",
    "kB = unit.BOLTZMANN_CONSTANT_kB * unit.AVOGADRO_CONSTANT_NA\n",
    "pressure = 1*unit.atmospheres\n",
    "temperature = 300*unit.kelvin\n",
    "delta_chem = -100*unit.kilojoule_per_mole\n",
    "\n",
    "#Loading a premade water box:\n",
    "pdb = app.PDBFile('../examples/waterbox.pdb')\n",
    "forcefield = app.ForceField('tip3p.xml')\n",
    "system = forcefield.createSystem(pdb.topology,nonbondedMethod=app.PME, nonbondedCutoff=1.0*unit.nanometer, constraints=app.HBonds)\n",
    "\n",
    "# Minimizing energy with a temporary integrator.\n",
    "integrator = openmm.VerletIntegrator(1.0 * unit.femtoseconds)\n",
    "context = openmm.Context(system, integrator)\n",
    "context.setPositions(pdb.positions)\n",
    "openmm.LocalEnergyMinimizer.minimize(context, 1.0, 25)\n",
    "positions = context.getState(getPositions=True).getPositions(asNumpy=True)\n",
    "del context, integrator\n",
    "\n",
    "# Defining the new system integrator that will be used for the standard MD moves:\n",
    "integrator = openmm.LangevinIntegrator(temperature, 1/unit.picosecond, 0.002*unit.picoseconds)\n",
    "system.addForce(openmm.MonteCarloBarostat(pressure, temperature, 25))\n",
    "# Initialising the constant salt class. Inside, a 'compoundintegrator' is defined to do NCMC\n",
    "#     NCMC parameters:\n",
    "nkernals = 1           # Number of NCMC steps\n",
    "nverlet = 1            # Number of velocity verlet steps in each NCMC step     \n",
    "mc_saltswap = saltswap.SaltSwap(system=system,topology=pdb.topology,temperature=temperature,delta_chem=delta_chem,\n",
    "                                integrator=integrator,pressure=pressure,\n",
    "                                debug=True,nkernals=nkernals, nverlet_steps=nverlet)\n",
    "\n",
    "# Creating the working the context\n",
    "platform = openmm.Platform.getPlatformByName('CPU')\n",
    "context = openmm.Context(system, mc_saltswap.compound_integrator,platform)\n",
    "context.setPositions(positions)\n",
    "\n",
    "# Brief thermalisation:\n",
    "context.setVelocitiesToTemperature(temperature)\n",
    "integrator.step(10)\n",
    "positions = context.getState(getPositions=True,enforcePeriodicBox=True).getPositions(asNumpy=True)\n",
    "\n",
    "# Cycles of MD and MC salt exchanges:\n",
    "iterations = 10         # Number of rounds of MD and constant salt moves\n",
    "nsteps = 50           # Amount of MD steps per iteration. 250000 steps = 500 picoseconds\n",
    "nattempts = 5        # Number of identity exchanges attempts per iteration \n",
    "\n",
    "startTime = datetime.now()\n",
    "for i in range(iterations):\n",
    "    integrator.step(nsteps)\n",
    "    mc_saltswap.update(context,nattempts=nattempts)\n",
    "    positions = context.getState(getPositions=True,enforcePeriodicBox=True).getPositions(asNumpy=True)\n",
    "tm1 = datetime.now() - startTime"
   ]
  },
  {
   "cell_type": "code",
   "execution_count": 2,
   "metadata": {
    "collapsed": false
   },
   "outputs": [
    {
     "name": "stdout",
     "output_type": "stream",
     "text": [
      "Average difference between enegies = 2.71606445313e-05 kJ/mol\n",
      "Mean time (s) per move = 0.1\n"
     ]
    }
   ],
   "source": [
    "vv1_diff = np.mean(np.absolute(np.array(mc_saltswap.nrg_isnt) - np.array(mc_saltswap.nrg_ncmc)))\n",
    "print \"Average difference between enegies =\", vv1_diff\n",
    "print \"Mean time (s) per move = %.1f\" %(1.0*tm1.seconds/nattempts/iterations)"
   ]
  },
  {
   "cell_type": "markdown",
   "metadata": {
    "collapsed": true
   },
   "source": [
    "## 2. Number of VV steps = 5"
   ]
  },
  {
   "cell_type": "code",
   "execution_count": 3,
   "metadata": {
    "collapsed": false
   },
   "outputs": [
    {
     "name": "stdout",
     "output_type": "stream",
     "text": [
      "identifyResidues: 501 HOH molecules identified.\n"
     ]
    }
   ],
   "source": [
    "#Loading a premade water box:\n",
    "pdb = app.PDBFile('../examples/waterbox.pdb')\n",
    "forcefield = app.ForceField('tip3p.xml')\n",
    "system = forcefield.createSystem(pdb.topology,nonbondedMethod=app.PME, nonbondedCutoff=1.0*unit.nanometer, constraints=app.HBonds)\n",
    "\n",
    "# Minimizing energy with a temporary integrator.\n",
    "integrator = openmm.VerletIntegrator(1.0 * unit.femtoseconds)\n",
    "context = openmm.Context(system, integrator)\n",
    "context.setPositions(pdb.positions)\n",
    "openmm.LocalEnergyMinimizer.minimize(context, 1.0, 25)\n",
    "positions = context.getState(getPositions=True).getPositions(asNumpy=True)\n",
    "del context, integrator\n",
    "\n",
    "# Defining the new system integrator that will be used for the standard MD moves:\n",
    "integrator = openmm.LangevinIntegrator(temperature, 1/unit.picosecond, 0.002*unit.picoseconds)\n",
    "system.addForce(openmm.MonteCarloBarostat(pressure, temperature, 25))\n",
    "# Initialising the constant salt class. Inside, a 'compoundintegrator' is defined to do NCMC\n",
    "#     NCMC parameters:\n",
    "nkernals = 1           # Number of NCMC steps\n",
    "nverlet = 5            # Number of velocity verlet steps in each NCMC step     \n",
    "mc_saltswap = saltswap.SaltSwap(system=system,topology=pdb.topology,temperature=temperature,delta_chem=delta_chem,\n",
    "                                integrator=integrator,pressure=pressure,\n",
    "                                debug=True,nkernals=nkernals, nverlet_steps=nverlet)\n",
    "\n",
    "# Creating the working the context\n",
    "platform = openmm.Platform.getPlatformByName('CPU')\n",
    "context = openmm.Context(system, mc_saltswap.compound_integrator,platform)\n",
    "context.setPositions(positions)\n",
    "\n",
    "# Brief thermalisation:\n",
    "context.setVelocitiesToTemperature(temperature)\n",
    "integrator.step(10)\n",
    "positions = context.getState(getPositions=True,enforcePeriodicBox=True).getPositions(asNumpy=True)\n",
    "\n",
    "# Cycles of MD and MC salt exchanges:\n",
    "iterations = 10         # Number of rounds of MD and constant salt moves\n",
    "nsteps = 50           # Amount of MD steps per iteration. 250000 steps = 500 picoseconds\n",
    "nattempts = 5        # Number of identity exchanges attempts per iteration \n",
    "\n",
    "startTime = datetime.now()\n",
    "for i in range(iterations):\n",
    "    integrator.step(nsteps)\n",
    "    mc_saltswap.update(context,nattempts=nattempts)\n",
    "    positions = context.getState(getPositions=True,enforcePeriodicBox=True).getPositions(asNumpy=True)\n",
    "tm5 = datetime.now() - startTime\n"
   ]
  },
  {
   "cell_type": "code",
   "execution_count": 4,
   "metadata": {
    "collapsed": false
   },
   "outputs": [
    {
     "name": "stdout",
     "output_type": "stream",
     "text": [
      "Average difference between enegies = 2.71606445313e-05 kJ/mol\n",
      "Mean time (s) per move = 0.1\n"
     ]
    }
   ],
   "source": [
    "vv5_diff = np.mean(np.absolute(np.array(mc_saltswap.nrg_isnt) - np.array(mc_saltswap.nrg_ncmc)))\n",
    "print \"Average difference between enegies =\", vv1_diff\n",
    "print \"Mean time (s) per move = %.1f\" %(1.0*tm5.seconds/nattempts/iterations)"
   ]
  },
  {
   "cell_type": "markdown",
   "metadata": {},
   "source": [
    "## 2. Number of VV steps = 25"
   ]
  },
  {
   "cell_type": "code",
   "execution_count": 5,
   "metadata": {
    "collapsed": false
   },
   "outputs": [
    {
     "name": "stdout",
     "output_type": "stream",
     "text": [
      "identifyResidues: 501 HOH molecules identified.\n"
     ]
    }
   ],
   "source": [
    "#Loading a premade water box:\n",
    "pdb = app.PDBFile('../examples/waterbox.pdb')\n",
    "forcefield = app.ForceField('tip3p.xml')\n",
    "system = forcefield.createSystem(pdb.topology,nonbondedMethod=app.PME, nonbondedCutoff=1.0*unit.nanometer, constraints=app.HBonds)\n",
    "\n",
    "# Minimizing energy with a temporary integrator.\n",
    "integrator = openmm.VerletIntegrator(1.0 * unit.femtoseconds)\n",
    "context = openmm.Context(system, integrator)\n",
    "context.setPositions(pdb.positions)\n",
    "openmm.LocalEnergyMinimizer.minimize(context, 1.0, 25)\n",
    "positions = context.getState(getPositions=True).getPositions(asNumpy=True)\n",
    "del context, integrator\n",
    "\n",
    "# Defining the new system integrator that will be used for the standard MD moves:\n",
    "integrator = openmm.LangevinIntegrator(temperature, 1/unit.picosecond, 0.002*unit.picoseconds)\n",
    "system.addForce(openmm.MonteCarloBarostat(pressure, temperature, 25))\n",
    "# Initialising the constant salt class. Inside, a 'compoundintegrator' is defined to do NCMC\n",
    "#     NCMC parameters:\n",
    "nkernals = 1           # Number of NCMC steps\n",
    "nverlet = 25            # Number of velocity verlet steps in each NCMC step     \n",
    "mc_saltswap = saltswap.SaltSwap(system=system,topology=pdb.topology,temperature=temperature,delta_chem=delta_chem,\n",
    "                                integrator=integrator,pressure=pressure,\n",
    "                                debug=True,nkernals=nkernals, nverlet_steps=nverlet)\n",
    "\n",
    "# Creating the working the context\n",
    "platform = openmm.Platform.getPlatformByName('CPU')\n",
    "context = openmm.Context(system, mc_saltswap.compound_integrator,platform)\n",
    "context.setPositions(positions)\n",
    "\n",
    "# Brief thermalisation:\n",
    "context.setVelocitiesToTemperature(temperature)\n",
    "integrator.step(10)\n",
    "positions = context.getState(getPositions=True,enforcePeriodicBox=True).getPositions(asNumpy=True)\n",
    "\n",
    "# Cycles of MD and MC salt exchanges:\n",
    "iterations = 10         # Number of rounds of MD and constant salt moves\n",
    "nsteps = 50           # Amount of MD steps per iteration. 250000 steps = 500 picoseconds\n",
    "nattempts = 5        # Number of identity exchanges attempts per iteration \n",
    "\n",
    "startTime = datetime.now()\n",
    "for i in range(iterations):\n",
    "    integrator.step(nsteps)\n",
    "    mc_saltswap.update(context,nattempts=nattempts)\n",
    "    positions = context.getState(getPositions=True,enforcePeriodicBox=True).getPositions(asNumpy=True)\n",
    "tm25 = datetime.now() - startTime"
   ]
  },
  {
   "cell_type": "code",
   "execution_count": 6,
   "metadata": {
    "collapsed": false
   },
   "outputs": [
    {
     "name": "stdout",
     "output_type": "stream",
     "text": [
      "Average difference between enegies = 2.71606445313e-05 kJ/mol\n",
      "Mean time (s) per move = 0.4\n"
     ]
    }
   ],
   "source": [
    "vv20_diff = np.mean(np.absolute(np.array(mc_saltswap.nrg_isnt) - np.array(mc_saltswap.nrg_ncmc)))\n",
    "print \"Average difference between enegies =\", vv1_diff\n",
    "print \"Mean time (s) per move = %.1f\" %(1.0*tm25.seconds/nattempts/iterations)"
   ]
  },
  {
   "cell_type": "markdown",
   "metadata": {},
   "source": [
    "## 3. Number of VV steps = 100"
   ]
  },
  {
   "cell_type": "code",
   "execution_count": 7,
   "metadata": {
    "collapsed": false
   },
   "outputs": [
    {
     "name": "stdout",
     "output_type": "stream",
     "text": [
      "identifyResidues: 501 HOH molecules identified.\n"
     ]
    }
   ],
   "source": [
    "#Loading a premade water box:\n",
    "pdb = app.PDBFile('../examples/waterbox.pdb')\n",
    "forcefield = app.ForceField('tip3p.xml')\n",
    "system = forcefield.createSystem(pdb.topology,nonbondedMethod=app.PME, nonbondedCutoff=1.0*unit.nanometer, constraints=app.HBonds)\n",
    "\n",
    "# Minimizing energy with a temporary integrator.\n",
    "integrator = openmm.VerletIntegrator(1.0 * unit.femtoseconds)\n",
    "context = openmm.Context(system, integrator)\n",
    "context.setPositions(pdb.positions)\n",
    "openmm.LocalEnergyMinimizer.minimize(context, 1.0, 25)\n",
    "positions = context.getState(getPositions=True).getPositions(asNumpy=True)\n",
    "del context, integrator\n",
    "\n",
    "# Defining the new system integrator that will be used for the standard MD moves:\n",
    "integrator = openmm.LangevinIntegrator(temperature, 1/unit.picosecond, 0.002*unit.picoseconds)\n",
    "system.addForce(openmm.MonteCarloBarostat(pressure, temperature, 25))\n",
    "# Initialising the constant salt class. Inside, a 'compoundintegrator' is defined to do NCMC\n",
    "#     NCMC parameters:\n",
    "nkernals = 1           # Number of NCMC steps\n",
    "nverlet = 100            # Number of velocity verlet steps in each NCMC step     \n",
    "mc_saltswap = saltswap.SaltSwap(system=system,topology=pdb.topology,temperature=temperature,delta_chem=delta_chem,\n",
    "                                integrator=integrator,pressure=pressure,\n",
    "                                debug=True,nkernals=nkernals, nverlet_steps=nverlet)\n",
    "\n",
    "# Creating the working the context\n",
    "platform = openmm.Platform.getPlatformByName('CPU')\n",
    "context = openmm.Context(system, mc_saltswap.compound_integrator,platform)\n",
    "context.setPositions(positions)\n",
    "\n",
    "# Brief thermalisation:\n",
    "context.setVelocitiesToTemperature(temperature)\n",
    "integrator.step(10)\n",
    "positions = context.getState(getPositions=True,enforcePeriodicBox=True).getPositions(asNumpy=True)\n",
    "\n",
    "# Cycles of MD and MC salt exchanges:\n",
    "iterations = 10         # Number of rounds of MD and constant salt moves\n",
    "nsteps = 50           # Amount of MD steps per iteration. 250000 steps = 500 picoseconds\n",
    "nattempts = 5        # Number of identity exchanges attempts per iteration \n",
    "\n",
    "startTime = datetime.now()\n",
    "for i in range(iterations):\n",
    "    integrator.step(nsteps)\n",
    "    mc_saltswap.update(context,nattempts=nattempts)\n",
    "    positions = context.getState(getPositions=True,enforcePeriodicBox=True).getPositions(asNumpy=True)\n",
    "tm100 = datetime.now() - startTime"
   ]
  },
  {
   "cell_type": "code",
   "execution_count": 8,
   "metadata": {
    "collapsed": false
   },
   "outputs": [
    {
     "name": "stdout",
     "output_type": "stream",
     "text": [
      "Average difference between enegies = 2.71606445313e-05 kJ/mol\n",
      "Mean time (s) per move = 1.3\n"
     ]
    }
   ],
   "source": [
    "vv20_diff = np.mean(np.absolute(np.array(mc_saltswap.nrg_isnt) - np.array(mc_saltswap.nrg_ncmc)))\n",
    "print \"Average difference between enegies =\", vv1_diff\n",
    "print \"Mean time (s) per move = %.1f\" %(1.0*tm100.seconds/nattempts/iterations)"
   ]
  },
  {
   "cell_type": "code",
   "execution_count": null,
   "metadata": {
    "collapsed": true
   },
   "outputs": [],
   "source": []
  }
 ],
 "metadata": {
  "kernelspec": {
   "display_name": "Python 2",
   "language": "python",
   "name": "python2"
  },
  "language_info": {
   "codemirror_mode": {
    "name": "ipython",
    "version": 2
   },
   "file_extension": ".py",
   "mimetype": "text/x-python",
   "name": "python",
   "nbconvert_exporter": "python",
   "pygments_lexer": "ipython2",
   "version": "2.7.11"
  }
 },
 "nbformat": 4,
 "nbformat_minor": 0
}
