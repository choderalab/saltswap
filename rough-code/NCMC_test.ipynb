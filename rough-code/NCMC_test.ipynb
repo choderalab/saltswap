{
 "cells": [
  {
   "cell_type": "code",
   "execution_count": 1,
   "metadata": {
    "collapsed": false
   },
   "outputs": [],
   "source": [
    "# Testing the addition of NCMC moves in saltwap.\n",
    "# Importing:\n",
    "from datetime import datetime\n",
    "from simtk import openmm, unit\n",
    "from simtk.openmm import app\n",
    "import numpy as np\n",
    "import sys\n",
    "sys.path.append(\"../saltswap/\")\n",
    "import saltswap\n",
    "\n",
    "# Defining constants.\n",
    "kB = unit.BOLTZMANN_CONSTANT_kB * unit.AVOGADRO_CONSTANT_NA\n",
    "pressure = 1*unit.atmospheres\n",
    "temperature = 300*unit.kelvin\n",
    "delta_chem = -100*unit.kilojoule_per_mole"
   ]
  },
  {
   "cell_type": "code",
   "execution_count": 2,
   "metadata": {
    "collapsed": false
   },
   "outputs": [],
   "source": [
    "#Loading a premade water box:\n",
    "pdb = app.PDBFile('../examples/waterbox.pdb')\n",
    "forcefield = app.ForceField('tip3p.xml')\n",
    "system = forcefield.createSystem(pdb.topology,nonbondedMethod=app.PME, nonbondedCutoff=1.0*unit.nanometer, constraints=app.HBonds)"
   ]
  },
  {
   "cell_type": "code",
   "execution_count": 3,
   "metadata": {
    "collapsed": true
   },
   "outputs": [],
   "source": [
    "# Minimizing energy with a temporary integrator.\n",
    "integrator = openmm.VerletIntegrator(1.0 * unit.femtoseconds)\n",
    "context = openmm.Context(system, integrator)\n",
    "context.setPositions(pdb.positions)\n",
    "openmm.LocalEnergyMinimizer.minimize(context, 1.0, 25)\n",
    "positions = context.getState(getPositions=True).getPositions(asNumpy=True)\n",
    "del context, integrator"
   ]
  },
  {
   "cell_type": "code",
   "execution_count": 4,
   "metadata": {
    "collapsed": false
   },
   "outputs": [],
   "source": [
    "# Defining the new system integrator that will be used for the standard MD moves:\n",
    "integrator = openmm.LangevinIntegrator(temperature, 1/unit.picosecond, 0.002*unit.picoseconds)\n",
    "system.addForce(openmm.MonteCarloBarostat(pressure, temperature, 25))\n",
    "# Initialising the constant salt class. Inside, a 'compoundintegrator' is defined to do NCMC\n",
    "#     NCMC parameters:\n",
    "nkernals = 5           # Number of NCMC steps\n",
    "nverlet = 5            # Number of velocity verlet steps in each NCMC step     \n",
    "mc_saltswap = saltswap.SaltSwap(system=system,topology=pdb.topology,temperature=temperature,delta_chem=delta_chem,\n",
    "                                integrator=integrator,pressure=pressure,\n",
    "                                debug=False,nkernals=nkernals, nverlet_steps=nverlet)"
   ]
  },
  {
   "cell_type": "code",
   "execution_count": 5,
   "metadata": {
    "collapsed": false
   },
   "outputs": [],
   "source": [
    "# Creating the working the context\n",
    "platform = openmm.Platform.getPlatformByName('CPU')\n",
    "context = openmm.Context(system, mc_saltswap.compound_integrator,platform)\n",
    "context.setPositions(positions)"
   ]
  },
  {
   "cell_type": "code",
   "execution_count": 6,
   "metadata": {
    "collapsed": true
   },
   "outputs": [],
   "source": [
    "# Brief thermalisation:\n",
    "context.setVelocitiesToTemperature(temperature)\n",
    "integrator.step(10)\n",
    "positions = context.getState(getPositions=True,enforcePeriodicBox=True).getPositions(asNumpy=True)"
   ]
  },
  {
   "cell_type": "code",
   "execution_count": 7,
   "metadata": {
    "collapsed": false,
    "scrolled": true
   },
   "outputs": [
    {
     "name": "stderr",
     "output_type": "stream",
     "text": [
      "../saltswap/saltswap.py:478: VisibleDeprecationWarning: converting an array with ndim > 0 to an index will result in an error in the future\n",
      "  molecule = [atom for atom in self.mutable_residues[exchange_indices[0]].atoms()]\n",
      "../saltswap/saltswap.py:489: VisibleDeprecationWarning: converting an array with ndim > 0 to an index will result in an error in the future\n",
      "  molecule = [atom for atom in self.mutable_residues[exchange_indices[1]].atoms()]\n",
      "../saltswap/saltswap.py:429: VisibleDeprecationWarning: converting an array with ndim > 0 to an index will result in an error in the future\n",
      "  self.mutable_residues[exchange_indices[0]].name = self.waterName\n",
      "../saltswap/saltswap.py:430: VisibleDeprecationWarning: converting an array with ndim > 0 to an index will result in an error in the future\n",
      "  self.mutable_residues[exchange_indices[1]].name = self.waterName\n"
     ]
    },
    {
     "name": "stdout",
     "output_type": "stream",
     "text": [
      "Step 0 complete\n"
     ]
    },
    {
     "name": "stderr",
     "output_type": "stream",
     "text": [
      "../saltswap/saltswap.py:456: VisibleDeprecationWarning: converting an array with ndim > 0 to an index will result in an error in the future\n",
      "  molecule = [atom for atom in self.mutable_residues[exchange_indices[0]].atoms()]\n",
      "../saltswap/saltswap.py:467: VisibleDeprecationWarning: converting an array with ndim > 0 to an index will result in an error in the future\n",
      "  molecule = [atom for atom in self.mutable_residues[exchange_indices[1]].atoms()]\n"
     ]
    },
    {
     "name": "stdout",
     "output_type": "stream",
     "text": [
      "Step 1 complete\n",
      "Step 2 complete\n",
      "Step 3 complete\n",
      "Step 4 complete\n",
      "Step 5 complete\n",
      "Step 6 complete\n",
      "Step 7 complete\n",
      "Step 8 complete\n",
      "Step 9 complete\n",
      "Step 10 complete\n",
      "Step 11 complete\n",
      "Step 12 complete\n",
      "Step 13 complete\n",
      "Step 14 complete\n",
      "Step 15 complete\n",
      "Step 16 complete\n",
      "Step 17 complete\n",
      "Step 18 complete\n",
      "Step 19 complete\n",
      "Step 20 complete\n",
      "Step 21 complete\n",
      "Step 22 complete\n",
      "Step 23 complete\n",
      "Step 24 complete\n",
      "Step 25 complete\n",
      "Step 26 complete\n",
      "Step 27 complete\n",
      "Step 28 complete\n",
      "Step 29 complete\n",
      "Step 30 complete\n",
      "Step 31 complete\n",
      "Step 32 complete\n",
      "Step 33 complete\n",
      "Step 34 complete\n",
      "Step 35 complete\n",
      "Step 36 complete\n",
      "Step 37 complete\n",
      "Step 38 complete\n",
      "Step 39 complete\n",
      "Step 40 complete\n",
      "Step 41 complete\n",
      "Step 42 complete\n",
      "Step 43 complete\n",
      "Step 44 complete\n",
      "Step 45 complete\n",
      "Step 46 complete\n",
      "Step 47 complete\n",
      "Step 48 complete\n",
      "Step 49 complete\n",
      "Step 50 complete\n",
      "Step 51 complete\n",
      "Step 52 complete\n",
      "Step 53 complete\n",
      "Step 54 complete\n",
      "Step 55 complete\n",
      "Step 56 complete\n",
      "Step 57 complete\n",
      "Step 58 complete\n",
      "Step 59 complete\n",
      "Step 60 complete\n",
      "Step 61 complete\n",
      "Step 62 complete\n",
      "Step 63 complete\n",
      "Step 64 complete\n",
      "Step 65 complete\n",
      "Step 66 complete\n",
      "Step 67 complete\n",
      "Step 68 complete\n",
      "Step 69 complete\n",
      "Step 70 complete\n",
      "Step 71 complete\n",
      "Step 72 complete\n",
      "Step 73 complete\n",
      "Step 74 complete\n",
      "Step 75 complete\n",
      "Step 76 complete\n",
      "Step 77 complete\n",
      "Step 78 complete\n",
      "Step 79 complete\n",
      "Step 80 complete\n",
      "Step 81 complete\n",
      "Step 82 complete\n",
      "Step 83 complete\n",
      "Step 84 complete\n",
      "Step 85 complete\n",
      "Step 86 complete\n",
      "Step 87 complete\n",
      "Step 88 complete\n",
      "Step 89 complete\n",
      "Step 90 complete\n",
      "Step 91 complete\n",
      "Step 92 complete\n",
      "Step 93 complete\n",
      "Step 94 complete\n",
      "Step 95 complete\n",
      "Step 96 complete\n",
      "Step 97 complete\n",
      "Step 98 complete\n",
      "Step 99 complete\n",
      "Simulation time =  166\n",
      "Acceptance probability = 0.06\n"
     ]
    }
   ],
   "source": [
    "# Cycles of MD and MC salt exchanges:\n",
    "iterations = 100         # Number of rounds of MD and constant salt moves\n",
    "nsteps = 5           # Amount of MD steps per iteration. 250000 steps = 500 picoseconds\n",
    "nattempts = 5        # Number of identity exchanges attempts per iteration \n",
    "startTime = datetime.now()\n",
    "for i in range(iterations):\n",
    "    integrator.step(nsteps)\n",
    "    mc_saltswap.update(context,nattempts=nattempts)\n",
    "    print \"Step %i complete\" % i\n",
    "tm = datetime.now() - startTime\n",
    "\n",
    "print \"Simulation time = \",tm.seconds\n",
    "print \"Acceptance probability =\",mc_saltswap.getAcceptanceProbability()"
   ]
  },
  {
   "cell_type": "markdown",
   "metadata": {
    "collapsed": false
   },
   "source": [
    "With iterations =100, nsteps = 10, nattampts =5, Simulation time =  13:\n",
    "- No NCMC:\n",
    "    Simulation time =  7\n",
    "    Acceptance probability = 0.016\n",
    "- nkernals = 2, nverlet = 1:\n",
    "    Simulation time = 24\n",
    "    Acceptance probability = 0.09\n",
    "    - repeat:\n",
    "        Simulation time = 23\n",
    "        Acceptance probability = 0.04    \n",
    "- nkernals = 5, nverlet = 1:\n",
    "   Simulation blows up?\n",
    "- nkernals = 5, nverlet = 2:   \n",
    "    Simulation time = 74\n",
    "    Acceptance probability = 0.63\n",
    "    - repeat:\n",
    "        Simulation time = 74\n",
    "        Acceptance probability = 0.682\n",
    "- nkernals = 2, nverlet = 2\n",
    "    Simulation blows up?\n",
    "- nkernals = 10, nverlet = 2\n",
    "    Simulation time =  137\n",
    "    Acceptance probability = 0.07\n",
    "    - repeat:\n",
    "        Simulation time =  141\n",
    "        Acceptance probability = 0.062\n",
    "- nkernals = 5, nverlet = 5\n",
    "    Simulation time =  166\n",
    "    Acceptance probability = 0.06"
   ]
  },
  {
   "cell_type": "code",
   "execution_count": null,
   "metadata": {
    "collapsed": true
   },
   "outputs": [],
   "source": []
  }
 ],
 "metadata": {
  "kernelspec": {
   "display_name": "Python 2",
   "language": "python",
   "name": "python2"
  },
  "language_info": {
   "codemirror_mode": {
    "name": "ipython",
    "version": 2
   },
   "file_extension": ".py",
   "mimetype": "text/x-python",
   "name": "python",
   "nbconvert_exporter": "python",
   "pygments_lexer": "ipython2",
   "version": "2.7.11"
  }
 },
 "nbformat": 4,
 "nbformat_minor": 0
}
