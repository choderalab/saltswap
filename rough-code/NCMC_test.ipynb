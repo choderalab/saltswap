{
 "cells": [
  {
   "cell_type": "code",
   "execution_count": 6,
   "metadata": {
    "collapsed": false
   },
   "outputs": [],
   "source": [
    "# Testing the addition of NCMC moves in saltwap.\n",
    "# Importing:\n",
    "from datetime import datetime\n",
    "from simtk import openmm, unit\n",
    "from simtk.openmm import app\n",
    "import numpy as np\n",
    "import sys\n",
    "import gc\n",
    "sys.path.append(\"../saltswap/\")\n",
    "\n",
    "import saltswap\n",
    "\n",
    "# Defining constants.\n",
    "kB = unit.BOLTZMANN_CONSTANT_kB * unit.AVOGADRO_CONSTANT_NA\n",
    "pressure = 1*unit.atmospheres\n",
    "temperature = 300*unit.kelvin\n",
    "delta_chem = +650*unit.kilojoule_per_mole  # should be around -630 kJ/mol for bulk water with 0.2 M salt."
   ]
  },
  {
   "cell_type": "code",
   "execution_count": 7,
   "metadata": {
    "collapsed": false
   },
   "outputs": [],
   "source": [
    "#Loading a premade water box:\n",
    "pdb = app.PDBFile('../examples/waterbox.pdb')\n",
    "forcefield = app.ForceField('tip3p.xml')\n",
    "system = forcefield.createSystem(pdb.topology,nonbondedMethod=app.PME, nonbondedCutoff=1.0*unit.nanometer, constraints=app.HBonds)"
   ]
  },
  {
   "cell_type": "code",
   "execution_count": 8,
   "metadata": {
    "collapsed": true
   },
   "outputs": [],
   "source": [
    "# Minimizing energy with a temporary integrator.\n",
    "integrator = openmm.VerletIntegrator(1.0 * unit.femtoseconds)\n",
    "context = openmm.Context(system, integrator)\n",
    "context.setPositions(pdb.positions)\n",
    "openmm.LocalEnergyMinimizer.minimize(context, 1.0, 25)\n",
    "positions = context.getState(getPositions=True).getPositions(asNumpy=True)\n",
    "del context, integrator"
   ]
  },
  {
   "cell_type": "code",
   "execution_count": 10,
   "metadata": {
    "collapsed": false
   },
   "outputs": [],
   "source": [
    "# Defining the new system integrator that will be used for the standard MD moves:\n",
    "integrator = openmm.LangevinIntegrator(temperature, 1/unit.picosecond, 0.002*unit.picoseconds)\n",
    "system.addForce(openmm.MonteCarloBarostat(pressure, temperature, 25))\n",
    "# Initialising the constant salt class. Inside, a 'compoundintegrator' is defined to do NCMC\n",
    "#     NCMC parameters:\n",
    "nkernals = 10           # Number of NCMC steps\n",
    "nverlet = 1            # Number of velocity verlet steps in each NCMC step     \n",
    "mc_saltswap = saltswap.SaltSwap(system=system,topology=pdb.topology,temperature=temperature,delta_chem=delta_chem,\n",
    "                                integrator=integrator,pressure=pressure,\n",
    "                                debug=False,nkernals=nkernals, nverlet_steps=nverlet)"
   ]
  },
  {
   "cell_type": "code",
   "execution_count": 11,
   "metadata": {
    "collapsed": false
   },
   "outputs": [],
   "source": [
    "# Creating the working the context\n",
    "platform = openmm.Platform.getPlatformByName('CPU')\n",
    "context = openmm.Context(system, mc_saltswap.compound_integrator,platform)\n",
    "context.setPositions(positions)"
   ]
  },
  {
   "cell_type": "code",
   "execution_count": 12,
   "metadata": {
    "collapsed": true
   },
   "outputs": [],
   "source": [
    "# Brief thermalisation:\n",
    "context.setVelocitiesToTemperature(temperature)\n",
    "integrator.step(10)\n",
    "positions = context.getState(getPositions=True,enforcePeriodicBox=True).getPositions(asNumpy=True)"
   ]
  },
  {
   "cell_type": "code",
   "execution_count": 13,
   "metadata": {
    "collapsed": false
   },
   "outputs": [
    {
     "data": {
      "text/plain": [
       "(501, 0, 0)"
      ]
     },
     "execution_count": 13,
     "metadata": {},
     "output_type": "execute_result"
    }
   ],
   "source": [
    "mc_saltswap.getIdentityCounts()"
   ]
  },
  {
   "cell_type": "code",
   "execution_count": 14,
   "metadata": {
    "collapsed": false,
    "scrolled": true
   },
   "outputs": [
    {
     "name": "stdout",
     "output_type": "stream",
     "text": [
      "Step 0 complete\n",
      "Identity counts: (493, 4, 4)\n",
      "Number of NaNs =  0\n",
      "Time in seconds =  1\n",
      "Step 1 complete\n",
      "Identity counts: (489, 6, 6)\n",
      "Number of NaNs =  0\n",
      "Time in seconds =  1\n",
      "Step 2 complete\n",
      "Identity counts: (483, 9, 9)\n",
      "Number of NaNs =  0\n",
      "Time in seconds =  1\n",
      "Step 3 complete\n",
      "Identity counts: (479, 11, 11)\n",
      "Number of NaNs =  0\n",
      "Time in seconds =  1\n",
      "Step 4 complete\n",
      "Identity counts: (475, 13, 13)\n",
      "Number of NaNs =  0\n",
      "Time in seconds =  1\n",
      "Step 5 complete\n",
      "Identity counts: (469, 16, 16)\n",
      "Number of NaNs =  0\n",
      "Time in seconds =  1\n",
      "Step 6 complete\n",
      "Identity counts: (467, 17, 17)\n",
      "Number of NaNs =  0\n",
      "Time in seconds =  1\n",
      "Step 7 complete\n",
      "Identity counts: (463, 19, 19)\n",
      "Number of NaNs =  0\n",
      "Time in seconds =  1\n",
      "Step 8 complete\n",
      "Identity counts: (459, 21, 21)\n",
      "Number of NaNs =  0\n",
      "Time in seconds =  1\n",
      "Step 9 complete\n",
      "Identity counts: (451, 25, 25)\n",
      "Number of NaNs =  0\n",
      "Time in seconds =  1\n",
      "\n",
      "Acceptance probability = 0.5\n",
      "NaNs =  0\n"
     ]
    }
   ],
   "source": [
    "# Cycles of MD and MC salt exchanges:\n",
    "iterations = 10        # Number of rounds of MD and constant salt moves\n",
    "nsteps = 200           # Amount of MD steps per iteration. 250000 steps = 500 picoseconds\n",
    "nattempts = 5        # Number of identity exchanges attempts per iteration \n",
    "printfreq = 1\n",
    "\n",
    "pdbfile = open('output.pdb', 'w')\n",
    "app.PDBFile.writeHeader(pdb.topology, file=pdbfile)\n",
    "app.PDBFile.writeModel(pdb.topology, positions, file=pdbfile, modelIndex=0)\n",
    "\n",
    "startTime = datetime.now()\n",
    "for i in range(iterations):\n",
    "    startTime = datetime.now()\n",
    "    integrator.step(nsteps)\n",
    "    mc_saltswap.update(context,nattempts=nattempts)\n",
    "    positions = context.getState(getPositions=True,enforcePeriodicBox=True).getPositions(asNumpy=True)\n",
    "    app.PDBFile.writeModel(pdb.topology, positions, file=pdbfile, modelIndex=i+1)\n",
    "    tm = datetime.now() - startTime\n",
    "    if i%printfreq == 0:\n",
    "        print \"Step %i complete\" % i\n",
    "        print \"Identity counts:\", mc_saltswap.getIdentityCounts()\n",
    "        print \"Number of NaNs = \",mc_saltswap.nan\n",
    "        print \"Time in seconds = \",tm.seconds\n",
    "    gc.collect()    \n",
    "tm = datetime.now() - startTime\n",
    "\n",
    "#print \"\\nSimulation time = \",tm.seconds\n",
    "print \"\\nAcceptance probability =\",mc_saltswap.getAcceptanceProbability()\n",
    "print \"NaNs = \",mc_saltswap.nan"
   ]
  },
  {
   "cell_type": "code",
   "execution_count": 32,
   "metadata": {
    "collapsed": false
   },
   "outputs": [],
   "source": [
    "mc_saltswap.update(context,nattempts=50,cost=+10000)"
   ]
  },
  {
   "cell_type": "code",
   "execution_count": 33,
   "metadata": {
    "collapsed": false
   },
   "outputs": [
    {
     "data": {
      "text/plain": [
       "(453, 24, 24)"
      ]
     },
     "execution_count": 33,
     "metadata": {},
     "output_type": "execute_result"
    }
   ],
   "source": [
    "mc_saltswap.getIdentityCounts()"
   ]
  },
  {
   "cell_type": "code",
   "execution_count": 12,
   "metadata": {
    "collapsed": false
   },
   "outputs": [
    {
     "data": {
      "text/plain": [
       "(489, 6, 6)"
      ]
     },
     "execution_count": 12,
     "metadata": {},
     "output_type": "execute_result"
    }
   ],
   "source": [
    "mc_saltswap.getIdentityCounts()"
   ]
  },
  {
   "cell_type": "markdown",
   "metadata": {},
   "source": [
    "With nkernals = 10, nverlet = 1, nsteps = 250000, nattempts = 10. Iterations prematurely cancelled.\n",
    "\n",
    "Step 0 complete\n",
    "Identity counts: (501, 0, 0)\n",
    "Number of NaNs =  0\n",
    "Time in seconds =  606\n",
    "Step 1 complete\n",
    "Identity counts: (501, 0, 0)\n",
    "Number of NaNs =  0\n",
    "Time in seconds =  606\n",
    "Step 2 complete\n",
    "Identity counts: (501, 0, 0)\n",
    "Number of NaNs =  0\n",
    "Time in seconds =  606\n",
    "Step 3 complete\n",
    "Identity counts: (501, 0, 0)\n",
    "Number of NaNs =  0\n",
    "Time in seconds =  604\n",
    "Step 4 complete\n",
    "Identity counts: (501, 0, 0)\n",
    "Number of NaNs =  0\n",
    "Time in seconds =  639\n",
    "Step 5 complete\n",
    "Identity counts: (501, 0, 0)\n",
    "Number of NaNs =  0\n",
    "Time in seconds =  626\n",
    "Step 6 complete\n",
    "Identity counts: (501, 0, 0)\n",
    "Number of NaNs =  0\n",
    "Time in seconds =  624\n",
    "Step 7 complete\n",
    "Identity counts: (501, 0, 0)\n",
    "Number of NaNs =  0\n",
    "Time in seconds =  627\n",
    "Step 8 complete\n",
    "Identity counts: (501, 0, 0)\n",
    "Number of NaNs =  0\n",
    "Time in seconds =  634\n",
    "Step 9 complete\n",
    "Identity counts: (501, 0, 0)\n",
    "Number of NaNs =  0\n",
    "Time in seconds =  630"
   ]
  },
  {
   "cell_type": "markdown",
   "metadata": {
    "collapsed": false
   },
   "source": [
    "With iterations =100, nsteps = 10, nattampts =5:\n",
    "- No NCMC:\n",
    "    Simulation time =  7\n",
    "    Acceptance probability = 0.016\n",
    "- nkernals = 2, nverlet = 1:\n",
    "    Simulation time = 24\n",
    "    Acceptance probability = 0.09\n",
    "    - repeat:\n",
    "        Simulation time = 23\n",
    "        Acceptance probability = 0.04    \n",
    "- nkernals = 5, nverlet = 1:\n",
    "   Simulation blows up?\n",
    "- nkernals = 5, nverlet = 2:   \n",
    "    Simulation time = 74\n",
    "    Acceptance probability = 0.63\n",
    "    - repeat:\n",
    "        Simulation time = 74\n",
    "        Acceptance probability = 0.682\n",
    "- nkernals = 2, nverlet = 2\n",
    "    Simulation blows up?\n",
    "- nkernals = 10, nverlet = 2\n",
    "    Simulation time =  137\n",
    "    Acceptance probability = 0.07\n",
    "    - repeat:\n",
    "        Simulation time =  141\n",
    "        Acceptance probability = 0.062\n",
    "- nkernals = 5, nverlet = 5\n",
    "    Simulation time =  166\n",
    "    Acceptance probability = 0.06\n",
    "- nkernals = 100, nverlet = 10, deltachem=-630\n",
    "    Simulation time = 627\n",
    "    Acceptance probability = 0.50\n",
    "- nkernals = 1000, nverlet = 1, deltachem=-630\n",
    "    Simulation time = 640\n",
    "    Acceptance probability = 0.4\n",
    "    \n",
    "    \n",
    "With iterations =200, nsteps = 5000, nattampts =5:\n",
    " "
   ]
  },
  {
   "cell_type": "markdown",
   "metadata": {},
   "source": [
    "Timing script to see where memory leak is occuring"
   ]
  },
  {
   "cell_type": "code",
   "execution_count": 15,
   "metadata": {
    "collapsed": false
   },
   "outputs": [
    {
     "name": "stdout",
     "output_type": "stream",
     "text": [
      "Time in seconds =  679\n"
     ]
    }
   ],
   "source": [
    "startTime = datetime.now()\n",
    "integrator.step(nsteps)\n",
    "tm = datetime.now() - startTime\n",
    "print \"Time in seconds = \",tm.seconds"
   ]
  },
  {
   "cell_type": "markdown",
   "metadata": {},
   "source": [
    "This is roughly 11.3 minutes, and is close to the 800 seconds the code took previously before the massive increase in time. The memory leak/delay is probably happening the the update part, most likely something to do with NCMC."
   ]
  },
  {
   "cell_type": "code",
   "execution_count": 10,
   "metadata": {
    "collapsed": false,
    "scrolled": true
   },
   "outputs": [],
   "source": [
    "import cProfile"
   ]
  },
  {
   "cell_type": "code",
   "execution_count": 23,
   "metadata": {
    "collapsed": false,
    "scrolled": true
   },
   "outputs": [
    {
     "name": "stdout",
     "output_type": "stream",
     "text": [
      "         20222484 function calls (20222284 primitive calls) in 133.766 seconds\n",
      "\n",
      "   Ordered by: standard name\n",
      "\n",
      "   ncalls  tottime  percall  cumtime  percall filename:lineno(function)\n",
      "        1    0.000    0.000  133.766  133.766 <string>:1(<module>)\n",
      "       30    0.000    0.000    0.000    0.000 _methods.py:31(_sum)\n",
      "       16    0.000    0.000    0.000    0.000 _methods.py:34(_prod)\n",
      "   360790    0.769    0.000    1.485    0.000 copy.py:145(deepcopy)\n",
      "   360770    0.047    0.000    0.047    0.000 copy.py:198(_deepcopy_atomic)\n",
      "   360790    0.510    0.000    0.560    0.000 copy.py:267(_keep_alive)\n",
      "       30    0.000    0.000    0.000    0.000 fromnumeric.py:1737(sum)\n",
      "       16    0.000    0.000    0.000    0.000 fromnumeric.py:2390(prod)\n",
      "    10000    0.016    0.000  122.673    0.012 openmm.py:10415(step)\n",
      "    60060    0.033    0.000    3.662    0.000 openmm.py:14807(setParticleParameters)\n",
      "    10010    0.007    0.000    0.426    0.000 openmm.py:14976(updateParametersInContext)\n",
      "       60    0.000    0.000    0.000    0.000 openmm.py:1678(__init__)\n",
      "       20    0.000    0.000    0.000    0.000 openmm.py:1733(getPeriodicBoxVolume)\n",
      "       10    0.000    0.000    0.057    0.006 openmm.py:1741(getPositions)\n",
      "       10    0.000    0.000    0.057    0.006 openmm.py:1764(getVelocities)\n",
      "       20    0.000    0.000    0.000    0.000 openmm.py:1814(getKineticEnergy)\n",
      "       20    0.000    0.000    0.000    0.000 openmm.py:1825(getPotentialEnergy)\n",
      "       10    0.000    0.000    0.000    0.000 openmm.py:5790(setCurrentIntegrator)\n",
      "       10    0.000    0.000    0.015    0.002 openmm.py:5941(setPositions)\n",
      "       10    0.000    0.000    0.015    0.001 openmm.py:5955(setVelocities)\n",
      "       60    0.000    0.000    0.119    0.002 openmm.py:6104(_getStateAsLists)\n",
      "       60    0.000    0.000    0.119    0.002 openmm.py:6109(getState)\n",
      "   180200    0.337    0.000    3.505    0.000 quantity.py:221(__add__)\n",
      "       90    0.000    0.000    0.001    0.000 quantity.py:292(reduce_unit)\n",
      "  240/140    0.000    0.000    0.002    0.000 quantity.py:351(__mul__)\n",
      "   360360    0.420    0.000    2.483    0.000 quantity.py:375(__rmul__)\n",
      "   150/50    0.000    0.000    0.002    0.000 quantity.py:392(__truediv__)\n",
      "       46    0.000    0.000    0.000    0.000 quantity.py:593(__neg__)\n",
      "   180200    0.153    0.000    2.590    0.000 quantity.py:617(value_in_unit)\n",
      "   180200    0.147    0.000    2.919    0.000 quantity.py:627(value_in_unit_system)\n",
      "   180200    0.241    0.000    2.704    0.000 quantity.py:637(in_unit_system)\n",
      "   180200    0.231    0.000    2.370    0.000 quantity.py:645(in_units_of)\n",
      "   720870    1.068    0.000    5.307    0.000 quantity.py:661(_change_units_with_factor)\n",
      "  1622476    0.436    0.000    0.736    0.000 quantity.py:785(is_quantity)\n",
      "   901376    0.493    0.000    0.929    0.000 quantity.py:97(__init__)\n",
      "       10    0.002    0.000  133.766   13.377 saltswap.py:324(attempt_identity_swap)\n",
      "       10    0.094    0.009  133.473   13.347 saltswap.py:429(NCMC)\n",
      "    10010    0.619    0.000   10.292    0.001 saltswap.py:486(updateForces_fractional)\n",
      "       20    0.000    0.000    0.097    0.005 saltswap.py:553(_compute_log_probability)\n",
      "        1    0.000    0.000  133.766  133.766 saltswap.py:594(update)\n",
      "       10    0.000    0.000    0.001    0.000 saltswap.py:629(getIdentityCounts)\n",
      "    20020    0.016    0.000    0.023    0.000 topology.py:367(atoms)\n",
      "   600720    0.576    0.000    1.012    0.000 unit.py:176(__eq__)\n",
      "  5407510    0.728    0.000    0.728    0.000 unit.py:195(__hash__)\n",
      "       10    0.000    0.000    0.000    0.000 unit.py:209(__truediv__)\n",
      "       60    0.000    0.000    0.000    0.000 unit.py:227(__pow__)\n",
      "   540600    0.836    0.000    1.189    0.000 unit.py:300(is_compatible)\n",
      "   720960    0.779    0.000    2.004    0.000 unit.py:330(is_dimensionless)\n",
      "   360400    0.327    0.000    0.442    0.000 unit.py:346(conversion_factor_to)\n",
      "  1201440    0.208    0.000    0.208    0.000 unit.py:445(get_name)\n",
      "   180200    0.139    0.000    0.186    0.000 unit.py:643(express_unit)\n",
      "   961650    0.279    0.000    0.420    0.000 unit.py:680(is_unit)\n",
      "       20    0.000    0.000    0.000    0.000 unit_math.py:173(dot)\n",
      "      180    0.000    0.000    0.001    0.000 unit_operators.py:80(_unit_class_mul)\n",
      "    30260    0.009    0.000    0.016    0.000 vec3.py:40(__new__)\n",
      "       10    0.000    0.000    0.000    0.000 {_openmm.CompoundIntegrator_setCurrentIntegrator}\n",
      "       60    0.103    0.002    0.119    0.002 {_openmm.Context__getStateAsLists}\n",
      "       10    0.015    0.002    0.015    0.002 {_openmm.Context_setPositions}\n",
      "       10    0.015    0.001    0.015    0.001 {_openmm.Context_setVelocities}\n",
      "    10000  122.657    0.012  122.657    0.012 {_openmm.CustomIntegrator_step}\n",
      "    60060    0.297    0.000    3.629    0.000 {_openmm.NonbondedForce_setParticleParameters}\n",
      "    10010    0.419    0.000    0.419    0.000 {_openmm.NonbondedForce_updateParametersInContext}\n",
      "    30260    0.007    0.000    0.007    0.000 {built-in method __new__ of type object at 0x100186920}\n",
      "       20    0.000    0.000    0.000    0.000 {getattr}\n",
      "  1082370    0.079    0.000    0.079    0.000 {id}\n",
      "  2584156    0.440    0.000    0.440    0.000 {isinstance}\n",
      "       20    0.000    0.000    0.000    0.000 {issubclass}\n",
      "    20020    0.007    0.000    0.007    0.000 {iter}\n",
      "       20    0.000    0.000    0.000    0.000 {len}\n",
      "       60    0.000    0.000    0.000    0.000 {map}\n",
      "       10    0.000    0.000    0.000    0.000 {math.exp}\n",
      "       20    0.000    0.000    0.000    0.000 {method '__deepcopy__' of 'numpy.ndarray' objects}\n",
      "       16    0.000    0.000    0.001    0.000 {method 'choice' of 'mtrand.RandomState' objects}\n",
      "        1    0.000    0.000    0.000    0.000 {method 'disable' of '_lsprof.Profiler' objects}\n",
      "   721580    0.081    0.000    0.081    0.000 {method 'get' of 'dict' objects}\n",
      "       10    0.000    0.000    0.000    0.000 {method 'random' of '_random.Random' objects}\n",
      "       10    0.000    0.000    0.000    0.000 {method 'random_sample' of 'mtrand.RandomState' objects}\n",
      "       46    0.000    0.000    0.000    0.000 {method 'reduce' of 'numpy.ufunc' objects}\n",
      "       26    0.114    0.004    0.114    0.004 {numpy.core.multiarray.array}\n",
      "       16    0.000    0.000    0.000    0.000 {numpy.core.multiarray.where}\n",
      "      110    0.000    0.000    0.000    0.000 {pow}\n",
      "       31    0.000    0.000    0.000    0.000 {range}\n",
      "       20    0.010    0.000    0.010    0.000 {sum}\n",
      "\n",
      "\n"
     ]
    }
   ],
   "source": [
    "cProfile.run(\"mc_saltswap.update(context,nattempts=nattempts)\")"
   ]
  },
  {
   "cell_type": "code",
   "execution_count": 24,
   "metadata": {
    "collapsed": false
   },
   "outputs": [
    {
     "data": {
      "text/plain": [
       "16"
      ]
     },
     "execution_count": 24,
     "metadata": {},
     "output_type": "execute_result"
    }
   ],
   "source": [
    "10*100/60"
   ]
  },
  {
   "cell_type": "code",
   "execution_count": 26,
   "metadata": {
    "collapsed": false,
    "scrolled": true
   },
   "outputs": [
    {
     "name": "stdout",
     "output_type": "stream",
     "text": [
      "         20222464 function calls (20222264 primitive calls) in 133.976 seconds\n",
      "\n",
      "   Ordered by: standard name\n",
      "\n",
      "   ncalls  tottime  percall  cumtime  percall filename:lineno(function)\n",
      "        1    0.000    0.000  133.976  133.976 <string>:1(<module>)\n",
      "       30    0.000    0.000    0.000    0.000 _methods.py:31(_sum)\n",
      "       14    0.000    0.000    0.000    0.000 _methods.py:34(_prod)\n",
      "   360790    0.769    0.000    1.477    0.000 copy.py:145(deepcopy)\n",
      "   360770    0.047    0.000    0.047    0.000 copy.py:198(_deepcopy_atomic)\n",
      "   360790    0.501    0.000    0.552    0.000 copy.py:267(_keep_alive)\n",
      "       30    0.000    0.000    0.000    0.000 fromnumeric.py:1737(sum)\n",
      "       14    0.000    0.000    0.000    0.000 fromnumeric.py:2390(prod)\n",
      "    10000    0.015    0.000  122.941    0.012 openmm.py:10415(step)\n",
      "    60060    0.032    0.000    3.652    0.000 openmm.py:14807(setParticleParameters)\n",
      "    10010    0.007    0.000    0.419    0.000 openmm.py:14976(updateParametersInContext)\n",
      "       60    0.000    0.000    0.000    0.000 openmm.py:1678(__init__)\n",
      "       20    0.000    0.000    0.000    0.000 openmm.py:1733(getPeriodicBoxVolume)\n",
      "       10    0.000    0.000    0.056    0.006 openmm.py:1741(getPositions)\n",
      "       10    0.000    0.000    0.057    0.006 openmm.py:1764(getVelocities)\n",
      "       20    0.000    0.000    0.000    0.000 openmm.py:1814(getKineticEnergy)\n",
      "       20    0.000    0.000    0.000    0.000 openmm.py:1825(getPotentialEnergy)\n",
      "       10    0.000    0.000    0.000    0.000 openmm.py:5790(setCurrentIntegrator)\n",
      "       10    0.000    0.000    0.015    0.002 openmm.py:5941(setPositions)\n",
      "       10    0.000    0.000    0.015    0.001 openmm.py:5955(setVelocities)\n",
      "       60    0.000    0.000    0.136    0.002 openmm.py:6104(_getStateAsLists)\n",
      "       60    0.000    0.000    0.137    0.002 openmm.py:6109(getState)\n",
      "   180200    0.338    0.000    3.497    0.000 quantity.py:221(__add__)\n",
      "       90    0.000    0.000    0.001    0.000 quantity.py:292(reduce_unit)\n",
      "  240/140    0.000    0.000    0.002    0.000 quantity.py:351(__mul__)\n",
      "   360360    0.412    0.000    2.484    0.000 quantity.py:375(__rmul__)\n",
      "   150/50    0.000    0.000    0.002    0.000 quantity.py:392(__truediv__)\n",
      "       44    0.000    0.000    0.000    0.000 quantity.py:593(__neg__)\n",
      "   180200    0.152    0.000    2.580    0.000 quantity.py:617(value_in_unit)\n",
      "   180200    0.148    0.000    2.915    0.000 quantity.py:627(value_in_unit_system)\n",
      "   180200    0.240    0.000    2.698    0.000 quantity.py:637(in_unit_system)\n",
      "   180200    0.227    0.000    2.361    0.000 quantity.py:645(in_units_of)\n",
      "   720870    1.064    0.000    5.308    0.000 quantity.py:661(_change_units_with_factor)\n",
      "  1622474    0.437    0.000    0.739    0.000 quantity.py:785(is_quantity)\n",
      "   901374    0.492    0.000    0.930    0.000 quantity.py:97(__init__)\n",
      "       10    0.002    0.000  133.976   13.398 saltswap.py:324(attempt_identity_swap)\n",
      "       10    0.087    0.009  133.668   13.367 saltswap.py:429(NCMC)\n",
      "    10010    0.577    0.000   10.233    0.001 saltswap.py:486(updateForces_fractional)\n",
      "       20    0.000    0.000    0.097    0.005 saltswap.py:553(_compute_log_probability)\n",
      "        1    0.000    0.000  133.976  133.976 saltswap.py:594(update)\n",
      "       10    0.000    0.000    0.001    0.000 saltswap.py:629(getIdentityCounts)\n",
      "    20020    0.015    0.000    0.022    0.000 topology.py:367(atoms)\n",
      "   600720    0.582    0.000    1.021    0.000 unit.py:176(__eq__)\n",
      "  5407510    0.737    0.000    0.737    0.000 unit.py:195(__hash__)\n",
      "       10    0.000    0.000    0.000    0.000 unit.py:209(__truediv__)\n",
      "       60    0.000    0.000    0.000    0.000 unit.py:227(__pow__)\n",
      "   540600    0.839    0.000    1.196    0.000 unit.py:300(is_compatible)\n",
      "   720960    0.778    0.000    2.014    0.000 unit.py:330(is_dimensionless)\n",
      "   360400    0.322    0.000    0.438    0.000 unit.py:346(conversion_factor_to)\n",
      "  1201440    0.210    0.000    0.210    0.000 unit.py:445(get_name)\n",
      "   180200    0.138    0.000    0.185    0.000 unit.py:643(express_unit)\n",
      "   961650    0.278    0.000    0.422    0.000 unit.py:680(is_unit)\n",
      "       20    0.000    0.000    0.000    0.000 unit_math.py:173(dot)\n",
      "      180    0.000    0.000    0.001    0.000 unit_operators.py:80(_unit_class_mul)\n",
      "    30260    0.008    0.000    0.033    0.000 vec3.py:40(__new__)\n",
      "       10    0.000    0.000    0.000    0.000 {_openmm.CompoundIntegrator_setCurrentIntegrator}\n",
      "       60    0.103    0.002    0.136    0.002 {_openmm.Context__getStateAsLists}\n",
      "       10    0.015    0.001    0.015    0.002 {_openmm.Context_setPositions}\n",
      "       10    0.015    0.001    0.015    0.001 {_openmm.Context_setVelocities}\n",
      "    10000  122.926    0.012  122.926    0.012 {_openmm.CustomIntegrator_step}\n",
      "    60060    0.289    0.000    3.620    0.000 {_openmm.NonbondedForce_setParticleParameters}\n",
      "    10010    0.412    0.000    0.412    0.000 {_openmm.NonbondedForce_updateParametersInContext}\n",
      "    30260    0.026    0.000    0.026    0.000 {built-in method __new__ of type object at 0x100186920}\n",
      "       20    0.000    0.000    0.000    0.000 {getattr}\n",
      "  1082370    0.079    0.000    0.079    0.000 {id}\n",
      "  2584154    0.445    0.000    0.445    0.000 {isinstance}\n",
      "       20    0.000    0.000    0.000    0.000 {issubclass}\n",
      "    20020    0.007    0.000    0.007    0.000 {iter}\n",
      "       20    0.000    0.000    0.000    0.000 {len}\n",
      "       60    0.000    0.000    0.000    0.000 {map}\n",
      "       10    0.000    0.000    0.000    0.000 {math.exp}\n",
      "       20    0.000    0.000    0.000    0.000 {method '__deepcopy__' of 'numpy.ndarray' objects}\n",
      "       14    0.001    0.000    0.001    0.000 {method 'choice' of 'mtrand.RandomState' objects}\n",
      "        1    0.000    0.000    0.000    0.000 {method 'disable' of '_lsprof.Profiler' objects}\n",
      "   721580    0.081    0.000    0.081    0.000 {method 'get' of 'dict' objects}\n",
      "       10    0.000    0.000    0.000    0.000 {method 'random' of '_random.Random' objects}\n",
      "       10    0.000    0.000    0.000    0.000 {method 'random_sample' of 'mtrand.RandomState' objects}\n",
      "       44    0.000    0.000    0.000    0.000 {method 'reduce' of 'numpy.ufunc' objects}\n",
      "       24    0.112    0.005    0.112    0.005 {numpy.core.multiarray.array}\n",
      "       14    0.000    0.000    0.000    0.000 {numpy.core.multiarray.where}\n",
      "      110    0.000    0.000    0.000    0.000 {pow}\n",
      "       31    0.000    0.000    0.000    0.000 {range}\n",
      "       20    0.009    0.000    0.009    0.000 {sum}\n",
      "\n",
      "\n"
     ]
    }
   ],
   "source": [
    "cProfile.run(\"mc_saltswap.update(context,nattempts=nattempts)\")"
   ]
  },
  {
   "cell_type": "code",
   "execution_count": 32,
   "metadata": {
    "collapsed": false
   },
   "outputs": [
    {
     "name": "stdout",
     "output_type": "stream",
     "text": [
      "(397, 52, 52)\n",
      "0.2\n",
      "64\n"
     ]
    }
   ],
   "source": [
    "print mc_saltswap.getIdentityCounts()\n",
    "print mc_saltswap.getAcceptanceProbability()\n",
    "print sys.getsizeof(mc_saltswap)"
   ]
  },
  {
   "cell_type": "code",
   "execution_count": 12,
   "metadata": {
    "collapsed": false,
    "scrolled": true
   },
   "outputs": [
    {
     "name": "stdout",
     "output_type": "stream",
     "text": [
      "         29370004 function calls (29350004 primitive calls) in 157.899 seconds\n",
      "\n",
      "   Ordered by: standard name\n",
      "\n",
      "   ncalls  tottime  percall  cumtime  percall filename:lineno(function)\n",
      "        1    0.000    0.000  157.899  157.899 <string>:1(<module>)\n",
      "     3000    0.002    0.000    0.022    0.000 _methods.py:31(_sum)\n",
      "     1000    0.001    0.000    0.010    0.000 _methods.py:34(_prod)\n",
      "   439000    0.929    0.000    1.804    0.000 copy.py:145(deepcopy)\n",
      "   437000    0.056    0.000    0.056    0.000 copy.py:198(_deepcopy_atomic)\n",
      "   439000    0.612    0.000    0.674    0.000 copy.py:267(_keep_alive)\n",
      "     3000    0.006    0.000    0.029    0.000 fromnumeric.py:1737(sum)\n",
      "     1000    0.006    0.000    0.016    0.000 fromnumeric.py:2390(prod)\n",
      "    10000    0.017    0.000  121.326    0.012 openmm.py:10415(step)\n",
      "    66000    0.039    0.000    3.955    0.000 openmm.py:14807(setParticleParameters)\n",
      "    11000    0.008    0.000    0.449    0.000 openmm.py:14976(updateParametersInContext)\n",
      "     6000    0.015    0.000    0.015    0.000 openmm.py:1678(__init__)\n",
      "     2000    0.012    0.000    0.038    0.000 openmm.py:1733(getPeriodicBoxVolume)\n",
      "     1000    0.005    0.000    5.575    0.006 openmm.py:1741(getPositions)\n",
      "     1000    0.006    0.000    5.593    0.006 openmm.py:1764(getVelocities)\n",
      "     2000    0.003    0.000    0.010    0.000 openmm.py:1814(getKineticEnergy)\n",
      "     2000    0.009    0.000    0.024    0.000 openmm.py:1825(getPotentialEnergy)\n",
      "     1000    0.002    0.000    0.005    0.000 openmm.py:5790(setCurrentIntegrator)\n",
      "     1000    0.001    0.000    1.503    0.002 openmm.py:5941(setPositions)\n",
      "     1000    0.001    0.000    1.489    0.001 openmm.py:5955(setVelocities)\n",
      "     6000    0.006    0.000    9.310    0.002 openmm.py:6104(_getStateAsLists)\n",
      "     6000    0.040    0.000    9.378    0.002 openmm.py:6109(getState)\n",
      "   200000    0.365    0.000    3.812    0.000 quantity.py:221(__add__)\n",
      "     9000    0.036    0.000    0.093    0.000 quantity.py:292(reduce_unit)\n",
      "24000/14000    0.042    0.000    0.233    0.000 quantity.py:351(__mul__)\n",
      "   396000    0.457    0.000    2.849    0.000 quantity.py:375(__rmul__)\n",
      "15000/5000    0.032    0.000    0.216    0.000 quantity.py:392(__truediv__)\n",
      "     4000    0.005    0.000    0.009    0.000 quantity.py:593(__neg__)\n",
      "   200000    0.163    0.000    2.812    0.000 quantity.py:617(value_in_unit)\n",
      "   200000    0.158    0.000    3.191    0.000 quantity.py:627(value_in_unit_system)\n",
      "   200000    0.263    0.000    2.958    0.000 quantity.py:637(in_unit_system)\n",
      "   200000    0.248    0.000    2.575    0.000 quantity.py:645(in_units_of)\n",
      "   807000    1.185    0.000    5.995    0.000 quantity.py:661(_change_units_with_factor)\n",
      "  1867000    0.494    0.000    0.830    0.000 quantity.py:785(is_quantity)\n",
      "  1037000    0.567    0.000    1.058    0.000 quantity.py:97(__init__)\n",
      "     1000    0.179    0.000  157.896    0.158 saltswap.py:324(attempt_identity_swap)\n",
      "     1000    0.098    0.000  131.928    0.132 saltswap.py:429(NCMC)\n",
      "    11000    0.598    0.000   11.162    0.001 saltswap.py:486(updateForces_fractional)\n",
      "     2000    0.032    0.000    7.096    0.004 saltswap.py:553(_compute_log_probability)\n",
      "        1    0.003    0.003  157.899  157.899 saltswap.py:594(update)\n",
      "     1000    0.024    0.000    0.054    0.000 saltswap.py:629(getIdentityCounts)\n",
      "    22000    0.018    0.000    0.026    0.000 topology.py:367(atoms)\n",
      "   672000    0.633    0.000    1.115    0.000 unit.py:176(__eq__)\n",
      "  6151000    0.825    0.000    0.825    0.000 unit.py:195(__hash__)\n",
      "     1000    0.002    0.000    0.012    0.000 unit.py:209(__truediv__)\n",
      "     6000    0.012    0.000    0.015    0.000 unit.py:227(__pow__)\n",
      "   600000    0.917    0.000    1.305    0.000 unit.py:300(is_compatible)\n",
      "   816000    0.855    0.000    2.208    0.000 unit.py:330(is_dimensionless)\n",
      "   400000    0.350    0.000    0.476    0.000 unit.py:346(conversion_factor_to)\n",
      "  1344000    0.230    0.000    0.230    0.000 unit.py:445(get_name)\n",
      "   200000    0.149    0.000    0.200    0.000 unit.py:643(express_unit)\n",
      "  1125000    0.321    0.000    0.491    0.000 unit.py:680(is_unit)\n",
      "     2000    0.005    0.000    0.008    0.000 unit_math.py:173(dot)\n",
      "    18000    0.039    0.000    0.069    0.000 unit_operators.py:80(_unit_class_mul)\n",
      "  3026000    0.743    0.000    1.744    0.000 vec3.py:40(__new__)\n",
      "     1000    0.003    0.000    0.003    0.000 {_openmm.CompoundIntegrator_setCurrentIntegrator}\n",
      "     6000    7.561    0.001    9.304    0.002 {_openmm.Context__getStateAsLists}\n",
      "     1000    1.473    0.001    1.502    0.002 {_openmm.Context_setPositions}\n",
      "     1000    1.465    0.001    1.488    0.001 {_openmm.Context_setVelocities}\n",
      "    10000  121.310    0.012  121.310    0.012 {_openmm.CustomIntegrator_step}\n",
      "    66000    0.326    0.000    3.916    0.000 {_openmm.NonbondedForce_setParticleParameters}\n",
      "    11000    0.441    0.000    0.441    0.000 {_openmm.NonbondedForce_updateParametersInContext}\n",
      "  3026000    1.001    0.000    1.001    0.000 {built-in method __new__ of type object at 0x100186920}\n",
      "     2000    0.001    0.000    0.001    0.000 {getattr}\n",
      "  1317000    0.096    0.000    0.096    0.000 {id}\n",
      "  2995000    0.507    0.000    0.507    0.000 {isinstance}\n",
      "     2000    0.001    0.000    0.001    0.000 {issubclass}\n",
      "    22000    0.008    0.000    0.008    0.000 {iter}\n",
      "     2000    0.000    0.000    0.000    0.000 {len}\n",
      "     6000    0.013    0.000    0.013    0.000 {map}\n",
      "     1000    0.001    0.000    0.001    0.000 {math.exp}\n",
      "     2000    0.011    0.000    0.011    0.000 {method '__deepcopy__' of 'numpy.ndarray' objects}\n",
      "     1000    0.078    0.000    0.094    0.000 {method 'choice' of 'mtrand.RandomState' objects}\n",
      "        1    0.000    0.000    0.000    0.000 {method 'disable' of '_lsprof.Profiler' objects}\n",
      "   878000    0.099    0.000    0.099    0.000 {method 'get' of 'dict' objects}\n",
      "     1000    0.003    0.000    0.003    0.000 {method 'random' of '_random.Random' objects}\n",
      "     4000    0.029    0.000    0.029    0.000 {method 'reduce' of 'numpy.ufunc' objects}\n",
      "     2000   11.140    0.006   11.140    0.006 {numpy.core.multiarray.array}\n",
      "     1000    0.003    0.000    0.003    0.000 {numpy.core.multiarray.where}\n",
      "    11000    0.009    0.000    0.024    0.000 {pow}\n",
      "     3001    0.003    0.000    0.003    0.000 {range}\n",
      "     1000    0.494    0.000    0.494    0.000 {sum}\n",
      "\n",
      "\n"
     ]
    }
   ],
   "source": [
    "cProfile.run(\"mc_saltswap.update(context,nattempts=1000)\")"
   ]
  },
  {
   "cell_type": "code",
   "execution_count": 35,
   "metadata": {
    "collapsed": false
   },
   "outputs": [
    {
     "name": "stdout",
     "output_type": "stream",
     "text": [
      "(453, 24, 24)\n",
      "0.308108108108\n",
      "64\n"
     ]
    }
   ],
   "source": [
    "print mc_saltswap.getIdentityCounts()\n",
    "print mc_saltswap.getAcceptanceProbability()\n",
    "print sys.getsizeof(mc_saltswap)"
   ]
  },
  {
   "cell_type": "code",
   "execution_count": 37,
   "metadata": {
    "collapsed": false
   },
   "outputs": [],
   "source": [
    "t= datetime.now()"
   ]
  },
  {
   "cell_type": "code",
   "execution_count": 44,
   "metadata": {
    "collapsed": false
   },
   "outputs": [
    {
     "data": {
      "text/plain": [
       "datetime.date(2016, 6, 6)"
      ]
     },
     "execution_count": 44,
     "metadata": {},
     "output_type": "execute_result"
    }
   ],
   "source": [
    "t.date()"
   ]
  },
  {
   "cell_type": "code",
   "execution_count": null,
   "metadata": {
    "collapsed": true
   },
   "outputs": [],
   "source": []
  }
 ],
 "metadata": {
  "kernelspec": {
   "display_name": "Python 2",
   "language": "python",
   "name": "python2"
  },
  "language_info": {
   "codemirror_mode": {
    "name": "ipython",
    "version": 2
   },
   "file_extension": ".py",
   "mimetype": "text/x-python",
   "name": "python",
   "nbconvert_exporter": "python",
   "pygments_lexer": "ipython2",
   "version": "2.7.11"
  }
 },
 "nbformat": 4,
 "nbformat_minor": 0
}
