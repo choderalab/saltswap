{
 "cells": [
  {
   "cell_type": "code",
   "execution_count": 16,
   "metadata": {
    "collapsed": false
   },
   "outputs": [],
   "source": [
    "# Testing the addition of NCMC moves in saltwap.\n",
    "# Importing:\n",
    "from datetime import datetime\n",
    "from simtk import openmm, unit\n",
    "from simtk.openmm import app\n",
    "import numpy as np\n",
    "import sys\n",
    "sys.path.append(\"../saltswap/\")\n",
    "import saltswap\n",
    "\n",
    "# Defining constants.\n",
    "kB = unit.BOLTZMANN_CONSTANT_kB * unit.AVOGADRO_CONSTANT_NA\n",
    "pressure = 1*unit.atmospheres\n",
    "temperature = 300*unit.kelvin\n",
    "delta_chem = -630*unit.kilojoule_per_mole  # should be around -630 kJ/mol for bulk water with 0.2 M salt."
   ]
  },
  {
   "cell_type": "code",
   "execution_count": 17,
   "metadata": {
    "collapsed": false
   },
   "outputs": [],
   "source": [
    "#Loading a premade water box:\n",
    "pdb = app.PDBFile('../examples/waterbox.pdb')\n",
    "forcefield = app.ForceField('tip3p.xml')\n",
    "system = forcefield.createSystem(pdb.topology,nonbondedMethod=app.PME, nonbondedCutoff=1.0*unit.nanometer, constraints=app.HBonds)"
   ]
  },
  {
   "cell_type": "code",
   "execution_count": 18,
   "metadata": {
    "collapsed": true
   },
   "outputs": [],
   "source": [
    "# Minimizing energy with a temporary integrator.\n",
    "integrator = openmm.VerletIntegrator(1.0 * unit.femtoseconds)\n",
    "context = openmm.Context(system, integrator)\n",
    "context.setPositions(pdb.positions)\n",
    "openmm.LocalEnergyMinimizer.minimize(context, 1.0, 25)\n",
    "positions = context.getState(getPositions=True).getPositions(asNumpy=True)\n",
    "del context, integrator"
   ]
  },
  {
   "cell_type": "code",
   "execution_count": 19,
   "metadata": {
    "collapsed": false
   },
   "outputs": [
    {
     "name": "stdout",
     "output_type": "stream",
     "text": [
      "identifyResidues: 501 HOH molecules identified.\n"
     ]
    }
   ],
   "source": [
    "# Defining the new system integrator that will be used for the standard MD moves:\n",
    "integrator = openmm.LangevinIntegrator(temperature, 1/unit.picosecond, 0.002*unit.picoseconds)\n",
    "system.addForce(openmm.MonteCarloBarostat(pressure, temperature, 25))\n",
    "# Initialising the constant salt class. Inside, a 'compoundintegrator' is defined to do NCMC\n",
    "#     NCMC parameters:\n",
    "nkernals = 1000           # Number of NCMC steps\n",
    "nverlet = 1            # Number of velocity verlet steps in each NCMC step     \n",
    "mc_saltswap = saltswap.SaltSwap(system=system,topology=pdb.topology,temperature=temperature,delta_chem=delta_chem,\n",
    "                                integrator=integrator,pressure=pressure,\n",
    "                                debug=True,nkernals=nkernals, nverlet_steps=nverlet)"
   ]
  },
  {
   "cell_type": "code",
   "execution_count": 20,
   "metadata": {
    "collapsed": false
   },
   "outputs": [],
   "source": [
    "# Creating the working the context\n",
    "platform = openmm.Platform.getPlatformByName('CPU')\n",
    "context = openmm.Context(system, mc_saltswap.compound_integrator,platform)\n",
    "context.setPositions(positions)"
   ]
  },
  {
   "cell_type": "code",
   "execution_count": 21,
   "metadata": {
    "collapsed": true
   },
   "outputs": [],
   "source": [
    "# Brief thermalisation:\n",
    "context.setVelocitiesToTemperature(temperature)\n",
    "integrator.step(10)\n",
    "positions = context.getState(getPositions=True,enforcePeriodicBox=True).getPositions(asNumpy=True)"
   ]
  },
  {
   "cell_type": "code",
   "execution_count": 22,
   "metadata": {
    "collapsed": false,
    "scrolled": true
   },
   "outputs": [
    {
     "name": "stdout",
     "output_type": "stream",
     "text": [
      "Step 0 complete\n",
      "Identity counts: (493, 4, 4)\n",
      "Number of NaNs =  0\n",
      "Step 5 complete\n",
      "Identity counts: (473, 14, 14)\n",
      "Number of NaNs =  0\n",
      "\n",
      "Simulation time =  634\n",
      "Acceptance probability = 0.5\n",
      "NaNs =  0\n"
     ]
    }
   ],
   "source": [
    "# Cycles of MD and MC salt exchanges:\n",
    "iterations = 10        # Number of rounds of MD and constant salt moves\n",
    "nsteps = 100           # Amount of MD steps per iteration. 250000 steps = 500 picoseconds\n",
    "nattempts = 5        # Number of identity exchanges attempts per iteration \n",
    "printfreq = 5\n",
    "\n",
    "pdbfile = open('output.pdb', 'w')\n",
    "app.PDBFile.writeHeader(pdb.topology, file=pdbfile)\n",
    "app.PDBFile.writeModel(pdb.topology, positions, file=pdbfile, modelIndex=0)\n",
    "\n",
    "startTime = datetime.now()\n",
    "for i in range(iterations):\n",
    "    integrator.step(nsteps)\n",
    "    mc_saltswap.update(context,nattempts=nattempts)\n",
    "    positions = context.getState(getPositions=True,enforcePeriodicBox=True).getPositions(asNumpy=True)\n",
    "    app.PDBFile.writeModel(pdb.topology, positions, file=pdbfile, modelIndex=i+1)\n",
    "    if i%printfreq == 0:\n",
    "        print \"Step %i complete\" % i\n",
    "        print \"Identity counts:\", mc_saltswap.getIdentityCounts()\n",
    "        print \"Number of NaNs = \",mc_saltswap.nan\n",
    "        #mc_saltswap.resetStatistics(self)\n",
    "tm = datetime.now() - startTime\n",
    "\n",
    "print \"\\nSimulation time = \",tm.seconds\n",
    "print \"Acceptance probability =\",mc_saltswap.getAcceptanceProbability()\n",
    "print \"NaNs = \",mc_saltswap.nan"
   ]
  },
  {
   "cell_type": "markdown",
   "metadata": {
    "collapsed": false
   },
   "source": [
    "With iterations =100, nsteps = 10, nattampts =5:\n",
    "- No NCMC:\n",
    "    Simulation time =  7\n",
    "    Acceptance probability = 0.016\n",
    "- nkernals = 2, nverlet = 1:\n",
    "    Simulation time = 24\n",
    "    Acceptance probability = 0.09\n",
    "    - repeat:\n",
    "        Simulation time = 23\n",
    "        Acceptance probability = 0.04    \n",
    "- nkernals = 5, nverlet = 1:\n",
    "   Simulation blows up?\n",
    "- nkernals = 5, nverlet = 2:   \n",
    "    Simulation time = 74\n",
    "    Acceptance probability = 0.63\n",
    "    - repeat:\n",
    "        Simulation time = 74\n",
    "        Acceptance probability = 0.682\n",
    "- nkernals = 2, nverlet = 2\n",
    "    Simulation blows up?\n",
    "- nkernals = 10, nverlet = 2\n",
    "    Simulation time =  137\n",
    "    Acceptance probability = 0.07\n",
    "    - repeat:\n",
    "        Simulation time =  141\n",
    "        Acceptance probability = 0.062\n",
    "- nkernals = 5, nverlet = 5\n",
    "    Simulation time =  166\n",
    "    Acceptance probability = 0.06\n",
    "- nkernals = 100, nverlet = 10, deltachem=-630\n",
    "    Simulation time = 627\n",
    "    Acceptance probability = 0.50\n",
    "- nkernals = 1000, nverlet = 1, deltachem=-630\n",
    "    Simulation time = 640\n",
    "    Acceptance probability = 0.4\n",
    "    \n",
    "    \n",
    "With iterations =200, nsteps = 5000, nattampts =5:\n",
    " "
   ]
  },
  {
   "cell_type": "code",
   "execution_count": 8,
   "metadata": {
    "collapsed": false
   },
   "outputs": [
    {
     "data": {
      "text/plain": [
       "47"
      ]
     },
     "execution_count": 8,
     "metadata": {},
     "output_type": "execute_result"
    }
   ],
   "source": [
    "2833/60"
   ]
  }
 ],
 "metadata": {
  "kernelspec": {
   "display_name": "Python 2",
   "language": "python",
   "name": "python2"
  },
  "language_info": {
   "codemirror_mode": {
    "name": "ipython",
    "version": 2
   },
   "file_extension": ".py",
   "mimetype": "text/x-python",
   "name": "python",
   "nbconvert_exporter": "python",
   "pygments_lexer": "ipython2",
   "version": "2.7.11"
  }
 },
 "nbformat": 4,
 "nbformat_minor": 0
}
